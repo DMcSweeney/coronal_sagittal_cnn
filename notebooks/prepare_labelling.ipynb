{
 "cells": [
  {
   "cell_type": "code",
   "execution_count": 1,
   "id": "2ba0a834-6cb4-4f16-9736-ed1c73256812",
   "metadata": {},
   "outputs": [],
   "source": [
    "import os\n",
    "import re\n",
    "import numpy as np\n",
    "import pandas as pd\n",
    "import matplotlib.pyplot as plt\n",
    "import seaborn as sns\n",
    "import shutil\n",
    "import csv\n",
    "%matplotlib inline"
   ]
  },
  {
   "cell_type": "markdown",
   "id": "f38934f3-e558-49aa-9159-e4c57ed7a164",
   "metadata": {},
   "source": [
    "## Prepare labelling data"
   ]
  },
  {
   "cell_type": "markdown",
   "id": "902d5bd2-46bf-43c9-bc90-a66ca83b66ea",
   "metadata": {},
   "source": [
    "Heatmaps, masks + coords"
   ]
  },
  {
   "cell_type": "code",
   "execution_count": 2,
   "id": "0895475d-8218-47a1-bb00-501287d4c807",
   "metadata": {},
   "outputs": [],
   "source": [
    "ordered_verts = ['T4', 'T5', 'T6', 'T7', 'T8', 'T9', 'T10', 'T11', 'T12', 'L1', 'L2', 'L3', 'L4']"
   ]
  },
  {
   "cell_type": "code",
   "execution_count": 3,
   "id": "ca0e6343-be9b-4e67-b153-b96efed541ae",
   "metadata": {},
   "outputs": [],
   "source": [
    "sag_path = '/home/donal/PhD/initial_spines/CT_models/data/all_verts/'"
   ]
  },
  {
   "cell_type": "code",
   "execution_count": 4,
   "id": "34932fd1-8cf2-4e04-9a30-a29a21ae4bd5",
   "metadata": {},
   "outputs": [
    {
     "name": "stdout",
     "output_type": "stream",
     "text": [
      "data_list_q2.txt\n",
      "data_list_q4.txt\n",
      "data_list_q1.txt\n",
      "data_list_q3.txt\n",
      "['/home/donal/PhD/initial_spines/CT_models/data_lists/data_list_q2.txt', '/home/donal/PhD/initial_spines/CT_models/data_lists/data_list_q4.txt', '/home/donal/PhD/initial_spines/CT_models/data_lists/data_list_q1.txt', '/home/donal/PhD/initial_spines/CT_models/data_lists/data_list_q3.txt']\n"
     ]
    }
   ],
   "source": [
    "data_list_dir = '/home/donal/PhD/initial_spines/CT_models/data_lists/'\n",
    "data_lists = []\n",
    "for file in os.listdir(data_list_dir):\n",
    "    if '_q' in file:\n",
    "        print(file)\n",
    "        data_lists.append(data_list_dir + file)\n",
    "print(data_lists)"
   ]
  },
  {
   "cell_type": "code",
   "execution_count": 5,
   "id": "42452d46-5228-422a-84e4-af7e94e6d0e1",
   "metadata": {},
   "outputs": [],
   "source": [
    "def get_mask(pts_file):\n",
    "    #Get vert. body annotations\n",
    "    with open(pts_file, 'r') as f:\n",
    "        text = f.readlines()\n",
    "        lines = [line.strip() for line in text]\n",
    "        start = lines.index('{')\n",
    "        end = lines.index('}')\n",
    "        x = [float(x.split(' ')[0]) for x in lines[start+1:end]]\n",
    "        y = [float(x.split(' ')[1]) for x in lines[start+1:end]]\n",
    "        points = (x, y)\n",
    "    return points\n",
    "\n",
    "def get_id(data_list):\n",
    "    \"\"\"\n",
    "    Collect paths to point files, in a dict\n",
    "    \"\"\"\n",
    "    sag_files = [file for file in os.listdir(sag_path)]\n",
    "    pts_files = {}\n",
    "    with open(data_list, 'r') as f:\n",
    "        lines = f.readlines()\n",
    "        lines = [line.strip() for line in lines]\n",
    "        for line in lines:\n",
    "            pts, img = line.split(':')\n",
    "            id_ = pts.split('.')[0]\n",
    "            vert_list = list(filter(lambda x: f'{id_}' in x, sag_files))\n",
    "            volume_name = id_.split('_midline')[0] + '.nii'\n",
    "            pts_files[volume_name] = vert_list\n",
    "    return pts_files\n",
    "\n",
    "def get_points(pts_files):\n",
    "    \"\"\"\n",
    "     Get + organise annotations\n",
    "    \"\"\"\n",
    "    mask_dict = {} #All landmark annotations for making a mask of vert.\n",
    "    for key, val in pts_files.items():\n",
    "        name = f\"{key.split('.')[0]}\"\n",
    "        mask_dict[name] = {}\n",
    "        for elem in val:\n",
    "            # Iterate over available vert. annotations\n",
    "            # Find name of vertebra\n",
    "            name_split = re.findall('[0-9a-zA-Z][^A-Z]*',\n",
    "                                    os.path.splitext(elem)[0])\n",
    "            vert = name_split[-1].split('_')[0]\n",
    "            # Get all landmark point annotations\n",
    "            points = get_mask(os.path.join(sag_path, elem))\n",
    "            mask_dict[name][vert] = points\n",
    "    return mask_dict"
   ]
  },
  {
   "cell_type": "code",
   "execution_count": 6,
   "id": "f0745f52-0708-470c-88f9-92cd7f4237e8",
   "metadata": {},
   "outputs": [
    {
     "name": "stdout",
     "output_type": "stream",
     "text": [
      "/home/donal/PhD/initial_spines/CT_models/data_lists/data_list_q2.txt\n",
      "FOLD: q2\n",
      "Found 87 points files\n",
      "Found 87 patients w. full vert. annotations.\n",
      "/home/donal/PhD/initial_spines/CT_models/data_lists/data_list_q4.txt\n",
      "FOLD: q4\n",
      "Found 102 points files\n",
      "Found 102 patients w. full vert. annotations.\n",
      "/home/donal/PhD/initial_spines/CT_models/data_lists/data_list_q1.txt\n",
      "FOLD: q1\n",
      "Found 100 points files\n",
      "Found 100 patients w. full vert. annotations.\n",
      "/home/donal/PhD/initial_spines/CT_models/data_lists/data_list_q3.txt\n",
      "FOLD: q3\n",
      "Found 86 points files\n",
      "Found 86 patients w. full vert. annotations.\n"
     ]
    }
   ],
   "source": [
    "fold_data = {}\n",
    "for data_list in data_lists:\n",
    "    print(data_list)\n",
    "    num = data_list.split('/')[-1].split('.')[0].split('_')[-1]\n",
    "    pts_files = get_id(data_list)\n",
    "    print('FOLD:', num)\n",
    "    print(f'Found {len(list(pts_files.keys()))} points files')\n",
    "    mask_dict = get_points(pts_files)\n",
    "    print(f'Found {len(list(mask_dict.keys()))} patients w. full vert. annotations.')\n",
    "    fold_data[num] = mask_dict"
   ]
  },
  {
   "cell_type": "markdown",
   "id": "53ae2f4e-1109-40dc-90f1-e55a7b43f3b8",
   "metadata": {},
   "source": [
    "### Masks + input image"
   ]
  },
  {
   "cell_type": "code",
   "execution_count": 7,
   "id": "8f551b07-af83-4848-803c-f0f8bb3a8791",
   "metadata": {},
   "outputs": [],
   "source": [
    "from PIL import Image, ImageDraw\n",
    "from scipy.spatial import ConvexHull, Delaunay\n",
    "import SimpleITK as sitk"
   ]
  },
  {
   "cell_type": "code",
   "execution_count": 8,
   "id": "829eb352-aa05-4604-a50e-a72305eab484",
   "metadata": {},
   "outputs": [],
   "source": [
    "def points2frame(name, points_dict):\n",
    "    # Convert points into correct coordinate system (Scaling + padding)\n",
    "    vol = sitk.ReadImage(f'/data/PAB_data/ct_volumes/{name}.nii')\n",
    "    out_dict = {}\n",
    "    for vert, points in points_dict.items():\n",
    "        scale = vol.GetSpacing()[0]/1.25\n",
    "        padding =(512-vol.GetSize()[0]*scale)//2\n",
    "        x, y = points\n",
    "        x = [t * scale + padding for t in x]\n",
    "        y = [t* scale + padding for t in y]\n",
    "        out_dict[vert] = (x, y)\n",
    "    return out_dict\n",
    "\n",
    "def points2mask(points_dict):\n",
    "    # Convert points to mask by convexhull\n",
    "    mask_holder = mask_holder = np.zeros((512, 512, len(ordered_verts)+1), dtype=np.int16)\n",
    "    for vert, points in points_dict.items():\n",
    "        channel = ordered_verts.index(vert)\n",
    "        x, y = points\n",
    "        form_points = np.column_stack((x, y))\n",
    "        hull = ConvexHull(form_points)\n",
    "        indices = hull.vertices\n",
    "        hull_points = [(x, y) for x, y in form_points[indices, :]]\n",
    "        img = Image.new('I', (512, 512), 0)\n",
    "        ImageDraw.Draw(img).polygon(hull_points, outline=1, fill=1)\n",
    "        mask = np.array(img)\n",
    "        mask_holder[..., channel + 1] = np.flip(mask, axis=1)\n",
    "    return np.max(mask_holder, axis=-1)"
   ]
  },
  {
   "cell_type": "code",
   "execution_count": 9,
   "id": "3f899b06-87fc-479d-837c-7b3870ec8cef",
   "metadata": {},
   "outputs": [
    {
     "name": "stdout",
     "output_type": "stream",
     "text": [
      "q2\n"
     ]
    },
    {
     "ename": "KeyboardInterrupt",
     "evalue": "",
     "output_type": "error",
     "traceback": [
      "\u001b[0;31m---------------------------------------------------------------------------\u001b[0m",
      "\u001b[0;31mKeyboardInterrupt\u001b[0m                         Traceback (most recent call last)",
      "\u001b[0;32m<ipython-input-9-bca397c56585>\u001b[0m in \u001b[0;36m<module>\u001b[0;34m\u001b[0m\n\u001b[1;32m      6\u001b[0m         \u001b[0mimg\u001b[0m \u001b[0;34m=\u001b[0m \u001b[0mnp\u001b[0m\u001b[0;34m.\u001b[0m\u001b[0mload\u001b[0m\u001b[0;34m(\u001b[0m\u001b[0;34mf'../images_sagittal/all_projections/{name}.npy'\u001b[0m\u001b[0;34m)\u001b[0m\u001b[0;34m.\u001b[0m\u001b[0mastype\u001b[0m\u001b[0;34m(\u001b[0m\u001b[0mnp\u001b[0m\u001b[0;34m.\u001b[0m\u001b[0mfloat32\u001b[0m\u001b[0;34m)\u001b[0m\u001b[0;34m\u001b[0m\u001b[0;34m\u001b[0m\u001b[0m\n\u001b[1;32m      7\u001b[0m         \u001b[0mcat_img\u001b[0m \u001b[0;34m=\u001b[0m \u001b[0mnp\u001b[0m\u001b[0;34m.\u001b[0m\u001b[0mstack\u001b[0m\u001b[0;34m(\u001b[0m\u001b[0;34m[\u001b[0m\u001b[0mimg\u001b[0m\u001b[0;34m[\u001b[0m\u001b[0;34m...\u001b[0m\u001b[0;34m,\u001b[0m \u001b[0;36m0\u001b[0m\u001b[0;34m]\u001b[0m\u001b[0;34m,\u001b[0m \u001b[0mmidline\u001b[0m\u001b[0;34m,\u001b[0m \u001b[0mimg\u001b[0m\u001b[0;34m[\u001b[0m\u001b[0;34m...\u001b[0m\u001b[0;34m,\u001b[0m \u001b[0;36m2\u001b[0m\u001b[0;34m]\u001b[0m\u001b[0;34m]\u001b[0m\u001b[0;34m,\u001b[0m \u001b[0maxis\u001b[0m\u001b[0;34m=\u001b[0m\u001b[0;34m-\u001b[0m\u001b[0;36m1\u001b[0m\u001b[0;34m)\u001b[0m\u001b[0;34m\u001b[0m\u001b[0;34m\u001b[0m\u001b[0m\n\u001b[0;32m----> 8\u001b[0;31m         \u001b[0mpoints\u001b[0m \u001b[0;34m=\u001b[0m \u001b[0mpoints2frame\u001b[0m\u001b[0;34m(\u001b[0m\u001b[0mname\u001b[0m\u001b[0;34m,\u001b[0m \u001b[0mpoints_dict\u001b[0m\u001b[0;34m)\u001b[0m\u001b[0;34m\u001b[0m\u001b[0;34m\u001b[0m\u001b[0m\n\u001b[0m\u001b[1;32m      9\u001b[0m         \u001b[0mmask\u001b[0m \u001b[0;34m=\u001b[0m \u001b[0mpoints2mask\u001b[0m\u001b[0;34m(\u001b[0m\u001b[0mpoints\u001b[0m\u001b[0;34m)\u001b[0m\u001b[0;34m\u001b[0m\u001b[0;34m\u001b[0m\u001b[0m\n\u001b[1;32m     10\u001b[0m         \u001b[0mos\u001b[0m\u001b[0;34m.\u001b[0m\u001b[0mmakedirs\u001b[0m\u001b[0;34m(\u001b[0m\u001b[0;34mf'/data/PAB_data/vert_labelling/{fold}/targets/masks/'\u001b[0m\u001b[0;34m,\u001b[0m \u001b[0mexist_ok\u001b[0m\u001b[0;34m=\u001b[0m\u001b[0;32mTrue\u001b[0m\u001b[0;34m)\u001b[0m\u001b[0;34m\u001b[0m\u001b[0;34m\u001b[0m\u001b[0m\n",
      "\u001b[0;32m<ipython-input-8-bee38a8777a5>\u001b[0m in \u001b[0;36mpoints2frame\u001b[0;34m(name, points_dict)\u001b[0m\n\u001b[1;32m      1\u001b[0m \u001b[0;32mdef\u001b[0m \u001b[0mpoints2frame\u001b[0m\u001b[0;34m(\u001b[0m\u001b[0mname\u001b[0m\u001b[0;34m,\u001b[0m \u001b[0mpoints_dict\u001b[0m\u001b[0;34m)\u001b[0m\u001b[0;34m:\u001b[0m\u001b[0;34m\u001b[0m\u001b[0;34m\u001b[0m\u001b[0m\n\u001b[1;32m      2\u001b[0m     \u001b[0;31m# Convert points into correct coordinate system (Scaling + padding)\u001b[0m\u001b[0;34m\u001b[0m\u001b[0;34m\u001b[0m\u001b[0;34m\u001b[0m\u001b[0m\n\u001b[0;32m----> 3\u001b[0;31m     \u001b[0mvol\u001b[0m \u001b[0;34m=\u001b[0m \u001b[0msitk\u001b[0m\u001b[0;34m.\u001b[0m\u001b[0mReadImage\u001b[0m\u001b[0;34m(\u001b[0m\u001b[0;34mf'/data/PAB_data/ct_volumes/{name}.nii'\u001b[0m\u001b[0;34m)\u001b[0m\u001b[0;34m\u001b[0m\u001b[0;34m\u001b[0m\u001b[0m\n\u001b[0m\u001b[1;32m      4\u001b[0m     \u001b[0mout_dict\u001b[0m \u001b[0;34m=\u001b[0m \u001b[0;34m{\u001b[0m\u001b[0;34m}\u001b[0m\u001b[0;34m\u001b[0m\u001b[0;34m\u001b[0m\u001b[0m\n\u001b[1;32m      5\u001b[0m     \u001b[0;32mfor\u001b[0m \u001b[0mvert\u001b[0m\u001b[0;34m,\u001b[0m \u001b[0mpoints\u001b[0m \u001b[0;32min\u001b[0m \u001b[0mpoints_dict\u001b[0m\u001b[0;34m.\u001b[0m\u001b[0mitems\u001b[0m\u001b[0;34m(\u001b[0m\u001b[0;34m)\u001b[0m\u001b[0;34m:\u001b[0m\u001b[0;34m\u001b[0m\u001b[0;34m\u001b[0m\u001b[0m\n",
      "\u001b[0;32m~/anaconda3/envs/py36/lib/python3.6/site-packages/SimpleITK/extra.py\u001b[0m in \u001b[0;36mReadImage\u001b[0;34m(fileName, outputPixelType, imageIO)\u001b[0m\n\u001b[1;32m    344\u001b[0m     \u001b[0mreader\u001b[0m\u001b[0;34m.\u001b[0m\u001b[0mSetImageIO\u001b[0m\u001b[0;34m(\u001b[0m\u001b[0mimageIO\u001b[0m\u001b[0;34m)\u001b[0m\u001b[0;34m\u001b[0m\u001b[0;34m\u001b[0m\u001b[0m\n\u001b[1;32m    345\u001b[0m     \u001b[0mreader\u001b[0m\u001b[0;34m.\u001b[0m\u001b[0mSetOutputPixelType\u001b[0m\u001b[0;34m(\u001b[0m\u001b[0moutputPixelType\u001b[0m\u001b[0;34m)\u001b[0m\u001b[0;34m\u001b[0m\u001b[0;34m\u001b[0m\u001b[0m\n\u001b[0;32m--> 346\u001b[0;31m     \u001b[0;32mreturn\u001b[0m \u001b[0mreader\u001b[0m\u001b[0;34m.\u001b[0m\u001b[0mExecute\u001b[0m\u001b[0;34m(\u001b[0m\u001b[0;34m)\u001b[0m\u001b[0;34m\u001b[0m\u001b[0;34m\u001b[0m\u001b[0m\n\u001b[0m\u001b[1;32m    347\u001b[0m \u001b[0;34m\u001b[0m\u001b[0m\n\u001b[1;32m    348\u001b[0m \u001b[0;34m\u001b[0m\u001b[0m\n",
      "\u001b[0;32m~/anaconda3/envs/py36/lib/python3.6/site-packages/SimpleITK/SimpleITK.py\u001b[0m in \u001b[0;36mExecute\u001b[0;34m(self)\u001b[0m\n\u001b[1;32m   5777\u001b[0m     \u001b[0;32mdef\u001b[0m \u001b[0mExecute\u001b[0m\u001b[0;34m(\u001b[0m\u001b[0mself\u001b[0m\u001b[0;34m)\u001b[0m\u001b[0;34m:\u001b[0m\u001b[0;34m\u001b[0m\u001b[0;34m\u001b[0m\u001b[0m\n\u001b[1;32m   5778\u001b[0m         \u001b[0;34mr\"\"\"Execute(ImageFileReader self) -> Image\"\"\"\u001b[0m\u001b[0;34m\u001b[0m\u001b[0;34m\u001b[0m\u001b[0m\n\u001b[0;32m-> 5779\u001b[0;31m         \u001b[0;32mreturn\u001b[0m \u001b[0m_SimpleITK\u001b[0m\u001b[0;34m.\u001b[0m\u001b[0mImageFileReader_Execute\u001b[0m\u001b[0;34m(\u001b[0m\u001b[0mself\u001b[0m\u001b[0;34m)\u001b[0m\u001b[0;34m\u001b[0m\u001b[0;34m\u001b[0m\u001b[0m\n\u001b[0m\u001b[1;32m   5780\u001b[0m \u001b[0;34m\u001b[0m\u001b[0m\n\u001b[1;32m   5781\u001b[0m     \u001b[0;32mdef\u001b[0m \u001b[0mReadImageInformation\u001b[0m\u001b[0;34m(\u001b[0m\u001b[0mself\u001b[0m\u001b[0;34m)\u001b[0m\u001b[0;34m:\u001b[0m\u001b[0;34m\u001b[0m\u001b[0;34m\u001b[0m\u001b[0m\n",
      "\u001b[0;31mKeyboardInterrupt\u001b[0m: "
     ]
    }
   ],
   "source": [
    "for fold, mask_dict in fold_data.items():\n",
    "    print(fold)\n",
    "    for name, points_dict in mask_dict.items():\n",
    "        midline = np.load(f'/data/PAB_data/images_sagittal/sagittal_midline/{fold}/{name}.npy').astype(np.float32)\n",
    "        midline /=255\n",
    "        img = np.load(f'../images_sagittal/all_projections/{name}.npy').astype(np.float32)\n",
    "        cat_img = np.stack([img[..., 0], midline, img[..., 2]], axis=-1)\n",
    "        points = points2frame(name, points_dict)\n",
    "        mask = points2mask(points)\n",
    "#         os.makedirs(f'/data/PAB_data/vert_labelling/{fold}/targets/masks/', exist_ok=True)\n",
    "#         os.makedirs(f'/data/PAB_data/vert_labelling/{fold}/slices/', exist_ok=True)\n",
    "#         np.save(f'/data/PAB_data/vert_labelling/{fold}/targets/masks/{name}.npy', mask)\n",
    "#         np.save(f'/data/PAB_data/vert_labelling/{fold}/slices/{name}.npy', cat_img)\n",
    "#         plt.figure(figsize=(10,10))\n",
    "#         #plt.imshow(midline, cmap='gray')\n",
    "#         plt.imshow(cat_img)\n",
    "#         plt.imshow(mask, alpha=0.5)  \n",
    "#         break"
   ]
  },
  {
   "cell_type": "markdown",
   "id": "461d333f-06a3-4066-bff0-a44e74aeeeab",
   "metadata": {},
   "source": [
    "## Heatmaps + coords"
   ]
  },
  {
   "cell_type": "code",
   "execution_count": 35,
   "id": "dca2d6a7-34c9-473f-8704-726b27477918",
   "metadata": {},
   "outputs": [],
   "source": [
    "import scipy.stats as stats\n",
    "import scipy.ndimage as snd\n",
    "from scipy.ndimage import gaussian_filter"
   ]
  },
  {
   "cell_type": "code",
   "execution_count": 36,
   "id": "c3de90fa-cc2a-469e-8457-eb29b6ed9f33",
   "metadata": {},
   "outputs": [],
   "source": [
    "def point2heatmap(points):\n",
    "    heatmap_holder = np.zeros((512, 512, len(ordered_verts)+1), dtype=np.float32)\n",
    "    for vert, point in points.items():\n",
    "        channel = ordered_verts.index(vert) + 1\n",
    "        x, y = point\n",
    "        xd = np.linspace(0, 512, 512)\n",
    "        #gauss = np.array(stats.norm.pdf(xd, y, 10))[..., np.newaxis]\n",
    "        #tmp = np.tile(gauss, (1, 512)).astype(np.float32)/512\n",
    "        #gauss = stats.multivariate_normal.pdf(m)\n",
    "        tmp = np.zeros((512, 512))\n",
    "        tmp[round(y), round(x)] = 1\n",
    "        tmp = gaussian_filter(tmp, sigma=1)\n",
    "        heatmap_holder[..., channel] = tmp\n",
    "    bgd_channel = (np.max(heatmap_holder)-np.max(heatmap_holder, axis=-1))\n",
    "    heatmap_holder[..., 0] = bgd_channel/(np.sum(bgd_channel))\n",
    "    return heatmap_holder\n",
    "\n",
    "def get_coords(heatmaps):\n",
    "    values = [np.arange(0, 512, dtype=heatmaps.dtype)]\n",
    "    coords = linear_expectation(heatmaps, values)\n",
    "    return coords\n",
    "\n",
    "def linear_expectation(probs, values):\n",
    "    assert(len(values) == len(probs.shape) - 1)\n",
    "    expectation = []\n",
    "    for i in range(0, len(probs.shape)-1):\n",
    "        # Marginalise probabilities\n",
    "        marg = probs\n",
    "        for j in range(len(probs.shape)-1, 0, -1):\n",
    "            if i != j:\n",
    "                marg = marg.sum(j)\n",
    "        # Calculate expectation along axis `i`\n",
    "        expectation.append((512*marg * values[len(expectation)]).sum(-1))\n",
    "    return np.stack(expectation, -1)"
   ]
  },
  {
   "cell_type": "code",
   "execution_count": 43,
   "id": "e6b48626-9768-44e3-8014-bb4598ab3a51",
   "metadata": {},
   "outputs": [
    {
     "name": "stdout",
     "output_type": "stream",
     "text": [
      "q2\n"
     ]
    },
    {
     "ename": "AssertionError",
     "evalue": "",
     "output_type": "error",
     "traceback": [
      "\u001b[0;31m---------------------------------------------------------------------------\u001b[0m",
      "\u001b[0;31mAssertionError\u001b[0m                            Traceback (most recent call last)",
      "\u001b[0;32m<ipython-input-43-fcaf2d6ccf49>\u001b[0m in \u001b[0;36m<module>\u001b[0;34m\u001b[0m\n\u001b[1;32m     16\u001b[0m                 \u001b[0;32mcontinue\u001b[0m\u001b[0;34m\u001b[0m\u001b[0;34m\u001b[0m\u001b[0m\n\u001b[1;32m     17\u001b[0m             \u001b[0mvert\u001b[0m \u001b[0;34m=\u001b[0m \u001b[0mordered_verts\u001b[0m\u001b[0;34m[\u001b[0m\u001b[0mchan\u001b[0m \u001b[0;34m-\u001b[0m \u001b[0;36m1\u001b[0m\u001b[0;34m]\u001b[0m\u001b[0;34m\u001b[0m\u001b[0;34m\u001b[0m\u001b[0m\n\u001b[0;32m---> 18\u001b[0;31m             \u001b[0mcoords\u001b[0m \u001b[0;34m=\u001b[0m \u001b[0mget_coords\u001b[0m\u001b[0;34m(\u001b[0m\u001b[0mheatmap\u001b[0m\u001b[0;34m)\u001b[0m\u001b[0;34m\u001b[0m\u001b[0;34m\u001b[0m\u001b[0m\n\u001b[0m\u001b[1;32m     19\u001b[0m             \u001b[0mdsnt_coords\u001b[0m\u001b[0;34m[\u001b[0m\u001b[0mvert\u001b[0m\u001b[0;34m]\u001b[0m \u001b[0;34m=\u001b[0m \u001b[0;34m(\u001b[0m\u001b[0mcoords\u001b[0m\u001b[0;34m)\u001b[0m\u001b[0;34m\u001b[0m\u001b[0;34m\u001b[0m\u001b[0m\n\u001b[1;32m     20\u001b[0m \u001b[0;34m\u001b[0m\u001b[0m\n",
      "\u001b[0;32m<ipython-input-36-8d16ca1af38d>\u001b[0m in \u001b[0;36mget_coords\u001b[0;34m(heatmaps)\u001b[0m\n\u001b[1;32m     18\u001b[0m \u001b[0;32mdef\u001b[0m \u001b[0mget_coords\u001b[0m\u001b[0;34m(\u001b[0m\u001b[0mheatmaps\u001b[0m\u001b[0;34m)\u001b[0m\u001b[0;34m:\u001b[0m\u001b[0;34m\u001b[0m\u001b[0;34m\u001b[0m\u001b[0m\n\u001b[1;32m     19\u001b[0m     \u001b[0mvalues\u001b[0m \u001b[0;34m=\u001b[0m \u001b[0;34m[\u001b[0m\u001b[0mnp\u001b[0m\u001b[0;34m.\u001b[0m\u001b[0marange\u001b[0m\u001b[0;34m(\u001b[0m\u001b[0;36m0\u001b[0m\u001b[0;34m,\u001b[0m \u001b[0;36m512\u001b[0m\u001b[0;34m,\u001b[0m \u001b[0mdtype\u001b[0m\u001b[0;34m=\u001b[0m\u001b[0mheatmaps\u001b[0m\u001b[0;34m.\u001b[0m\u001b[0mdtype\u001b[0m\u001b[0;34m)\u001b[0m\u001b[0;34m]\u001b[0m\u001b[0;34m\u001b[0m\u001b[0;34m\u001b[0m\u001b[0m\n\u001b[0;32m---> 20\u001b[0;31m     \u001b[0mcoords\u001b[0m \u001b[0;34m=\u001b[0m \u001b[0mlinear_expectation\u001b[0m\u001b[0;34m(\u001b[0m\u001b[0mheatmaps\u001b[0m\u001b[0;34m,\u001b[0m \u001b[0mvalues\u001b[0m\u001b[0;34m)\u001b[0m\u001b[0;34m\u001b[0m\u001b[0;34m\u001b[0m\u001b[0m\n\u001b[0m\u001b[1;32m     21\u001b[0m     \u001b[0;32mreturn\u001b[0m \u001b[0mcoords\u001b[0m\u001b[0;34m\u001b[0m\u001b[0;34m\u001b[0m\u001b[0m\n\u001b[1;32m     22\u001b[0m \u001b[0;34m\u001b[0m\u001b[0m\n",
      "\u001b[0;32m<ipython-input-36-8d16ca1af38d>\u001b[0m in \u001b[0;36mlinear_expectation\u001b[0;34m(probs, values)\u001b[0m\n\u001b[1;32m     22\u001b[0m \u001b[0;34m\u001b[0m\u001b[0m\n\u001b[1;32m     23\u001b[0m \u001b[0;32mdef\u001b[0m \u001b[0mlinear_expectation\u001b[0m\u001b[0;34m(\u001b[0m\u001b[0mprobs\u001b[0m\u001b[0;34m,\u001b[0m \u001b[0mvalues\u001b[0m\u001b[0;34m)\u001b[0m\u001b[0;34m:\u001b[0m\u001b[0;34m\u001b[0m\u001b[0;34m\u001b[0m\u001b[0m\n\u001b[0;32m---> 24\u001b[0;31m     \u001b[0;32massert\u001b[0m\u001b[0;34m(\u001b[0m\u001b[0mlen\u001b[0m\u001b[0;34m(\u001b[0m\u001b[0mvalues\u001b[0m\u001b[0;34m)\u001b[0m \u001b[0;34m==\u001b[0m \u001b[0mlen\u001b[0m\u001b[0;34m(\u001b[0m\u001b[0mprobs\u001b[0m\u001b[0;34m.\u001b[0m\u001b[0mshape\u001b[0m\u001b[0;34m)\u001b[0m \u001b[0;34m-\u001b[0m \u001b[0;36m1\u001b[0m\u001b[0;34m)\u001b[0m\u001b[0;34m\u001b[0m\u001b[0;34m\u001b[0m\u001b[0m\n\u001b[0m\u001b[1;32m     25\u001b[0m     \u001b[0mexpectation\u001b[0m \u001b[0;34m=\u001b[0m \u001b[0;34m[\u001b[0m\u001b[0;34m]\u001b[0m\u001b[0;34m\u001b[0m\u001b[0;34m\u001b[0m\u001b[0m\n\u001b[1;32m     26\u001b[0m     \u001b[0;32mfor\u001b[0m \u001b[0mi\u001b[0m \u001b[0;32min\u001b[0m \u001b[0mrange\u001b[0m\u001b[0;34m(\u001b[0m\u001b[0;36m0\u001b[0m\u001b[0;34m,\u001b[0m \u001b[0mlen\u001b[0m\u001b[0;34m(\u001b[0m\u001b[0mprobs\u001b[0m\u001b[0;34m.\u001b[0m\u001b[0mshape\u001b[0m\u001b[0;34m)\u001b[0m\u001b[0;34m-\u001b[0m\u001b[0;36m1\u001b[0m\u001b[0;34m)\u001b[0m\u001b[0;34m:\u001b[0m\u001b[0;34m\u001b[0m\u001b[0;34m\u001b[0m\u001b[0m\n",
      "\u001b[0;31mAssertionError\u001b[0m: "
     ]
    }
   ],
   "source": [
    "for fold, mask_dict in fold_data.items():\n",
    "    print(fold)\n",
    "    for name, points_dict in mask_dict.items():\n",
    "        midline = np.load(f'/data/PAB_data/images_sagittal/sagittal_midline/{fold}/{name}.npy').astype(np.float32)\n",
    "        midline /= 255\n",
    "        \n",
    "        points = points2frame(name, points_dict)\n",
    "        centre_points = {}\n",
    "        for level, pts in points.items():\n",
    "            centre_points[level] = (512- np.mean(pts[0]), np.mean(pts[1]))\n",
    "        \n",
    "        heatmap = point2heatmap(centre_points)    \n",
    "        dsnt_coords = {}\n",
    "        for chan in range(heatmap.shape[-1]):\n",
    "            if chan == 0:\n",
    "                continue\n",
    "            vert = ordered_verts[chan - 1]\n",
    "            coords = get_coords(heatmap)\n",
    "            dsnt_coords[vert] = (coords)\n",
    "            \n",
    "        os.makedirs(f'/data/PAB_data/vert_labelling/{fold}/targets/heatmaps/', exist_ok=True)\n",
    "        os.makedirs(f'/data/PAB_data/vert_labelling/{fold}/targets/coordinates/', exist_ok=True)\n",
    "        #np.save(f'/data/PAB_data/vert_labelling/{fold}/targets/heatmaps/{name}.npy', heatmap)\n",
    "        \n",
    "#         with open(f'/data/PAB_data/vert_labelling/{fold}/targets/coordinates/{name}.csv', 'w') as f:\n",
    "#             wrt = csv.writer(f, dialect='excel')\n",
    "#             wrt.writerow(['Level', 'X', 'Y'])\n",
    "#             for vert in ordered_verts:\n",
    "#                 if vert not in centre_points: continue\n",
    "#                 x, y = centre_points[vert]\n",
    "#                 wrt.writerow([vert, x, y])\n",
    "    \n",
    "    \n",
    "        fig, ax = plt.subplots(1, 1, figsize=(20, 20))\n",
    "        ax.imshow(midline, cmap='gray')\n",
    "        ax.imshow(np.argmax(heatmap, axis=-1), alpha=0.5)\n",
    "        for vert, point in centre_points.items():\n",
    "            ax.scatter(*point, s=20, c='y', marker='*')\n",
    "            ax.text(*point, vert, c='r', size=15)\n",
    "        \n",
    "        for vert, y in dsnt_coords.items():\n",
    "            ax.scatter(256, y, s=20, c='r', marker='+')\n",
    "            ax.text(256, y, vert, c='y', size=15)\n",
    "\n",
    "        break\n",
    "        \n",
    "        "
   ]
  }
 ],
 "metadata": {
  "kernelspec": {
   "display_name": "Python 3",
   "language": "python",
   "name": "python3"
  },
  "language_info": {
   "codemirror_mode": {
    "name": "ipython",
    "version": 3
   },
   "file_extension": ".py",
   "mimetype": "text/x-python",
   "name": "python",
   "nbconvert_exporter": "python",
   "pygments_lexer": "ipython3",
   "version": "3.6.13"
  }
 },
 "nbformat": 4,
 "nbformat_minor": 5
}
