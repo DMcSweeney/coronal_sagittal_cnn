{
 "cells": [
  {
   "cell_type": "code",
   "execution_count": 1,
   "id": "2ba0a834-6cb4-4f16-9736-ed1c73256812",
   "metadata": {},
   "outputs": [],
   "source": [
    "import os\n",
    "import re\n",
    "import numpy as np\n",
    "import pandas as pd\n",
    "import matplotlib.pyplot as plt\n",
    "import seaborn as sns\n",
    "import shutil\n",
    "import csv\n",
    "%matplotlib inline"
   ]
  },
  {
   "cell_type": "markdown",
   "id": "f38934f3-e558-49aa-9159-e4c57ed7a164",
   "metadata": {},
   "source": [
    "## Prepare labelling data"
   ]
  },
  {
   "cell_type": "markdown",
   "id": "902d5bd2-46bf-43c9-bc90-a66ca83b66ea",
   "metadata": {},
   "source": [
    "Heatmaps, masks + coords"
   ]
  },
  {
   "cell_type": "code",
   "execution_count": 2,
   "id": "0895475d-8218-47a1-bb00-501287d4c807",
   "metadata": {},
   "outputs": [],
   "source": [
    "ordered_verts = ['T4', 'T5', 'T6', 'T7', 'T8', 'T9', 'T10', 'T11', 'T12', 'L1', 'L2', 'L3', 'L4']"
   ]
  },
  {
   "cell_type": "code",
   "execution_count": 3,
   "id": "ca0e6343-be9b-4e67-b153-b96efed541ae",
   "metadata": {},
   "outputs": [],
   "source": [
    "sag_path = '/home/donal/PhD/initial_spines/CT_models/data/all_verts/'"
   ]
  },
  {
   "cell_type": "code",
   "execution_count": 4,
   "id": "34932fd1-8cf2-4e04-9a30-a29a21ae4bd5",
   "metadata": {},
   "outputs": [
    {
     "name": "stdout",
     "output_type": "stream",
     "text": [
      "data_list_q2.txt\n",
      "data_list_q4.txt\n",
      "data_list_q1.txt\n",
      "data_list_q3.txt\n",
      "['/home/donal/PhD/initial_spines/CT_models/data_lists/data_list_q2.txt', '/home/donal/PhD/initial_spines/CT_models/data_lists/data_list_q4.txt', '/home/donal/PhD/initial_spines/CT_models/data_lists/data_list_q1.txt', '/home/donal/PhD/initial_spines/CT_models/data_lists/data_list_q3.txt']\n"
     ]
    }
   ],
   "source": [
    "data_list_dir = '/home/donal/PhD/initial_spines/CT_models/data_lists/'\n",
    "data_lists = []\n",
    "for file in os.listdir(data_list_dir):\n",
    "    if '_q' in file:\n",
    "        print(file)\n",
    "        data_lists.append(data_list_dir + file)\n",
    "print(data_lists)"
   ]
  },
  {
   "cell_type": "code",
   "execution_count": 7,
   "id": "42452d46-5228-422a-84e4-af7e94e6d0e1",
   "metadata": {},
   "outputs": [],
   "source": [
    "def get_mask(pts_file):\n",
    "    #Get vert. body annotations\n",
    "    with open(pts_file, 'r') as f:\n",
    "        text = f.readlines()\n",
    "        lines = [line.strip() for line in text]\n",
    "        start = lines.index('{')\n",
    "        end = lines.index('}')\n",
    "        x = [float(x.split(' ')[0]) for x in lines[start+1:end]]\n",
    "        y = [float(x.split(' ')[1]) for x in lines[start+1:end]]\n",
    "        points = (x, y)\n",
    "    return points\n",
    "\n",
    "def get_id(data_list):\n",
    "    \"\"\"\n",
    "    Collect paths to point files, in a dict\n",
    "    \"\"\"\n",
    "    sag_files = [file for file in os.listdir(sag_path)]\n",
    "    pts_files = {}\n",
    "    with open(data_list, 'r') as f:\n",
    "        lines = f.readlines()\n",
    "        lines = [line.strip() for line in lines]\n",
    "        for line in lines:\n",
    "            pts, img = line.split(':')\n",
    "            id_ = pts.split('.')[0]\n",
    "            vert_list = list(filter(lambda x: f'{id_}' in x, sag_files))\n",
    "            volume_name = id_.split('_midline')[0] + '.nii'\n",
    "            pts_files[volume_name] = vert_list\n",
    "    return pts_files\n",
    "\n",
    "def get_points(pts_files, level=None):\n",
    "    \"\"\"\n",
    "     Get + organise annotations\n",
    "    \"\"\"\n",
    "    mask_dict = {} #All landmark annotations for making a mask of vert.\n",
    "    for key, val in pts_files.items():\n",
    "        name = f\"{key.split('.')[0]}\"\n",
    "        mask_dict[name] = {}\n",
    "        for elem in val:\n",
    "            # Iterate over available vert. annotations\n",
    "            # Find name of vertebra\n",
    "            name_split = re.findall('[0-9a-zA-Z][^A-Z]*',\n",
    "                                    os.path.splitext(elem)[0])\n",
    "            vert = name_split[-1].split('_')[0]\n",
    "            if level is not None and vert != level: continue\n",
    "            # Get all landmark point annotations\n",
    "            points = get_mask(os.path.join(sag_path, elem))\n",
    "            mask_dict[name][vert] = points\n",
    "        if level is not None and level not in mask_dict[name]:\n",
    "            del mask_dict[name]\n",
    "    return mask_dict"
   ]
  },
  {
   "cell_type": "code",
   "execution_count": 8,
   "id": "f0745f52-0708-470c-88f9-92cd7f4237e8",
   "metadata": {},
   "outputs": [
    {
     "name": "stdout",
     "output_type": "stream",
     "text": [
      "/home/donal/PhD/initial_spines/CT_models/data_lists/data_list_q2.txt\n",
      "FOLD: q2\n",
      "Found 87 points files\n",
      "Found 65 patients w. full vert. annotations.\n",
      "/home/donal/PhD/initial_spines/CT_models/data_lists/data_list_q4.txt\n",
      "FOLD: q4\n",
      "Found 102 points files\n",
      "Found 75 patients w. full vert. annotations.\n",
      "/home/donal/PhD/initial_spines/CT_models/data_lists/data_list_q1.txt\n",
      "FOLD: q1\n",
      "Found 100 points files\n",
      "Found 72 patients w. full vert. annotations.\n",
      "/home/donal/PhD/initial_spines/CT_models/data_lists/data_list_q3.txt\n",
      "FOLD: q3\n",
      "Found 86 points files\n",
      "Found 67 patients w. full vert. annotations.\n"
     ]
    }
   ],
   "source": [
    "fold_data = {}\n",
    "for data_list in data_lists:\n",
    "    print(data_list)\n",
    "    num = data_list.split('/')[-1].split('.')[0].split('_')[-1]\n",
    "    pts_files = get_id(data_list)\n",
    "    print('FOLD:', num)\n",
    "    print(f'Found {len(list(pts_files.keys()))} points files')\n",
    "    mask_dict = get_points(pts_files, level='T12')\n",
    "    print(f'Found {len(list(mask_dict.keys()))} patients w. full vert. annotations.')\n",
    "    fold_data[num] = mask_dict"
   ]
  },
  {
   "cell_type": "markdown",
   "id": "53ae2f4e-1109-40dc-90f1-e55a7b43f3b8",
   "metadata": {},
   "source": [
    "### Masks + input image"
   ]
  },
  {
   "cell_type": "code",
   "execution_count": 9,
   "id": "8f551b07-af83-4848-803c-f0f8bb3a8791",
   "metadata": {},
   "outputs": [],
   "source": [
    "from PIL import Image, ImageDraw\n",
    "from scipy.spatial import ConvexHull, Delaunay\n",
    "import SimpleITK as sitk"
   ]
  },
  {
   "cell_type": "code",
   "execution_count": 10,
   "id": "829eb352-aa05-4604-a50e-a72305eab484",
   "metadata": {},
   "outputs": [],
   "source": [
    "def points2frame(name, points_dict):\n",
    "    # Convert points into correct coordinate system (Scaling + padding)\n",
    "    vol = sitk.ReadImage(f'/data/PAB_data/ct_volumes/{name}.nii')\n",
    "    out_dict = {}\n",
    "    for vert, points in points_dict.items():\n",
    "        scale = vol.GetSpacing()[0]/1.25\n",
    "        padding =(512-vol.GetSize()[0]*scale)//2\n",
    "        x, y = points\n",
    "        x = [t * scale + padding for t in x]\n",
    "        y = [t* scale + padding for t in y]\n",
    "        out_dict[vert] = (x, y)\n",
    "    return out_dict\n",
    "\n",
    "def points2mask(points_dict):\n",
    "    # Convert points to mask by convexhull\n",
    "    mask_holder = mask_holder = np.zeros((512, 512, len(ordered_verts)+1), dtype=np.int16)\n",
    "    for vert, points in points_dict.items():\n",
    "        channel = ordered_verts.index(vert)\n",
    "        x, y = points\n",
    "        form_points = np.column_stack((x, y))\n",
    "        hull = ConvexHull(form_points)\n",
    "        indices = hull.vertices\n",
    "        hull_points = [(x, y) for x, y in form_points[indices, :]]\n",
    "        img = Image.new('I', (512, 512), 0)\n",
    "        ImageDraw.Draw(img).polygon(hull_points, outline=1, fill=1)\n",
    "        mask = np.array(img)\n",
    "        mask_holder[..., channel + 1] = np.flip(mask, axis=1)\n",
    "    return np.argmax(mask_holder, axis=-1)"
   ]
  },
  {
   "cell_type": "code",
   "execution_count": 12,
   "id": "3f899b06-87fc-479d-837c-7b3870ec8cef",
   "metadata": {},
   "outputs": [
    {
     "name": "stdout",
     "output_type": "stream",
     "text": [
      "q2\n",
      "q4\n",
      "q1\n",
      "q3\n"
     ]
    }
   ],
   "source": [
    "for fold, mask_dict in fold_data.items():\n",
    "    print(fold)\n",
    "    for name, points_dict in mask_dict.items():\n",
    "        midline = np.load(f'/data/PAB_data/images_sagittal/sagittal_midline/{fold}/{name}.npy').astype(np.float32)\n",
    "        midline /=255\n",
    "        img = np.load(f'../images_sagittal/all_projections/{name}.npy').astype(np.float32)\n",
    "        cat_img = np.stack([img[..., 0], midline, img[..., 2]], axis=-1)\n",
    "        points = points2frame(name, points_dict)\n",
    "        mask = points2mask(points)\n",
    "        os.makedirs(f'/data/PAB_data/vert_labelling_T12/{fold}/targets/masks/', exist_ok=True)\n",
    "        os.makedirs(f'/data/PAB_data/vert_labelling_T12/{fold}/slices/', exist_ok=True)\n",
    "        np.save(f'/data/PAB_data/vert_labelling_T12/{fold}/targets/masks/{name}.npy', mask)\n",
    "        np.save(f'/data/PAB_data/vert_labelling_T12/{fold}/slices/{name}.npy', cat_img)\n",
    "#         plt.figure(figsize=(10,10))\n",
    "#         #plt.imshow(midline, cmap='gray')\n",
    "#         plt.imshow(cat_img)\n",
    "#         plt.imshow(mask, alpha=0.5)  \n",
    "#         break\n",
    "#     break"
   ]
  },
  {
   "cell_type": "markdown",
   "id": "461d333f-06a3-4066-bff0-a44e74aeeeab",
   "metadata": {},
   "source": [
    "## Heatmaps + coords"
   ]
  },
  {
   "cell_type": "code",
   "execution_count": 13,
   "id": "dca2d6a7-34c9-473f-8704-726b27477918",
   "metadata": {},
   "outputs": [],
   "source": [
    "import scipy.stats as stats\n",
    "import scipy.ndimage as snd\n",
    "from scipy.ndimage import gaussian_filter\n",
    "import torch.nn.functional as F\n",
    "from operator import mul\n",
    "from functools import reduce"
   ]
  },
  {
   "cell_type": "code",
   "execution_count": 14,
   "id": "c3de90fa-cc2a-469e-8457-eb29b6ed9f33",
   "metadata": {},
   "outputs": [],
   "source": [
    "def point2heatmap(points):\n",
    "    heatmap_holder = np.zeros((512, 512, len(ordered_verts)+1), dtype=np.float32)\n",
    "    for vert, point in points.items():\n",
    "        channel = ordered_verts.index(vert) + 1\n",
    "        x, y = point\n",
    "        xd = np.linspace(0, 512, 512)\n",
    "        #gauss = np.array(stats.norm.pdf(xd, y, 10))[..., np.newaxis]\n",
    "        #tmp = np.tile(gauss, (1, 512)).astype(np.float32)/512\n",
    "        #gauss = stats.multivariate_normal.pdf(m)\n",
    "        tmp = np.zeros((512, 512))\n",
    "        tmp[round(y), round(x)] = 1\n",
    "        tmp = gaussian_filter(tmp, sigma=5)\n",
    "        heatmap_holder[..., channel] = tmp\n",
    "    return heatmap_holder\n",
    "\n",
    "def get_coords(heatmap):\n",
    "    #norm_map = dsntnn.flat_softmax(heatmap)\n",
    "    return dsntnn.dsnt(heatmap, normalized_coordinates=False)\n"
   ]
  },
  {
   "cell_type": "code",
   "execution_count": 15,
   "id": "f5f8f0df-ad55-423d-a2a3-70e02f26fddd",
   "metadata": {},
   "outputs": [],
   "source": [
    "import dsntnn\n",
    "import torch"
   ]
  },
  {
   "cell_type": "code",
   "execution_count": 18,
   "id": "e6b48626-9768-44e3-8014-bb4598ab3a51",
   "metadata": {
    "tags": []
   },
   "outputs": [
    {
     "name": "stdout",
     "output_type": "stream",
     "text": [
      "q2\n",
      "q4\n",
      "q1\n",
      "q3\n"
     ]
    }
   ],
   "source": [
    "for fold, mask_dict in fold_data.items():\n",
    "    print(fold)\n",
    "    for name, points_dict in mask_dict.items():\n",
    "        midline = np.load(f'/data/PAB_data/images_sagittal/sagittal_midline/{fold}/{name}.npy').astype(np.float32)\n",
    "        midline /= 255\n",
    "        \n",
    "        points = points2frame(name, points_dict)\n",
    "        centre_points = {}\n",
    "        for level, pts in points.items():\n",
    "            centre_points[level] = (512- np.mean(pts[0]), np.mean(pts[1]))\n",
    "        \n",
    "        heatmap = np.moveaxis(point2heatmap(centre_points), -1, 0)[np.newaxis]\n",
    "        #heatmap = dsntnn.flat_softmax(torch.tensor(heatmap)).numpy()\n",
    "        \n",
    "        dsnt_coords = get_coords(torch.tensor(heatmap)).numpy()\n",
    "        os.makedirs(f'/data/PAB_data/vert_labelling_T12/{fold}/targets/heatmaps/', exist_ok=True)\n",
    "        os.makedirs(f'/data/PAB_data/vert_labelling_T12/{fold}/targets/coordinates/', exist_ok=True)\n",
    "        np.save(f'/data/PAB_data/vert_labelling_T12/{fold}/targets/heatmaps/{name}.npy', np.squeeze(heatmap))\n",
    "        \n",
    "        \n",
    "        with open(f'/data/PAB_data/vert_labelling_T12/{fold}/targets/coordinates/{name}.csv', 'w') as f:\n",
    "            wrt = csv.writer(f, dialect='excel')\n",
    "            wrt.writerow(['Level', 'X', 'Y'])\n",
    "            for vert in ordered_verts:\n",
    "                if vert not in centre_points: continue\n",
    "                x, y = centre_points[vert]\n",
    "                wrt.writerow([vert, x, y])\n",
    "    \n",
    "#         cmap = sns.cubehelix_palette(start=1.5, rot=-1.5, gamma=0.8, as_cmap=True)\n",
    "#         fig, ax = plt.subplots(1, 1, figsize=(10, 10))\n",
    "#         ax.imshow(midline, cmap='gray')\n",
    "#         #ax.imshow(np.argmax(heatmap, axis=1)[0], alpha=0.5)\n",
    "#         ax.imshow(np.max(heatmap, axis=1)[0], alpha=0.5, cmap=cmap)\n",
    "        \n",
    "# #         for vert, point in centre_points.items():\n",
    "# #             ax.scatter(*point, s=20, c='y', marker='*')\n",
    "# #             ax.text(*point, vert, c='r', size=15)\n",
    "    \n",
    "#         for channel in range(dsnt_coords.shape[1]):\n",
    "#             x, y = dsnt_coords[0, channel]\n",
    "#             ax.scatter(x, y, s=20, c='r', marker='+')\n",
    "#             if channel == 0: continue\n",
    "#             vert = ordered_verts[channel - 1]\n",
    "#             ax.text(x, y, vert, c='y', size=15)\n",
    "#         break\n",
    "#     break"
   ]
  }
 ],
 "metadata": {
  "kernelspec": {
   "display_name": "Python 3",
   "language": "python",
   "name": "python3"
  },
  "language_info": {
   "codemirror_mode": {
    "name": "ipython",
    "version": 3
   },
   "file_extension": ".py",
   "mimetype": "text/x-python",
   "name": "python",
   "nbconvert_exporter": "python",
   "pygments_lexer": "ipython3",
   "version": "3.6.13"
  }
 },
 "nbformat": 4,
 "nbformat_minor": 5
}
