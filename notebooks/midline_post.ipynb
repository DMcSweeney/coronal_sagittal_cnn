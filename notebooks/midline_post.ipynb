{
 "cells": [
  {
   "cell_type": "code",
   "execution_count": 1,
   "id": "5a019a9e-c497-47cb-a2ea-ad7fa81df382",
   "metadata": {},
   "outputs": [],
   "source": [
    "import os\n",
    "import numpy as np\n",
    "import pandas as pd\n",
    "import matplotlib\n",
    "import matplotlib.pyplot as plt\n",
    "import seaborn as sns\n",
    "import ipywidgets as widgets\n",
    "from ipywidgets import interact"
   ]
  },
  {
   "cell_type": "code",
   "execution_count": 2,
   "id": "272b3745-acd2-4f72-9fca-853af25d79fe",
   "metadata": {},
   "outputs": [],
   "source": [
    "import matplotlib\n",
    "font = {'family' : 'serif',\n",
    "        'weight' : 'normal',\n",
    "        'size'   : 15}\n",
    "\n",
    "matplotlib.rc('font', **font)"
   ]
  },
  {
   "cell_type": "code",
   "execution_count": 3,
   "id": "f24656df-00f5-4c89-9928-53a873a90f5f",
   "metadata": {},
   "outputs": [],
   "source": [
    "ordered_verts = ['T4', 'T5', 'T6', 'T7', 'T8', 'T9', 'T10', 'T11', 'T12', 'L1', 'L2', 'L3', 'L4']"
   ]
  },
  {
   "cell_type": "markdown",
   "id": "f471925b-924e-46b9-8be9-3e08c5da70a7",
   "metadata": {},
   "source": [
    "## Concat. all preds"
   ]
  },
  {
   "cell_type": "code",
   "execution_count": 4,
   "id": "7a4d88d5-bada-4480-97e4-9cbca62ca81a",
   "metadata": {},
   "outputs": [
    {
     "name": "stdout",
     "output_type": "stream",
     "text": [
      "/data/PAB_data/midline_data/q4\n",
      "/data/PAB_data/midline_data/q2\n",
      "/data/PAB_data/midline_data/q3\n",
      "/data/PAB_data/midline_data/q1\n"
     ]
    },
    {
     "data": {
      "text/html": [
       "<div>\n",
       "<style scoped>\n",
       "    .dataframe tbody tr th:only-of-type {\n",
       "        vertical-align: middle;\n",
       "    }\n",
       "\n",
       "    .dataframe tbody tr th {\n",
       "        vertical-align: top;\n",
       "    }\n",
       "\n",
       "    .dataframe thead th {\n",
       "        text-align: right;\n",
       "    }\n",
       "</style>\n",
       "<table border=\"1\" class=\"dataframe\">\n",
       "  <thead>\n",
       "    <tr style=\"text-align: right;\">\n",
       "      <th></th>\n",
       "      <th>pid</th>\n",
       "      <th>Fold</th>\n",
       "    </tr>\n",
       "  </thead>\n",
       "  <tbody>\n",
       "    <tr>\n",
       "      <th>0</th>\n",
       "      <td>27_05_2014_96_Sag_IVC</td>\n",
       "      <td>q4</td>\n",
       "    </tr>\n",
       "    <tr>\n",
       "      <th>1</th>\n",
       "      <td>fr_608_LS_Sag</td>\n",
       "      <td>q4</td>\n",
       "    </tr>\n",
       "    <tr>\n",
       "      <th>2</th>\n",
       "      <td>23_05_2014_149_Sag_LS</td>\n",
       "      <td>q4</td>\n",
       "    </tr>\n",
       "    <tr>\n",
       "      <th>3</th>\n",
       "      <td>fr_615_TS_Sag</td>\n",
       "      <td>q4</td>\n",
       "    </tr>\n",
       "    <tr>\n",
       "      <th>4</th>\n",
       "      <td>27_05_2014_113_Sag</td>\n",
       "      <td>q4</td>\n",
       "    </tr>\n",
       "  </tbody>\n",
       "</table>\n",
       "</div>"
      ],
      "text/plain": [
       "                     pid Fold\n",
       "0  27_05_2014_96_Sag_IVC   q4\n",
       "1          fr_608_LS_Sag   q4\n",
       "2  23_05_2014_149_Sag_LS   q4\n",
       "3          fr_615_TS_Sag   q4\n",
       "4     27_05_2014_113_Sag   q4"
      ]
     },
     "metadata": {},
     "output_type": "display_data"
    },
    {
     "name": "stdout",
     "output_type": "stream",
     "text": [
      "375\n"
     ]
    }
   ],
   "source": [
    "ids = []\n",
    "masks = []\n",
    "fold_df = pd.DataFrame(columns=['pid', 'Fold'])\n",
    "for root, dir_, files in os.walk('/data/PAB_data/midline_data/'):\n",
    "    if 'midline_finder_preds.npz' in files:\n",
    "        tmp = pd.DataFrame(columns=['pid', 'Fold'])\n",
    "        print(root)\n",
    "        fold = root.split('/')[-1]\n",
    "        data = np.load(os.path.join(root, 'midline_finder_preds.npz'))\n",
    "        id_list = [''.join(elem) for elem in data['ids']]\n",
    "        ids.extend(id_list)\n",
    "        masks.extend(data['masks'])\n",
    "        tmp['pid'] = id_list\n",
    "        tmp['Fold'] = fold\n",
    "        fold_df = fold_df.append(tmp)\n",
    "display(fold_df.head())\n",
    "all_data = {ids[i]: masks[i] for i in range(len(ids))}\n",
    "print(len(list(all_data.keys())))"
   ]
  },
  {
   "cell_type": "markdown",
   "id": "da41e723-7da5-4d38-9c43-bb90c44a1bf5",
   "metadata": {},
   "source": [
    "## Post-processing for midline finder"
   ]
  },
  {
   "cell_type": "code",
   "execution_count": 5,
   "id": "192660a1-3632-4812-a1db-3d165ad19732",
   "metadata": {},
   "outputs": [],
   "source": [
    "from skimage import measure\n",
    "from scipy import interpolate\n",
    "from scipy.ndimage import gaussian_filter"
   ]
  },
  {
   "cell_type": "code",
   "execution_count": 6,
   "id": "b124c82a-5b91-4591-a6e2-4d6100ee0657",
   "metadata": {},
   "outputs": [
    {
     "name": "stdout",
     "output_type": "stream",
     "text": [
      "['ids', 'masks']\n"
     ]
    },
    {
     "data": {
      "text/plain": [
       "((100,), (100, 1, 512, 512))"
      ]
     },
     "execution_count": 6,
     "metadata": {},
     "output_type": "execute_result"
    }
   ],
   "source": [
    "preds = np.load('/data/PAB_data/midline_data/q1/midline_finder_preds.npz')\n",
    "print(list(preds.keys()))\n",
    "ids, masks= preds.values()\n",
    "ids.shape, masks.shape"
   ]
  },
  {
   "cell_type": "code",
   "execution_count": 7,
   "id": "fe1dcfae-defd-4ecb-9f4e-1da8eb425838",
   "metadata": {},
   "outputs": [],
   "source": [
    "def sigmoid(x):\n",
    "    return 1/(1+np.exp(-x))"
   ]
  },
  {
   "cell_type": "markdown",
   "id": "2252630e-0c4b-4df2-a520-bd29bc1e398b",
   "metadata": {},
   "source": [
    "### Plot predictions"
   ]
  },
  {
   "cell_type": "code",
   "execution_count": 8,
   "id": "0706eb3f-7423-4544-a025-6fb1c594e7f6",
   "metadata": {},
   "outputs": [
    {
     "data": {
      "application/vnd.jupyter.widget-view+json": {
       "model_id": "5b01227043974d38a9ee6a9318835a73",
       "version_major": 2,
       "version_minor": 0
      },
      "text/plain": [
       "interactive(children=(Dropdown(description='name', options=('01_06_2014_363_Sag', '01_06_2014_364_Sag', '01_06…"
      ]
     },
     "metadata": {},
     "output_type": "display_data"
    }
   ],
   "source": [
    "@interact\n",
    "def plot_mask(name=sorted(list(ids))):\n",
    "    img = np.load(f'/data/PAB_data/midline_data/q1/slices/{name}.npy')\n",
    "    fig, ax = plt.subplots(1,1, figsize=(9, 9))\n",
    "    ax.axis('off')\n",
    "    n = list(ids).index(name)\n",
    "    mask = sigmoid(masks[n, 0])\n",
    "    norm_mask = np.where(mask < 0.5, np.nan, 1.0)\n",
    "    # 0: MIP, 1: MIDLINE, 2:STD\n",
    "    ax.imshow(img, cmap='gray')\n",
    "    ax.imshow(norm_mask, alpha=0.5, cmap='viridis')"
   ]
  },
  {
   "cell_type": "markdown",
   "id": "b7e7cf1e-37c1-45e2-9bb9-63f4ac78be78",
   "metadata": {},
   "source": [
    "### Plot midline"
   ]
  },
  {
   "cell_type": "code",
   "execution_count": 9,
   "id": "4d7cddf7-3fb4-4bf4-b022-8ac339bbbc5b",
   "metadata": {},
   "outputs": [],
   "source": [
    "def mask2midline(pred, N=20):\n",
    "    # Get center of contours for line fitting\n",
    "    x_template = np.zeros_like(pred)\n",
    "    y_template = np.zeros_like(pred)\n",
    "    for x in range(x_template.shape[0]):\n",
    "        x_template[:, x] = x\n",
    "        y_template[x] = x\n",
    "    norm_pred = np.where(pred < 0.5, 0, 1.0) # Binarise mask\n",
    "    exp_x = x_template*norm_pred\n",
    "    \n",
    "    x_list = []\n",
    "    y_list = []\n",
    "    # Calculate expectation\n",
    "    for i in range(pred.shape[0]):\n",
    "        y_preds = np.mean(exp_x[i]).astype(int)\n",
    "        if y_preds != 0:\n",
    "            x_list.append(np.mean(exp_x[i][exp_x[i] != 0]))\n",
    "            y_list.append(i)\n",
    "    # Sample list at even intervals\n",
    "    samp_y = []\n",
    "    samp_x = []\n",
    "    for n in range(N):\n",
    "        int_ = len(y_list) // N\n",
    "        samp_y.append(y_list[n*int_])\n",
    "        samp_x.append(x_list[n*int_])\n",
    "    # Fit spline\n",
    "    tck = interpolate.splrep(samp_y, samp_x, k=1, s=0)\n",
    "    xd = np.linspace(min(samp_y), max(samp_y), 512)\n",
    "    fit = interpolate.splev(xd, tck, der=0)\n",
    "    \n",
    "    return samp_y, samp_x, fit, xd"
   ]
  },
  {
   "cell_type": "code",
   "execution_count": 10,
   "id": "555dc650-18ac-4659-93fa-8df9e1691c80",
   "metadata": {},
   "outputs": [
    {
     "data": {
      "application/vnd.jupyter.widget-view+json": {
       "model_id": "6a5a7948d023412c83df9b7ab6137d3e",
       "version_major": 2,
       "version_minor": 0
      },
      "text/plain": [
       "interactive(children=(Dropdown(description='name', options=('01_06_2014_363_Sag', '01_06_2014_364_Sag', '01_06…"
      ]
     },
     "metadata": {},
     "output_type": "display_data"
    }
   ],
   "source": [
    "@interact\n",
    "def plot_midline(name=sorted(list(all_data.keys()))):\n",
    "    img = np.load(f'/data/PAB_data/images_coronal/all_projections/{name}.npy')\n",
    "    img = img[..., 0]\n",
    "    pred = all_data[name][0]\n",
    "    fig, ax = plt.subplots(1, 2, figsize=(20, 20))    \n",
    "    \n",
    "    y, x, fit, xd = mask2midline(pred, N=15)\n",
    "    \n",
    "    # ---- Plotting ----\n",
    "    norm_pred = np.where(pred < 0.5, 0, 1) \n",
    "    ax[0].set_title('Pred')\n",
    "    ax[0].imshow(img, cmap='gray')\n",
    "    ax[0].imshow(np.where(pred < 0.5, np.nan, 1), alpha=0.5)\n",
    "    ax[0].scatter(x, y, c='y', marker='o', alpha=1, s=40, edgecolor='k')\n",
    "    \n",
    "    ax[1].set_title('Pred Midline')\n",
    "    ax[1].imshow(img, cmap='gray')\n",
    "    ax[1].plot(fit, xd, c='y', lw=3)\n",
    "    ax[1].imshow(np.where(norm_pred==0, np.nan, 1), alpha=0.5)\n",
    "    ax[1].scatter(x, y, c='y', marker='o', s=40, edgecolor='k')\n",
    "    \n",
    "    ax[1].set_ylim([511, 0])\n",
    "    ax[1].set_xlim([0, 511])"
   ]
  },
  {
   "cell_type": "markdown",
   "id": "8e5edfb9-8a8c-4769-8f57-109519e20037",
   "metadata": {},
   "source": [
    "### Evaluate predictions "
   ]
  },
  {
   "cell_type": "code",
   "execution_count": 11,
   "id": "c8cbd56b-8ee7-4034-9b61-bbc5599b2451",
   "metadata": {},
   "outputs": [],
   "source": [
    "def min_distance(x, y, fit):\n",
    "    # Iterate over all predicted points\n",
    "    dist_dict = {}\n",
    "    point_dict = {}\n",
    "    for point in zip(x, y):\n",
    "        dist = []\n",
    "        # Iterate over all points in fit \n",
    "        for y_fit, x_fit in enumerate(fit):\n",
    "            x_dist, y_dist = (point[0] - x_fit)**2, (point[1] - y_fit)**2\n",
    "            dist.append(np.sqrt(x_dist + y_dist)*1.25) # x 1.25 to get in mm instead of pixels\n",
    "        dist_dict[point] = min(dist)\n",
    "        point_dict[point] = (fit[np.argmin(dist)], np.argmin(dist))\n",
    "        #break\n",
    "    return dist_dict, point_dict"
   ]
  },
  {
   "cell_type": "code",
   "execution_count": 12,
   "id": "20db9fe4-5e70-4e08-aac1-4eb34ed47719",
   "metadata": {},
   "outputs": [
    {
     "data": {
      "application/vnd.jupyter.widget-view+json": {
       "model_id": "b0253e29229648d4b1bc096e9b4a3049",
       "version_major": 2,
       "version_minor": 0
      },
      "text/plain": [
       "interactive(children=(Dropdown(description='name', options=('01_06_2014_363_Sag', '01_06_2014_364_Sag', '01_06…"
      ]
     },
     "metadata": {},
     "output_type": "display_data"
    }
   ],
   "source": [
    "@interact\n",
    "def evaluate_predictions(name=sorted(list(all_data.keys()))):\n",
    "    img = np.load(f'/data/PAB_data/images_coronal/all_projections/{name}.npy')\n",
    "    print(img.shape)\n",
    "    img = img[..., 0]\n",
    "    fold = fold_df[fold_df['pid'] == name]['Fold'].values[0]\n",
    "    gt_coords = pd.read_csv(f'/data/PAB_data/midline_data/{fold}/coordinates/{name}.csv')\n",
    "    pred = all_data[name][0]\n",
    "    fig, ax = plt.subplots(1, 1, figsize=(10, 10))\n",
    "    \n",
    "    # --- Format gt ---\n",
    "    x_gt, y_gt = gt_coords['X'].to_list(), gt_coords['Y'].to_list()\n",
    "    # Fit spline\n",
    "    tck = interpolate.splrep(y_gt, x_gt, k=1, s=0)\n",
    "    fit_x = np.linspace(int(min(y_gt)), int(max(y_gt)), int(max(y_gt)-min(y_gt)))\n",
    "    fit = interpolate.splev(fit_x, tck, der=0)\n",
    "    # Extend vertically either end\n",
    "    top = [fit[0]]*int(min(y_gt))\n",
    "    bot = [fit[-1]]*(512-int(max(y_gt)))\n",
    "    top.extend(fit)\n",
    "    top.extend(bot)\n",
    "    if len(top) != 512:\n",
    "        top.append(fit[-1])\n",
    "    \n",
    "    # --- Evaluate ---- \n",
    "    # Minimum Euclidean distance between detected points \n",
    "    # and piecewise linear curve through manual annotations.\n",
    "    y, x, pred_fit, pred_xd = mask2midline(pred, N=15)\n",
    "    \n",
    "    dist_dict, point_dict = min_distance(x, y, top)\n",
    "    xd = np.linspace(0, 512, 512)\n",
    "    # ---- Plotting ----\n",
    "    norm_pred = np.where(pred < 0.5, 0, 1) \n",
    "#     ax[0].set_title('GT')\n",
    "#     ax[0].imshow(img, cmap='gray')\n",
    "#     ax[0].plot(top,xd , c='y', lw=3, alpha=1)\n",
    "#     ax[0].scatter(x_gt, y_gt, marker='o', c='y', s=40, edgecolor='k')\n",
    "    \n",
    "    \n",
    "    ax.set_title('Pred')\n",
    "    ax.imshow(img, cmap='gray')\n",
    "    ax.plot(top, xd , c='y', lw=1.5, alpha=1)\n",
    "    #ax[1].imshow(np.where(norm_pred==0, np.nan, 1), alpha=0.5, cmap='autumn')\n",
    "    ax.scatter(x, y, marker='o', c='b', s=40, alpha=0.7)\n",
    "    # Plot contours\n",
    "    for key, val in point_dict.items():\n",
    "        xs, ys = [key[0], val[0]], [key[1], val[1]]\n",
    "        ax.plot(xs, ys, c='r', ls ='-', lw=2, marker=None)\n",
    "        \n",
    "        \n",
    "    ax.set_ylim([511, 0])\n",
    "    ax.set_xlim([0, 511])\n",
    "#     ax[1].set_ylim([512, 0])\n",
    "#     ax[1].set_xlim([0, 512])"
   ]
  },
  {
   "cell_type": "markdown",
   "id": "43e1cc97-7ac6-4cfc-9260-42c85812c0dd",
   "metadata": {},
   "source": [
    "### Collect distances"
   ]
  },
  {
   "cell_type": "code",
   "execution_count": 13,
   "id": "f0f96d72-3770-4315-bd44-0d9c3dff9f4b",
   "metadata": {},
   "outputs": [],
   "source": [
    "def collect_dist(name, fold, mask):\n",
    "    gt_coords = pd.read_csv(f'/data/PAB_data/midline_data/{fold}/coordinates/{name}.csv')\n",
    "    pred = mask[0]\n",
    "    # --- Format gt ---\n",
    "    x_gt, y_gt = gt_coords['X'].to_list(), gt_coords['Y'].to_list()\n",
    "    # Fit spline\n",
    "    tck = interpolate.splrep(y_gt, x_gt, k=1, s=0)\n",
    "    fit_x = np.linspace(int(min(y_gt)), int(max(y_gt)), int(max(y_gt)-min(y_gt)))\n",
    "    fit = interpolate.splev(fit_x, tck, der=0)\n",
    "    # Extend vertically either end\n",
    "    top = [fit[0]]*int(min(y_gt))\n",
    "    bot = [fit[-1]]*(512-int(max(y_gt)))\n",
    "    top.extend(fit)\n",
    "    top.extend(bot)\n",
    "    if len(top) != 512:\n",
    "        top.append(fit[-1])\n",
    "    \n",
    "     # --- Fitting ---\n",
    "    y, x, pred_fit, pred_xd  = mask2midline(pred, N=15)\n",
    "    \n",
    "    # --- Evaluate ---- \n",
    "    dist_dict, point_dict = min_distance(x, y, top)\n",
    "    distances = list(dist_dict.values())\n",
    "    \n",
    "    return np.mean(distances), np.max(distances)"
   ]
  },
  {
   "cell_type": "code",
   "execution_count": 14,
   "id": "7e563a04-8ab2-4aa3-a413-143da45199cf",
   "metadata": {},
   "outputs": [
    {
     "data": {
      "text/html": [
       "<div>\n",
       "<style scoped>\n",
       "    .dataframe tbody tr th:only-of-type {\n",
       "        vertical-align: middle;\n",
       "    }\n",
       "\n",
       "    .dataframe tbody tr th {\n",
       "        vertical-align: top;\n",
       "    }\n",
       "\n",
       "    .dataframe thead th {\n",
       "        text-align: right;\n",
       "    }\n",
       "</style>\n",
       "<table border=\"1\" class=\"dataframe\">\n",
       "  <thead>\n",
       "    <tr style=\"text-align: right;\">\n",
       "      <th></th>\n",
       "      <th>Mean</th>\n",
       "      <th>Max</th>\n",
       "    </tr>\n",
       "  </thead>\n",
       "  <tbody>\n",
       "    <tr>\n",
       "      <th>27_05_2014_96_Sag_IVC</th>\n",
       "      <td>1.684220</td>\n",
       "      <td>2.425612</td>\n",
       "    </tr>\n",
       "    <tr>\n",
       "      <th>fr_608_LS_Sag</th>\n",
       "      <td>0.737173</td>\n",
       "      <td>1.850510</td>\n",
       "    </tr>\n",
       "    <tr>\n",
       "      <th>23_05_2014_149_Sag_LS</th>\n",
       "      <td>0.957143</td>\n",
       "      <td>1.898689</td>\n",
       "    </tr>\n",
       "    <tr>\n",
       "      <th>fr_615_TS_Sag</th>\n",
       "      <td>0.600828</td>\n",
       "      <td>1.744435</td>\n",
       "    </tr>\n",
       "    <tr>\n",
       "      <th>27_05_2014_113_Sag</th>\n",
       "      <td>1.128514</td>\n",
       "      <td>2.222210</td>\n",
       "    </tr>\n",
       "  </tbody>\n",
       "</table>\n",
       "</div>"
      ],
      "text/plain": [
       "                           Mean       Max\n",
       "27_05_2014_96_Sag_IVC  1.684220  2.425612\n",
       "fr_608_LS_Sag          0.737173  1.850510\n",
       "23_05_2014_149_Sag_LS  0.957143  1.898689\n",
       "fr_615_TS_Sag          0.600828  1.744435\n",
       "27_05_2014_113_Sag     1.128514  2.222210"
      ]
     },
     "metadata": {},
     "output_type": "display_data"
    }
   ],
   "source": [
    "dist_dict = {}\n",
    "for name in pd.unique(fold_df['pid']):\n",
    "    fold = fold_df[fold_df['pid'] == name]['Fold'].values\n",
    "    mean, max_ = collect_dist(name, *fold, all_data[name])\n",
    "    dist_dict[name] = {'Mean': mean, 'Max': max_}\n",
    "dist_df = pd.DataFrame(dist_dict)\n",
    "display(dist_df.T.head())"
   ]
  },
  {
   "cell_type": "code",
   "execution_count": 15,
   "id": "c771da8c-3b94-4535-827c-80096ca7822a",
   "metadata": {},
   "outputs": [
    {
     "data": {
      "text/html": [
       "<div>\n",
       "<style scoped>\n",
       "    .dataframe tbody tr th:only-of-type {\n",
       "        vertical-align: middle;\n",
       "    }\n",
       "\n",
       "    .dataframe tbody tr th {\n",
       "        vertical-align: top;\n",
       "    }\n",
       "\n",
       "    .dataframe thead th {\n",
       "        text-align: right;\n",
       "    }\n",
       "</style>\n",
       "<table border=\"1\" class=\"dataframe\">\n",
       "  <thead>\n",
       "    <tr style=\"text-align: right;\">\n",
       "      <th></th>\n",
       "      <th>Mean</th>\n",
       "      <th>Max</th>\n",
       "    </tr>\n",
       "  </thead>\n",
       "  <tbody>\n",
       "    <tr>\n",
       "      <th>04_06_2014_414_LS_Sag</th>\n",
       "      <td>24.898564</td>\n",
       "      <td>25.759284</td>\n",
       "    </tr>\n",
       "    <tr>\n",
       "      <th>27_05_2014_96_Sag</th>\n",
       "      <td>16.578951</td>\n",
       "      <td>17.867065</td>\n",
       "    </tr>\n",
       "    <tr>\n",
       "      <th>22_05_2014_175_Sag</th>\n",
       "      <td>12.728392</td>\n",
       "      <td>14.489011</td>\n",
       "    </tr>\n",
       "    <tr>\n",
       "      <th>fr_549_TS_Sag</th>\n",
       "      <td>2.181937</td>\n",
       "      <td>7.249823</td>\n",
       "    </tr>\n",
       "    <tr>\n",
       "      <th>18_03_2015_20150319134656906_SRS00000</th>\n",
       "      <td>3.773997</td>\n",
       "      <td>6.935258</td>\n",
       "    </tr>\n",
       "  </tbody>\n",
       "</table>\n",
       "</div>"
      ],
      "text/plain": [
       "                                            Mean        Max\n",
       "04_06_2014_414_LS_Sag                  24.898564  25.759284\n",
       "27_05_2014_96_Sag                      16.578951  17.867065\n",
       "22_05_2014_175_Sag                     12.728392  14.489011\n",
       "fr_549_TS_Sag                           2.181937   7.249823\n",
       "18_03_2015_20150319134656906_SRS00000   3.773997   6.935258"
      ]
     },
     "execution_count": 15,
     "metadata": {},
     "output_type": "execute_result"
    }
   ],
   "source": [
    "dist_df.T.sort_values(by='Max', ascending=False).head()"
   ]
  },
  {
   "cell_type": "code",
   "execution_count": 16,
   "id": "5a10ff33-6779-419f-b0be-0b9012da71b8",
   "metadata": {},
   "outputs": [
    {
     "data": {
      "text/plain": [
       "Mean    24.898564\n",
       "Max     25.759284\n",
       "Name: 04_06_2014_414_LS_Sag, dtype: float64"
      ]
     },
     "execution_count": 16,
     "metadata": {},
     "output_type": "execute_result"
    }
   ],
   "source": [
    "dist_df.T.iloc[dist_df.T['Max'].argmax()]"
   ]
  },
  {
   "cell_type": "markdown",
   "id": "bf624ac2-8faa-48e9-804b-825d3b05d99e",
   "metadata": {},
   "source": [
    "Percentage with max/mean error $\\leq 5 mm$: "
   ]
  },
  {
   "cell_type": "code",
   "execution_count": 17,
   "id": "29ee13c6-e95b-499c-a0ed-aae3f2b5d619",
   "metadata": {},
   "outputs": [
    {
     "data": {
      "text/plain": [
       "Mean    99.2\n",
       "Max     96.8\n",
       "dtype: float64"
      ]
     },
     "execution_count": 17,
     "metadata": {},
     "output_type": "execute_result"
    }
   ],
   "source": [
    "dist_df.T[dist_df.T <= 5].count()/len(dist_df.T.index) * 100"
   ]
  },
  {
   "cell_type": "code",
   "execution_count": 19,
   "id": "e2bf7a84-b827-48cb-8280-28f303c3a81e",
   "metadata": {},
   "outputs": [],
   "source": [
    "from matplotlib.ticker import MultipleLocator, AutoMinorLocator"
   ]
  },
  {
   "cell_type": "code",
   "execution_count": 22,
   "id": "bc641fc3-dd90-43e4-838f-1609d4ea2da6",
   "metadata": {},
   "outputs": [
    {
     "data": {
      "image/png": "[encoded data removed]",
      "text/plain": [
       "<Figure size 720x540 with 1 Axes>"
      ]
     },
     "metadata": {
      "needs_background": "light"
     },
     "output_type": "display_data"
    }
   ],
   "source": [
    "fig= plt.figure(figsize=(10, 7.5))\n",
    "g = sns.ecdfplot(data=dist_df.T, x='Mean', label='Mean')\n",
    "g = sns.ecdfplot(data=dist_df.T, x='Max', label='Max')\n",
    "\n",
    "g.set_xlabel('Distance (in mm)')\n",
    "g.grid(which='major', alpha=0.5)\n",
    "new_labels = ['Mean Distance', 'Max Distance']\n",
    "for t, l in zip(g.legend().texts, new_labels): t.set_text(l)\n",
    "g.xaxis.set_major_locator(MultipleLocator(5))\n",
    "g.xaxis.set_major_formatter('{x:.0f}')\n",
    "\n",
    "# For the minor ticks, use no labels; default NullFormatter.\n",
    "g.xaxis.set_minor_locator(MultipleLocator(1))"
   ]
  },
  {
   "cell_type": "markdown",
   "id": "84389e3b-f8f9-4a59-9d34-9ab3ae690b7e",
   "metadata": {},
   "source": [
    "# Extract Sagittal Midline"
   ]
  },
  {
   "cell_type": "code",
   "execution_count": 19,
   "id": "949d325f-0b05-4906-bf5a-d0aeba3e5b8e",
   "metadata": {},
   "outputs": [],
   "source": [
    "from ast import literal_eval\n",
    "import SimpleITK as sitk"
   ]
  },
  {
   "cell_type": "code",
   "execution_count": 20,
   "id": "465f5d54-eb99-4fba-9c0a-2f75d03c5eee",
   "metadata": {},
   "outputs": [
    {
     "data": {
      "text/html": [
       "<div>\n",
       "<style scoped>\n",
       "    .dataframe tbody tr th:only-of-type {\n",
       "        vertical-align: middle;\n",
       "    }\n",
       "\n",
       "    .dataframe tbody tr th {\n",
       "        vertical-align: top;\n",
       "    }\n",
       "\n",
       "    .dataframe thead th {\n",
       "        text-align: right;\n",
       "    }\n",
       "</style>\n",
       "<table border=\"1\" class=\"dataframe\">\n",
       "  <thead>\n",
       "    <tr style=\"text-align: right;\">\n",
       "      <th></th>\n",
       "      <th>Direction</th>\n",
       "      <th>Origin</th>\n",
       "    </tr>\n",
       "    <tr>\n",
       "      <th>Name</th>\n",
       "      <th></th>\n",
       "      <th></th>\n",
       "    </tr>\n",
       "  </thead>\n",
       "  <tbody>\n",
       "    <tr>\n",
       "      <th>03_06_2014_389_Sag</th>\n",
       "      <td>(0.0, 0.0, -1.0, 1.0, 0.0, 0.0, 0.0, -1.0, 0.0)</td>\n",
       "      <td>(201.6633148, -353.9631348, 131.249939)</td>\n",
       "    </tr>\n",
       "    <tr>\n",
       "      <th>03_06_2014_402_Sag</th>\n",
       "      <td>(0.0, 0.0, -1.0, 1.0, 0.0, 0.0, 0.0, -1.0, 0.0)</td>\n",
       "      <td>(173.4781189, -159.1593781, 98.0)</td>\n",
       "    </tr>\n",
       "    <tr>\n",
       "      <th>03_06_2014_396_Sag</th>\n",
       "      <td>(0.0, 0.0, -1.0, 1.0, 0.0, 0.0, 0.0, -1.0, 0.0)</td>\n",
       "      <td>(203.453125, -223.1618958, 57.64001465)</td>\n",
       "    </tr>\n",
       "    <tr>\n",
       "      <th>03_06_2014_395_Sag</th>\n",
       "      <td>(-0.3499322470372717, 0.0, -0.9367750116668602...</td>\n",
       "      <td>(190.7415924, -124.9147186, 81.60995483)</td>\n",
       "    </tr>\n",
       "    <tr>\n",
       "      <th>03_06_2014_399_TS_Sag</th>\n",
       "      <td>(0.0, 0.0, -1.0, 1.0, 0.0, 0.0, 0.0, -1.0, 0.0)</td>\n",
       "      <td>(165.7218781, -164.1593781, 122.75)</td>\n",
       "    </tr>\n",
       "  </tbody>\n",
       "</table>\n",
       "</div>"
      ],
      "text/plain": [
       "                                                               Direction  \\\n",
       "Name                                                                       \n",
       "03_06_2014_389_Sag       (0.0, 0.0, -1.0, 1.0, 0.0, 0.0, 0.0, -1.0, 0.0)   \n",
       "03_06_2014_402_Sag       (0.0, 0.0, -1.0, 1.0, 0.0, 0.0, 0.0, -1.0, 0.0)   \n",
       "03_06_2014_396_Sag       (0.0, 0.0, -1.0, 1.0, 0.0, 0.0, 0.0, -1.0, 0.0)   \n",
       "03_06_2014_395_Sag     (-0.3499322470372717, 0.0, -0.9367750116668602...   \n",
       "03_06_2014_399_TS_Sag    (0.0, 0.0, -1.0, 1.0, 0.0, 0.0, 0.0, -1.0, 0.0)   \n",
       "\n",
       "                                                         Origin  \n",
       "Name                                                             \n",
       "03_06_2014_389_Sag      (201.6633148, -353.9631348, 131.249939)  \n",
       "03_06_2014_402_Sag            (173.4781189, -159.1593781, 98.0)  \n",
       "03_06_2014_396_Sag      (203.453125, -223.1618958, 57.64001465)  \n",
       "03_06_2014_395_Sag     (190.7415924, -124.9147186, 81.60995483)  \n",
       "03_06_2014_399_TS_Sag       (165.7218781, -164.1593781, 122.75)  "
      ]
     },
     "execution_count": 20,
     "metadata": {},
     "output_type": "execute_result"
    }
   ],
   "source": [
    "direct_df = pd.read_csv('../dicom_direction.csv', index_col='Name', converters={'Direction': literal_eval})\n",
    "base_direction = (1.0, 0.0, 0.0, 0.0, 1.0, 0.0, 0.0, 0.0, 1.0)\n",
    "direct_df.head()"
   ]
  },
  {
   "cell_type": "code",
   "execution_count": 21,
   "id": "f753b980-7536-4730-810a-927e5bb16a2d",
   "metadata": {},
   "outputs": [],
   "source": [
    "def pad_image(img, output_shape=(512, 512, 512)):\n",
    "    \"\"\"\n",
    "    Insert into array of fixed size - such that all inputs to model have same dimensions\n",
    "    \"\"\"\n",
    "    padding = [(s-x)//2.0 for x, s in zip(output_shape, img.GetSize())]\n",
    "    output_origin = img.TransformContinuousIndexToPhysicalPoint(padding)\n",
    "    pad = sitk.ResampleImageFilter()\n",
    "    pad.SetInterpolator(sitk.sitkLinear)\n",
    "    pad.SetDefaultPixelValue(-1024)\n",
    "    pad.SetOutputSpacing(img.GetSpacing())\n",
    "    pad.SetSize(output_shape)\n",
    "    pad.SetOutputOrigin(output_origin)\n",
    "    pad.SetOutputDirection(img.GetDirection())\n",
    "    return pad.Execute(img), padding\n",
    "\n",
    "def resample(image, new_spacing):\n",
    "    \"\"\"\n",
    "    Resample image to new resolution with pixel dims defined by new_spacing\n",
    "    \"\"\"\n",
    "    resample = sitk.ResampleImageFilter()\n",
    "    resample.SetInterpolator(sitk.sitkLinear)\n",
    "    resample.SetOutputDirection(image.GetDirection())\n",
    "    resample.SetOutputOrigin(image.GetOrigin())\n",
    "    resample.SetOutputSpacing(new_spacing)\n",
    "    orig_size = np.array(image.GetSize(), dtype=np.int)\n",
    "    orig_spacing = image.GetSpacing()\n",
    "    ratio = [x/y for x, y in zip(orig_spacing, new_spacing)]\n",
    "    new_size = orig_size*ratio\n",
    "    new_size = np.ceil(new_size).astype(np.int)\n",
    "    new_size = [int(s) for s in new_size]\n",
    "    resample.SetSize(new_size)\n",
    "    return resample.Execute(image), ratio\n",
    "\n",
    "def normalize(img, min=0, max=255):\n",
    "    \"\"\"\n",
    "    Cast float image to int, and normalise to [0, 255]\n",
    "    \"\"\"\n",
    "    img = sitk.Cast(img, sitk.sitkInt32)\n",
    "    norm = sitk.RescaleIntensityImageFilter()\n",
    "    norm.SetOutputMaximum(max)\n",
    "    norm.SetOutputMinimum(min)\n",
    "    return norm.Execute(img)"
   ]
  },
  {
   "cell_type": "code",
   "execution_count": 22,
   "id": "b72b2023-b9b9-4a50-a0a2-4fb30bc6062f",
   "metadata": {},
   "outputs": [],
   "source": [
    "def get_ROI(img, fit, width=4):\n",
    "    #width in pixel\n",
    "    # Create temp. holder\n",
    "    roi = np.zeros((512, 2*width, 512))\n",
    "    roi -= 1024\n",
    "    for i, y in enumerate(fit):\n",
    "        sample = img[i, int(y)-width:int(y)+width]\n",
    "        roi[i] = sample\n",
    "    return roi\n",
    "\n",
    "def reformat_scan(name, new_spacing =(1.25, 1.25, 1.25)):\n",
    "    # New spacing in mm\n",
    "\n",
    "    # Get Image data\n",
    "    reader = sitk.ImageFileReader()\n",
    "    reader.SetImageIO(\"NiftiImageIO\")\n",
    "    reader.SetFileName(f'../ct_volumes/{name}.nii')\n",
    "    data = reader.Execute()\n",
    "    # Set image orientation (this is lost when writing out to .nii)\n",
    "    data.SetDirection(direct_df.loc[name].values[0])\n",
    "    \n",
    "    image_out = sitk.GetImageFromArray(sitk.GetArrayFromImage(data))\n",
    "    #setup other image characteristics\n",
    "    image_out.SetOrigin(data.GetOrigin())\n",
    "    image_out.SetSpacing(data.GetSpacing())\n",
    "    #set to RAI\n",
    "    image_out.SetDirection(base_direction)\n",
    "    \n",
    "    norm_img, scaling = resample(image_out, new_spacing)\n",
    "    print(norm_img.GetSize())\n",
    "    norm_img, padding = pad_image(norm_img)\n",
    "    \n",
    "    #data, norm_img = normalize(data), normalize(norm_img)\n",
    "    return sitk.GetArrayFromImage(data), sitk.GetArrayFromImage(norm_img)"
   ]
  },
  {
   "cell_type": "code",
   "execution_count": 23,
   "id": "151fdcd5-30df-44c5-a5df-5116e0ce3e6a",
   "metadata": {},
   "outputs": [
    {
     "data": {
      "application/vnd.jupyter.widget-view+json": {
       "model_id": "cd30b0fc23694b08a52c9ba3ed0d7d95",
       "version_major": 2,
       "version_minor": 0
      },
      "text/plain": [
       "interactive(children=(Dropdown(description='name', options=('fr_511_LS_Sag', '03_06_2014_399_LS_Sag', 'fr_534_…"
      ]
     },
     "metadata": {},
     "output_type": "display_data"
    }
   ],
   "source": [
    "@interact\n",
    "def extract_midline(name=list(ids)):\n",
    "    img = np.load(f'../midline_data/testing/slices/coronal/{name}.npy')\n",
    "    fig, ax = plt.subplots(1,3, figsize=(20, 10))\n",
    "    plt.tight_layout()\n",
    "    n = list(ids).index(name)\n",
    "    pred = sigmoid(mip_masks[n, 0])\n",
    "\n",
    "    # Get midpoints and fit line\n",
    "    contours = measure.find_contours(pred, 0.5)\n",
    "    # Get center of contours\n",
    "    x = [np.mean(contour[:, 1]) for contour in contours]\n",
    "    y = [np.mean(contour[:, 0]) for contour in contours]\n",
    "    # Fit spline\n",
    "    try:\n",
    "        tck = interpolate.splrep(y, x, k=1, s=0)\n",
    "    except TypeError:\n",
    "        print(\"No predictions, can't fit line!\")\n",
    "        raise BaseException\n",
    "    xd = np.linspace(0, 512, 512)\n",
    "    fit = interpolate.splev(xd, tck, der=0)\n",
    "    \n",
    "    data, norm_data = reformat_scan(name)\n",
    "    roi = get_ROI(norm_data, fit, width=4)\n",
    "    #roi = sitk.GetArrayFromImage(normalize(sitk.GetImageFromArray(roi)))\n",
    "    # W/L\n",
    "    roi = np.clip(roi, a_min=-100, a_max=500)\n",
    "    roi = np.max(roi, axis=1)\n",
    "    # ---- PLOTTING ---\n",
    "    clipped_norm = np.clip(norm_data, a_min=400, a_max=1000)\n",
    "    \n",
    "    proj_d = np.max(data, axis=-1)\n",
    "    proj_n = np.max(clipped_norm, axis=-1)\n",
    "    # SUBPLOT (0)\n",
    "    ax[0].set_title('Original Scan')\n",
    "    ax[0].imshow(proj_d, cmap='gray')\n",
    "    # SUBPLOT (1)\n",
    "    ax[1].set_title('Reformat')\n",
    "    ax[1].imshow(proj_n, cmap='gray')\n",
    "    ax[1].plot(fit, xd, c='y', lw=2, alpha=0.8)\n",
    "    for contour in contours:\n",
    "        x, y = np.mean(contour[:, 1]), np.mean(contour[:, 0])\n",
    "        ax[1].plot(contour[:, 1], contour[:, 0], linewidth=3, c='y')\n",
    "        ax[1].scatter(x, y, marker='+', c='r', s=700, edgecolor='k')\n",
    "    ax[1].set_ylim([512, 0])\n",
    "    ax[1].set_xlim([0, 512])\n",
    "    # SUBPLOT (2)\n",
    "    ax[2].set_title('Midline')\n",
    "    ax[2].imshow(roi, cmap='gray')"
   ]
  },
  {
   "cell_type": "markdown",
   "id": "f7c4ae6c-66c1-4606-99c1-f4144316697f",
   "metadata": {},
   "source": [
    "# Eval. midline accuracy"
   ]
  },
  {
   "cell_type": "code",
   "execution_count": 24,
   "id": "2dde1bc2-1519-469a-8b03-5d2bd86189b4",
   "metadata": {},
   "outputs": [
    {
     "data": {
      "application/vnd.jupyter.widget-view+json": {
       "model_id": "1c4e0607c108435c89f417f4f165714f",
       "version_major": 2,
       "version_minor": 0
      },
      "text/plain": [
       "interactive(children=(Dropdown(description='name', options=('fr_511_LS_Sag', '03_06_2014_399_LS_Sag', 'fr_534_…"
      ]
     },
     "metadata": {},
     "output_type": "display_data"
    }
   ],
   "source": [
    "@interact\n",
    "def evaluate_midline(name=list(ids)):\n",
    "    img = np.load(f'../midline_data/testing/slices/coronal/{name}.npy')\n",
    "    fig, ax = plt.subplots(1,2, figsize=(20, 10))\n",
    "    plt.tight_layout()\n",
    "    # ---- Ground-truth ---- \n",
    "    coord_df = pd.read_csv(f'../midline_data/coordinates/{name}.csv', index_col='Level')\n",
    "    #----predictions ---\n",
    "    n = list(ids).index(name)\n",
    "    pred = sigmoid(mip_masks[n, 0])\n",
    "    # Get midpoints and fit line\n",
    "    contours = measure.find_contours(pred, 0.5)\n",
    "    # Get center of contours\n",
    "    x = [np.mean(contour[:, 1]) for contour in contours]\n",
    "    y = [np.mean(contour[:, 0]) for contour in contours]\n",
    "    \n",
    "    # ---- Spline fitting ---- \n",
    "    try:\n",
    "        tck = interpolate.splrep(y, x, k=1, s=0)\n",
    "    except TypeError:\n",
    "        print(\"No predictions, can't fit line!\")\n",
    "        raise BaseException\n",
    "    xd = np.linspace(0, 512, 512)\n",
    "\n",
    "    fit = interpolate.splev(xd, tck, der=0)\n",
    "    \n",
    "    \n",
    "    # --- plotting --- \n",
    "    ax[0].imshow(img)\n",
    "    for row in coord_df.iterrows():\n",
    "        x, y = row[1]\n",
    "        print(x, y)\n",
    "        ax[0].scatter(x, y, marker='o', c='y', s=700, edgecolor='k')\n",
    "    \n",
    "    ax[1].imshow(img)\n",
    "    for contour in contours:\n",
    "        x, y = np.mean(contour[:, 1]), np.mean(contour[:, 0])\n",
    "        ax[1].plot(contour[:, 1], contour[:, 0], linewidth=3, c='b')\n",
    "        ax[1].scatter(x, y, marker='*', c='r', s=700, edgecolor='k')"
   ]
  }
 ],
 "metadata": {
  "kernelspec": {
   "display_name": "Python 3",
   "language": "python",
   "name": "python3"
  },
  "language_info": {
   "codemirror_mode": {
    "name": "ipython",
    "version": 3
   },
   "file_extension": ".py",
   "mimetype": "text/x-python",
   "name": "python",
   "nbconvert_exporter": "python",
   "pygments_lexer": "ipython3",
   "version": "3.6.13"
  }
 },
 "nbformat": 4,
 "nbformat_minor": 5
}
