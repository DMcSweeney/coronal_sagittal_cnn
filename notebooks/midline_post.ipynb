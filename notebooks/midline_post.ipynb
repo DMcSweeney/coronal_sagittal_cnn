{
 "cells": [
  {
   "cell_type": "code",
   "execution_count": 28,
   "id": "5a019a9e-c497-47cb-a2ea-ad7fa81df382",
   "metadata": {},
   "outputs": [],
   "source": [
    "import numpy as np\n",
    "import pandas as pd\n",
    "import matplotlib\n",
    "import matplotlib.pyplot as plt\n",
    "import seaborn as sns\n",
    "import ipywidgets as widgets\n",
    "from ipywidgets import interact"
   ]
  },
  {
   "cell_type": "code",
   "execution_count": 29,
   "id": "272b3745-acd2-4f72-9fca-853af25d79fe",
   "metadata": {},
   "outputs": [],
   "source": [
    "import matplotlib\n",
    "font = {'family' : 'serif',\n",
    "        'weight' : 'normal',\n",
    "        'size'   : 15}\n",
    "\n",
    "matplotlib.rc('font', **font)"
   ]
  },
  {
   "cell_type": "code",
   "execution_count": 30,
   "id": "f24656df-00f5-4c89-9928-53a873a90f5f",
   "metadata": {},
   "outputs": [],
   "source": [
    "ordered_verts = ['T4', 'T5', 'T6', 'T7', 'T8', 'T9', 'T10', 'T11', 'T12', 'L1', 'L2', 'L3', 'L4']"
   ]
  },
  {
   "cell_type": "markdown",
   "id": "da41e723-7da5-4d38-9c43-bb90c44a1bf5",
   "metadata": {},
   "source": [
    "## Post-processing for midline finder"
   ]
  },
  {
   "cell_type": "code",
   "execution_count": 31,
   "id": "192660a1-3632-4812-a1db-3d165ad19732",
   "metadata": {},
   "outputs": [],
   "source": [
    "from skimage import measure\n",
    "from scipy import interpolate\n",
    "from scipy.ndimage import gaussian_filter"
   ]
  },
  {
   "cell_type": "code",
   "execution_count": 32,
   "id": "b124c82a-5b91-4591-a6e2-4d6100ee0657",
   "metadata": {},
   "outputs": [
    {
     "name": "stdout",
     "output_type": "stream",
     "text": [
      "['ids', 'masks']\n"
     ]
    },
    {
     "data": {
      "text/plain": [
       "((45,), (45, 1, 512, 512))"
      ]
     },
     "execution_count": 32,
     "metadata": {},
     "output_type": "execute_result"
    }
   ],
   "source": [
    "preds = np.load('../midline_output/midline_finder_preds.npz')\n",
    "print(list(preds.keys()))\n",
    "ids, masks= preds.values()\n",
    "ids.shape, masks.shape"
   ]
  },
  {
   "cell_type": "code",
   "execution_count": 33,
   "id": "fe1dcfae-defd-4ecb-9f4e-1da8eb425838",
   "metadata": {},
   "outputs": [],
   "source": [
    "def sigmoid(x):\n",
    "    return 1/(1+np.exp(-x))"
   ]
  },
  {
   "cell_type": "markdown",
   "id": "2252630e-0c4b-4df2-a520-bd29bc1e398b",
   "metadata": {},
   "source": [
    "### Plot predictions"
   ]
  },
  {
   "cell_type": "code",
   "execution_count": 35,
   "id": "0706eb3f-7423-4544-a025-6fb1c594e7f6",
   "metadata": {},
   "outputs": [
    {
     "data": {
      "application/vnd.jupyter.widget-view+json": {
       "model_id": "fb017ef0406a458088a36848d8cb42da",
       "version_major": 2,
       "version_minor": 0
      },
      "text/plain": [
       "interactive(children=(Dropdown(description='name', options=('01_06_2014_363_Sag', '02_06_2014_372_Sag', '03_06…"
      ]
     },
     "metadata": {},
     "output_type": "display_data"
    }
   ],
   "source": [
    "@interact\n",
    "def plot_mask(name=sorted(list(ids))):\n",
    "    img = np.load(f'../midline_data/testing/slices/coronal/{name}.npy')\n",
    "    fig, ax = plt.subplots(1,1, figsize=(9, 9))\n",
    "    ax.axis('off')\n",
    "    n = list(ids).index(name)\n",
    "    mask = sigmoid(masks[n, 0])\n",
    "    norm_mask = np.where(mask < 0.5, np.nan, 1.0)\n",
    "    # 0: MIP, 1: MIDLINE, 2:STD\n",
    "    ax.imshow(img, cmap='gray')\n",
    "    ax.imshow(norm_mask, alpha=0.5, cmap='viridis')"
   ]
  },
  {
   "cell_type": "markdown",
   "id": "b7e7cf1e-37c1-45e2-9bb9-63f4ac78be78",
   "metadata": {},
   "source": [
    "### Plot midline"
   ]
  },
  {
   "cell_type": "code",
   "execution_count": 36,
   "id": "4d7cddf7-3fb4-4bf4-b022-8ac339bbbc5b",
   "metadata": {},
   "outputs": [],
   "source": [
    "def mask2midline(pred, N=20):\n",
    "    # Get center of contours for line fitting\n",
    "    x_template = np.zeros_like(pred)\n",
    "    y_template = np.zeros_like(pred)\n",
    "    for x in range(x_template.shape[0]):\n",
    "        x_template[:, x] = x\n",
    "        y_template[x] = x\n",
    "    norm_pred = np.where(pred < 0.5, 0, 1.0) # Binarise mask\n",
    "    exp_x = x_template*norm_pred\n",
    "    \n",
    "    x_list = []\n",
    "    y_list = []\n",
    "    # Calculate expectation\n",
    "    for i in range(pred.shape[0]):\n",
    "        y_preds = np.mean(exp_x[i]).astype(int)\n",
    "        if y_preds != 0:\n",
    "            x_list.append(np.mean(exp_x[i][exp_x[i] != 0]))\n",
    "            y_list.append(i)\n",
    "    # Sample list at even intervals\n",
    "    samp_y = []\n",
    "    samp_x = []\n",
    "    for n in range(N):\n",
    "        int_ = len(y_list) // N\n",
    "        samp_y.append(y_list[n*int_])\n",
    "        samp_x.append(x_list[n*int_])\n",
    "    # Fit spline\n",
    "    tck = interpolate.splrep(samp_y, samp_x, k=1, s=0)\n",
    "    xd = np.linspace(min(samp_y), max(samp_y), 512)\n",
    "    fit = interpolate.splev(xd, tck, der=0)\n",
    "    \n",
    "    return samp_y, samp_x, fit, xd"
   ]
  },
  {
   "cell_type": "code",
   "execution_count": 37,
   "id": "555dc650-18ac-4659-93fa-8df9e1691c80",
   "metadata": {},
   "outputs": [
    {
     "data": {
      "application/vnd.jupyter.widget-view+json": {
       "model_id": "ad06949d507e4a02a782a0ea56877a15",
       "version_major": 2,
       "version_minor": 0
      },
      "text/plain": [
       "interactive(children=(Dropdown(description='name', options=('01_06_2014_363_Sag', '02_06_2014_372_Sag', '03_06…"
      ]
     },
     "metadata": {},
     "output_type": "display_data"
    }
   ],
   "source": [
    "@interact\n",
    "def plot_midline(name=sorted(list(ids))):\n",
    "    idx = list(ids).index(name)\n",
    "    img = np.load(f'../midline_data/testing/slices/coronal/{name}.npy')\n",
    "    pred = masks[idx, 0]\n",
    "    fig, ax = plt.subplots(1, 2, figsize=(20, 20))    \n",
    "    \n",
    "    y, x, fit, xd = mask2midline(pred, N=15)\n",
    "    \n",
    "    # ---- Plotting ----\n",
    "    norm_pred = np.where(pred < 0.5, 0, 1) \n",
    "    ax[0].set_title('Pred')\n",
    "    ax[0].imshow(img, cmap='gray')\n",
    "    ax[0].imshow(pred, alpha=0.5)\n",
    "    ax[0].scatter(x, y, c='y', marker='o', alpha=1, s=40, edgecolor='k')\n",
    "    \n",
    "    ax[1].set_title('Pred Midline')\n",
    "    ax[1].imshow(img, cmap='gray')\n",
    "    ax[1].plot(fit, xd, c='y', lw=3)\n",
    "    ax[1].imshow(np.where(norm_pred==0, np.nan, 1), alpha=0.5)\n",
    "    ax[1].scatter(x, y, c='y', marker='o', s=40, edgecolor='k')\n",
    "    \n",
    "    ax[1].set_ylim([511, 0])\n",
    "    ax[1].set_xlim([0, 511])"
   ]
  },
  {
   "cell_type": "markdown",
   "id": "8e5edfb9-8a8c-4769-8f57-109519e20037",
   "metadata": {},
   "source": [
    "### Evaluate predictions "
   ]
  },
  {
   "cell_type": "code",
   "execution_count": 38,
   "id": "c8cbd56b-8ee7-4034-9b61-bbc5599b2451",
   "metadata": {},
   "outputs": [],
   "source": [
    "def min_distance(x, y, fit):\n",
    "    # Iterate over all predicted points\n",
    "    dist_dict = {}\n",
    "    point_dict = {}\n",
    "    for point in zip(x, y):\n",
    "        dist = []\n",
    "        # Iterate over all points in fit \n",
    "        for y_fit, x_fit in enumerate(fit):\n",
    "            x_dist, y_dist = (point[0] - x_fit)**2, (point[1] - y_fit)**2\n",
    "            dist.append(np.sqrt(x_dist + y_dist)*1.25) # x 1.25 to get in mm instead of pixels\n",
    "        dist_dict[point] = min(dist)\n",
    "        point_dict[point] = (fit[np.argmin(dist)], np.argmin(dist))\n",
    "        #break\n",
    "    return dist_dict, point_dict"
   ]
  },
  {
   "cell_type": "code",
   "execution_count": 39,
   "id": "20db9fe4-5e70-4e08-aac1-4eb34ed47719",
   "metadata": {},
   "outputs": [
    {
     "data": {
      "application/vnd.jupyter.widget-view+json": {
       "model_id": "72f2bd3ede914ddeaf0777080523ee0a",
       "version_major": 2,
       "version_minor": 0
      },
      "text/plain": [
       "interactive(children=(Dropdown(description='name', options=('01_06_2014_363_Sag', '02_06_2014_372_Sag', '03_06…"
      ]
     },
     "metadata": {},
     "output_type": "display_data"
    }
   ],
   "source": [
    "@interact\n",
    "def evaluate_predictions(name=sorted(list(ids))):\n",
    "    idx = list(ids).index(name)\n",
    "    img = np.load(f'../midline_data/testing/slices/coronal/{name}.npy')\n",
    "    gt_coords = pd.read_csv(f'../midline_data/coordinates/{name}.csv')\n",
    "    pred = masks[idx, 0]\n",
    "    fig, ax = plt.subplots(1, 1, figsize=(20, 20))\n",
    "    \n",
    "    # --- Format gt ---\n",
    "    x_gt, y_gt = gt_coords['X'].to_list(), gt_coords['Y'].to_list()\n",
    "    # Fit spline\n",
    "    tck = interpolate.splrep(y_gt, x_gt, k=1, s=0)\n",
    "    fit_x = np.linspace(int(min(y_gt)), int(max(y_gt)), int(max(y_gt)-min(y_gt)))\n",
    "    fit = interpolate.splev(fit_x, tck, der=0)\n",
    "    # Extend vertically either end\n",
    "    top = [fit[0]]*int(min(y_gt))\n",
    "    bot = [fit[-1]]*(512-int(max(y_gt)))\n",
    "    top.extend(fit)\n",
    "    top.extend(bot)\n",
    "    if len(top) != 512:\n",
    "        top.append(fit[-1])\n",
    "    \n",
    "    # --- Evaluate ---- \n",
    "    # Minimum Euclidean distance between detected points \n",
    "    # and piecewise linear curve through manual annotations.\n",
    "    y, x, pred_fit, pred_xd = mask2midline(pred, N=15)\n",
    "    \n",
    "    dist_dict, point_dict = min_distance(x, y, top)\n",
    "    xd = np.linspace(0, 512, 512)\n",
    "    # ---- Plotting ----\n",
    "    norm_pred = np.where(pred < 0.5, 0, 1) \n",
    "#     ax[0].set_title('GT')\n",
    "#     ax[0].imshow(img, cmap='gray')\n",
    "#     ax[0].plot(top,xd , c='y', lw=3, alpha=1)\n",
    "#     ax[0].scatter(x_gt, y_gt, marker='o', c='y', s=40, edgecolor='k')\n",
    "    \n",
    "    \n",
    "    ax.set_title('Pred')\n",
    "    ax.imshow(img, cmap='gray')\n",
    "    ax.plot(top, xd , c='y', lw=1.5, alpha=1)\n",
    "    #ax[1].imshow(np.where(norm_pred==0, np.nan, 1), alpha=0.5, cmap='autumn')\n",
    "    ax.scatter(x, y, marker='o', c='b', s=40, alpha=0.7)\n",
    "    # Plot contours\n",
    "    for key, val in point_dict.items():\n",
    "        xs, ys = [key[0], val[0]], [key[1], val[1]]\n",
    "        ax.plot(xs, ys, c='r', ls ='-', lw=2, marker=None)\n",
    "        \n",
    "        \n",
    "    ax.set_ylim([511, 0])\n",
    "    ax.set_xlim([0, 511])\n",
    "#     ax[1].set_ylim([512, 0])\n",
    "#     ax[1].set_xlim([0, 512])"
   ]
  },
  {
   "cell_type": "markdown",
   "id": "43e1cc97-7ac6-4cfc-9260-42c85812c0dd",
   "metadata": {},
   "source": [
    "### Collect distances"
   ]
  },
  {
   "cell_type": "code",
   "execution_count": 40,
   "id": "f0f96d72-3770-4315-bd44-0d9c3dff9f4b",
   "metadata": {},
   "outputs": [],
   "source": [
    "def collect_dist(name):\n",
    "    idx = list(ids).index(name)\n",
    "    gt_coords = pd.read_csv(f'../midline_data/coordinates/{name}.csv')\n",
    "    pred = masks[idx, 0]\n",
    "    # --- Format gt ---\n",
    "    x_gt, y_gt = gt_coords['X'].to_list(), gt_coords['Y'].to_list()\n",
    "    # Fit spline\n",
    "    tck = interpolate.splrep(y_gt, x_gt, k=1, s=0)\n",
    "    fit_x = np.linspace(int(min(y_gt)), int(max(y_gt)), int(max(y_gt)-min(y_gt)))\n",
    "    fit = interpolate.splev(fit_x, tck, der=0)\n",
    "    # Extend vertically either end\n",
    "    top = [fit[0]]*int(min(y_gt))\n",
    "    bot = [fit[-1]]*(512-int(max(y_gt)))\n",
    "    top.extend(fit)\n",
    "    top.extend(bot)\n",
    "    if len(top) != 512:\n",
    "        top.append(fit[-1])\n",
    "    \n",
    "     # --- Fitting ---\n",
    "    y, x, pred_fit, pred_xd  = mask2midline(pred, N=15)\n",
    "    \n",
    "    # --- Evaluate ---- \n",
    "    dist_dict, point_dict = min_distance(x, y, top)\n",
    "    distances = list(dist_dict.values())\n",
    "    \n",
    "    return np.mean(distances), np.max(distances)"
   ]
  },
  {
   "cell_type": "code",
   "execution_count": 41,
   "id": "7e563a04-8ab2-4aa3-a413-143da45199cf",
   "metadata": {},
   "outputs": [
    {
     "data": {
      "text/html": [
       "<div>\n",
       "<style scoped>\n",
       "    .dataframe tbody tr th:only-of-type {\n",
       "        vertical-align: middle;\n",
       "    }\n",
       "\n",
       "    .dataframe tbody tr th {\n",
       "        vertical-align: top;\n",
       "    }\n",
       "\n",
       "    .dataframe thead th {\n",
       "        text-align: right;\n",
       "    }\n",
       "</style>\n",
       "<table border=\"1\" class=\"dataframe\">\n",
       "  <thead>\n",
       "    <tr style=\"text-align: right;\">\n",
       "      <th></th>\n",
       "      <th>Mean</th>\n",
       "      <th>Max</th>\n",
       "    </tr>\n",
       "  </thead>\n",
       "  <tbody>\n",
       "    <tr>\n",
       "      <th>27_05_2014_105_Sag</th>\n",
       "      <td>0.892993</td>\n",
       "      <td>2.264273</td>\n",
       "    </tr>\n",
       "    <tr>\n",
       "      <th>fr_558_LS_Sag</th>\n",
       "      <td>1.986479</td>\n",
       "      <td>3.088758</td>\n",
       "    </tr>\n",
       "    <tr>\n",
       "      <th>04_06_2014_410_Sag</th>\n",
       "      <td>0.688387</td>\n",
       "      <td>1.596795</td>\n",
       "    </tr>\n",
       "    <tr>\n",
       "      <th>fr_549_LS_Sag</th>\n",
       "      <td>0.750107</td>\n",
       "      <td>1.944356</td>\n",
       "    </tr>\n",
       "    <tr>\n",
       "      <th>24_05_2014_136_Sag</th>\n",
       "      <td>1.069277</td>\n",
       "      <td>1.998067</td>\n",
       "    </tr>\n",
       "  </tbody>\n",
       "</table>\n",
       "</div>"
      ],
      "text/plain": [
       "                        Mean       Max\n",
       "27_05_2014_105_Sag  0.892993  2.264273\n",
       "fr_558_LS_Sag       1.986479  3.088758\n",
       "04_06_2014_410_Sag  0.688387  1.596795\n",
       "fr_549_LS_Sag       0.750107  1.944356\n",
       "24_05_2014_136_Sag  1.069277  1.998067"
      ]
     },
     "metadata": {},
     "output_type": "display_data"
    }
   ],
   "source": [
    "dist_dict = {}\n",
    "for name in list(ids):\n",
    "    mean, max_ = collect_dist(name)\n",
    "    dist_dict[name] = {'Mean': mean, 'Max': max_}\n",
    "dist_df = pd.DataFrame(dist_dict)\n",
    "display(dist_df.T.head())"
   ]
  },
  {
   "cell_type": "code",
   "execution_count": 42,
   "id": "c771da8c-3b94-4535-827c-80096ca7822a",
   "metadata": {},
   "outputs": [
    {
     "data": {
      "text/html": [
       "<div>\n",
       "<style scoped>\n",
       "    .dataframe tbody tr th:only-of-type {\n",
       "        vertical-align: middle;\n",
       "    }\n",
       "\n",
       "    .dataframe tbody tr th {\n",
       "        vertical-align: top;\n",
       "    }\n",
       "\n",
       "    .dataframe thead th {\n",
       "        text-align: right;\n",
       "    }\n",
       "</style>\n",
       "<table border=\"1\" class=\"dataframe\">\n",
       "  <thead>\n",
       "    <tr style=\"text-align: right;\">\n",
       "      <th></th>\n",
       "      <th>Mean</th>\n",
       "      <th>Max</th>\n",
       "    </tr>\n",
       "  </thead>\n",
       "  <tbody>\n",
       "    <tr>\n",
       "      <th>19_05_2014_222_Sag</th>\n",
       "      <td>4.254243</td>\n",
       "      <td>5.399234</td>\n",
       "    </tr>\n",
       "    <tr>\n",
       "      <th>fr_578_LS_Sag</th>\n",
       "      <td>2.139290</td>\n",
       "      <td>5.140150</td>\n",
       "    </tr>\n",
       "    <tr>\n",
       "      <th>fr_583_TS_Sag</th>\n",
       "      <td>1.684778</td>\n",
       "      <td>5.021603</td>\n",
       "    </tr>\n",
       "    <tr>\n",
       "      <th>fr_557_LS_Sag</th>\n",
       "      <td>2.089129</td>\n",
       "      <td>4.781391</td>\n",
       "    </tr>\n",
       "    <tr>\n",
       "      <th>fr_543_TS_Sag</th>\n",
       "      <td>2.335411</td>\n",
       "      <td>4.536637</td>\n",
       "    </tr>\n",
       "  </tbody>\n",
       "</table>\n",
       "</div>"
      ],
      "text/plain": [
       "                        Mean       Max\n",
       "19_05_2014_222_Sag  4.254243  5.399234\n",
       "fr_578_LS_Sag       2.139290  5.140150\n",
       "fr_583_TS_Sag       1.684778  5.021603\n",
       "fr_557_LS_Sag       2.089129  4.781391\n",
       "fr_543_TS_Sag       2.335411  4.536637"
      ]
     },
     "execution_count": 42,
     "metadata": {},
     "output_type": "execute_result"
    }
   ],
   "source": [
    "dist_df.T.sort_values(by='Max', ascending=False).head()"
   ]
  },
  {
   "cell_type": "code",
   "execution_count": 43,
   "id": "5a10ff33-6779-419f-b0be-0b9012da71b8",
   "metadata": {},
   "outputs": [
    {
     "data": {
      "text/plain": [
       "Mean    4.254243\n",
       "Max     5.399234\n",
       "Name: 19_05_2014_222_Sag, dtype: float64"
      ]
     },
     "execution_count": 43,
     "metadata": {},
     "output_type": "execute_result"
    }
   ],
   "source": [
    "dist_df.T.iloc[dist_df.T['Max'].argmax()]"
   ]
  },
  {
   "cell_type": "markdown",
   "id": "bf624ac2-8faa-48e9-804b-825d3b05d99e",
   "metadata": {},
   "source": [
    "Percentage with max/mean error $\\leq 5 mm$: "
   ]
  },
  {
   "cell_type": "code",
   "execution_count": 44,
   "id": "29ee13c6-e95b-499c-a0ed-aae3f2b5d619",
   "metadata": {},
   "outputs": [
    {
     "data": {
      "text/plain": [
       "Mean    100.000000\n",
       "Max      93.333333\n",
       "dtype: float64"
      ]
     },
     "execution_count": 44,
     "metadata": {},
     "output_type": "execute_result"
    }
   ],
   "source": [
    "dist_df.T[dist_df.T <= 5].count()/len(dist_df.T.index) * 100"
   ]
  },
  {
   "cell_type": "code",
   "execution_count": 45,
   "id": "bc641fc3-dd90-43e4-838f-1609d4ea2da6",
   "metadata": {},
   "outputs": [
    {
     "data": {
      "image/png": "[encoded data removed]",
      "text/plain": [
       "<Figure size 720x540 with 1 Axes>"
      ]
     },
     "metadata": {
      "needs_background": "light"
     },
     "output_type": "display_data"
    }
   ],
   "source": [
    "fig= plt.figure(figsize=(10, 7.5))\n",
    "g = sns.ecdfplot(data=dist_df.T, x='Mean', label='Mean')\n",
    "g = sns.ecdfplot(data=dist_df.T, x='Max', label='Max')\n",
    "\n",
    "g.set_xlabel('Distance (in mm)')\n",
    "g.grid(which='major', alpha=0.5)\n",
    "new_labels = ['Mean Distance', 'Max Distance']\n",
    "for t, l in zip(g.legend().texts, new_labels): t.set_text(l)"
   ]
  },
  {
   "cell_type": "markdown",
   "id": "84389e3b-f8f9-4a59-9d34-9ab3ae690b7e",
   "metadata": {},
   "source": [
    "# Extract Sagittal Midline"
   ]
  },
  {
   "cell_type": "code",
   "execution_count": 27,
   "id": "949d325f-0b05-4906-bf5a-d0aeba3e5b8e",
   "metadata": {},
   "outputs": [],
   "source": [
    "from ast import literal_eval\n",
    "import SimpleITK as sitk"
   ]
  },
  {
   "cell_type": "code",
   "execution_count": 14,
   "id": "465f5d54-eb99-4fba-9c0a-2f75d03c5eee",
   "metadata": {},
   "outputs": [
    {
     "data": {
      "text/html": [
       "<div>\n",
       "<style scoped>\n",
       "    .dataframe tbody tr th:only-of-type {\n",
       "        vertical-align: middle;\n",
       "    }\n",
       "\n",
       "    .dataframe tbody tr th {\n",
       "        vertical-align: top;\n",
       "    }\n",
       "\n",
       "    .dataframe thead th {\n",
       "        text-align: right;\n",
       "    }\n",
       "</style>\n",
       "<table border=\"1\" class=\"dataframe\">\n",
       "  <thead>\n",
       "    <tr style=\"text-align: right;\">\n",
       "      <th></th>\n",
       "      <th>Direction</th>\n",
       "      <th>Origin</th>\n",
       "    </tr>\n",
       "    <tr>\n",
       "      <th>Name</th>\n",
       "      <th></th>\n",
       "      <th></th>\n",
       "    </tr>\n",
       "  </thead>\n",
       "  <tbody>\n",
       "    <tr>\n",
       "      <th>03_06_2014_389_Sag</th>\n",
       "      <td>(0.0, 0.0, -1.0, 1.0, 0.0, 0.0, 0.0, -1.0, 0.0)</td>\n",
       "      <td>(201.6633148, -353.9631348, 131.249939)</td>\n",
       "    </tr>\n",
       "    <tr>\n",
       "      <th>03_06_2014_402_Sag</th>\n",
       "      <td>(0.0, 0.0, -1.0, 1.0, 0.0, 0.0, 0.0, -1.0, 0.0)</td>\n",
       "      <td>(173.4781189, -159.1593781, 98.0)</td>\n",
       "    </tr>\n",
       "    <tr>\n",
       "      <th>03_06_2014_396_Sag</th>\n",
       "      <td>(0.0, 0.0, -1.0, 1.0, 0.0, 0.0, 0.0, -1.0, 0.0)</td>\n",
       "      <td>(203.453125, -223.1618958, 57.64001465)</td>\n",
       "    </tr>\n",
       "    <tr>\n",
       "      <th>03_06_2014_395_Sag</th>\n",
       "      <td>(-0.3499322470372717, 0.0, -0.9367750116668602...</td>\n",
       "      <td>(190.7415924, -124.9147186, 81.60995483)</td>\n",
       "    </tr>\n",
       "    <tr>\n",
       "      <th>03_06_2014_399_TS_Sag</th>\n",
       "      <td>(0.0, 0.0, -1.0, 1.0, 0.0, 0.0, 0.0, -1.0, 0.0)</td>\n",
       "      <td>(165.7218781, -164.1593781, 122.75)</td>\n",
       "    </tr>\n",
       "  </tbody>\n",
       "</table>\n",
       "</div>"
      ],
      "text/plain": [
       "                                                               Direction  \\\n",
       "Name                                                                       \n",
       "03_06_2014_389_Sag       (0.0, 0.0, -1.0, 1.0, 0.0, 0.0, 0.0, -1.0, 0.0)   \n",
       "03_06_2014_402_Sag       (0.0, 0.0, -1.0, 1.0, 0.0, 0.0, 0.0, -1.0, 0.0)   \n",
       "03_06_2014_396_Sag       (0.0, 0.0, -1.0, 1.0, 0.0, 0.0, 0.0, -1.0, 0.0)   \n",
       "03_06_2014_395_Sag     (-0.3499322470372717, 0.0, -0.9367750116668602...   \n",
       "03_06_2014_399_TS_Sag    (0.0, 0.0, -1.0, 1.0, 0.0, 0.0, 0.0, -1.0, 0.0)   \n",
       "\n",
       "                                                         Origin  \n",
       "Name                                                             \n",
       "03_06_2014_389_Sag      (201.6633148, -353.9631348, 131.249939)  \n",
       "03_06_2014_402_Sag            (173.4781189, -159.1593781, 98.0)  \n",
       "03_06_2014_396_Sag      (203.453125, -223.1618958, 57.64001465)  \n",
       "03_06_2014_395_Sag     (190.7415924, -124.9147186, 81.60995483)  \n",
       "03_06_2014_399_TS_Sag       (165.7218781, -164.1593781, 122.75)  "
      ]
     },
     "execution_count": 14,
     "metadata": {},
     "output_type": "execute_result"
    }
   ],
   "source": [
    "direct_df = pd.read_csv('../dicom_direction.csv', index_col='Name', converters={'Direction': literal_eval})\n",
    "base_direction = (1.0, 0.0, 0.0, 0.0, 1.0, 0.0, 0.0, 0.0, 1.0)\n",
    "direct_df.head()"
   ]
  },
  {
   "cell_type": "code",
   "execution_count": 15,
   "id": "f753b980-7536-4730-810a-927e5bb16a2d",
   "metadata": {},
   "outputs": [],
   "source": [
    "def pad_image(img, output_shape=(512, 512, 512)):\n",
    "    \"\"\"\n",
    "    Insert into array of fixed size - such that all inputs to model have same dimensions\n",
    "    \"\"\"\n",
    "    padding = [(s-x)//2.0 for x, s in zip(output_shape, img.GetSize())]\n",
    "    output_origin = img.TransformContinuousIndexToPhysicalPoint(padding)\n",
    "    pad = sitk.ResampleImageFilter()\n",
    "    pad.SetInterpolator(sitk.sitkLinear)\n",
    "    pad.SetDefaultPixelValue(-1024)\n",
    "    pad.SetOutputSpacing(img.GetSpacing())\n",
    "    pad.SetSize(output_shape)\n",
    "    pad.SetOutputOrigin(output_origin)\n",
    "    pad.SetOutputDirection(img.GetDirection())\n",
    "    return pad.Execute(img), padding\n",
    "\n",
    "def resample(image, new_spacing):\n",
    "    \"\"\"\n",
    "    Resample image to new resolution with pixel dims defined by new_spacing\n",
    "    \"\"\"\n",
    "    resample = sitk.ResampleImageFilter()\n",
    "    resample.SetInterpolator(sitk.sitkLinear)\n",
    "    resample.SetOutputDirection(image.GetDirection())\n",
    "    resample.SetOutputOrigin(image.GetOrigin())\n",
    "    resample.SetOutputSpacing(new_spacing)\n",
    "    orig_size = np.array(image.GetSize(), dtype=np.int)\n",
    "    orig_spacing = image.GetSpacing()\n",
    "    ratio = [x/y for x, y in zip(orig_spacing, new_spacing)]\n",
    "    new_size = orig_size*ratio\n",
    "    new_size = np.ceil(new_size).astype(np.int)\n",
    "    new_size = [int(s) for s in new_size]\n",
    "    resample.SetSize(new_size)\n",
    "    return resample.Execute(image), ratio\n",
    "\n",
    "def normalize(img, min=0, max=255):\n",
    "    \"\"\"\n",
    "    Cast float image to int, and normalise to [0, 255]\n",
    "    \"\"\"\n",
    "    img = sitk.Cast(img, sitk.sitkInt32)\n",
    "    norm = sitk.RescaleIntensityImageFilter()\n",
    "    norm.SetOutputMaximum(max)\n",
    "    norm.SetOutputMinimum(min)\n",
    "    return norm.Execute(img)"
   ]
  },
  {
   "cell_type": "code",
   "execution_count": 16,
   "id": "b72b2023-b9b9-4a50-a0a2-4fb30bc6062f",
   "metadata": {},
   "outputs": [],
   "source": [
    "def get_ROI(img, fit, width=4):\n",
    "    #width in pixel\n",
    "    # Create temp. holder\n",
    "    roi = np.zeros((512, 2*width, 512))\n",
    "    roi -= 1024\n",
    "    for i, y in enumerate(fit):\n",
    "        sample = img[i, int(y)-width:int(y)+width]\n",
    "        roi[i] = sample\n",
    "    return roi\n",
    "\n",
    "def reformat_scan(name, new_spacing =(1.25, 1.25, 1.25)):\n",
    "    # New spacing in mm\n",
    "\n",
    "    # Get Image data\n",
    "    reader = sitk.ImageFileReader()\n",
    "    reader.SetImageIO(\"NiftiImageIO\")\n",
    "    reader.SetFileName(f'../ct_volumes/{name}.nii')\n",
    "    data = reader.Execute()\n",
    "    # Set image orientation (this is lost when writing out to .nii)\n",
    "    data.SetDirection(direct_df.loc[name].values[0])\n",
    "    \n",
    "    image_out = sitk.GetImageFromArray(sitk.GetArrayFromImage(data))\n",
    "    #setup other image characteristics\n",
    "    image_out.SetOrigin(data.GetOrigin())\n",
    "    image_out.SetSpacing(data.GetSpacing())\n",
    "    #set to RAI\n",
    "    image_out.SetDirection(base_direction)\n",
    "    \n",
    "    norm_img, scaling = resample(image_out, new_spacing)\n",
    "    print(norm_img.GetSize())\n",
    "    norm_img, padding = pad_image(norm_img)\n",
    "    \n",
    "    #data, norm_img = normalize(data), normalize(norm_img)\n",
    "    return sitk.GetArrayFromImage(data), sitk.GetArrayFromImage(norm_img)"
   ]
  },
  {
   "cell_type": "code",
   "execution_count": 17,
   "id": "151fdcd5-30df-44c5-a5df-5116e0ce3e6a",
   "metadata": {},
   "outputs": [
    {
     "data": {
      "application/vnd.jupyter.widget-view+json": {
       "model_id": "253ff6e7e2a34d84b439088992d7b284",
       "version_major": 2,
       "version_minor": 0
      },
      "text/plain": [
       "interactive(children=(Dropdown(description='name', options=('04_06_2014_431_Sag', 'fr_553_LS_Sag', '16_05_2014…"
      ]
     },
     "metadata": {},
     "output_type": "display_data"
    }
   ],
   "source": [
    "@interact\n",
    "def extract_midline(name=list(ids)):\n",
    "    img = np.load(f'../midline_data/testing/slices/coronal/{name}.npy')\n",
    "    fig, ax = plt.subplots(1,3, figsize=(20, 10))\n",
    "    plt.tight_layout()\n",
    "    n = list(ids).index(name)\n",
    "    pred = sigmoid(mip_masks[n, 0])\n",
    "\n",
    "    # Get midpoints and fit line\n",
    "    contours = measure.find_contours(pred, 0.5)\n",
    "    # Get center of contours\n",
    "    x = [np.mean(contour[:, 1]) for contour in contours]\n",
    "    y = [np.mean(contour[:, 0]) for contour in contours]\n",
    "    # Fit spline\n",
    "    try:\n",
    "        tck = interpolate.splrep(y, x, k=1, s=0)\n",
    "    except TypeError:\n",
    "        print(\"No predictions, can't fit line!\")\n",
    "        raise BaseException\n",
    "    xd = np.linspace(0, 512, 512)\n",
    "    fit = interpolate.splev(xd, tck, der=0)\n",
    "    \n",
    "    data, norm_data = reformat_scan(name)\n",
    "    roi = get_ROI(norm_data, fit, width=4)\n",
    "    #roi = sitk.GetArrayFromImage(normalize(sitk.GetImageFromArray(roi)))\n",
    "    # W/L\n",
    "    roi = np.clip(roi, a_min=-100, a_max=500)\n",
    "    roi = np.max(roi, axis=1)\n",
    "    # ---- PLOTTING ---\n",
    "    clipped_norm = np.clip(norm_data, a_min=400, a_max=1000)\n",
    "    \n",
    "    proj_d = np.max(data, axis=-1)\n",
    "    proj_n = np.max(clipped_norm, axis=-1)\n",
    "    # SUBPLOT (0)\n",
    "    ax[0].set_title('Original Scan')\n",
    "    ax[0].imshow(proj_d, cmap='gray')\n",
    "    # SUBPLOT (1)\n",
    "    ax[1].set_title('Reformat')\n",
    "    ax[1].imshow(proj_n, cmap='gray')\n",
    "    ax[1].plot(fit, xd, c='y', lw=2, alpha=0.8)\n",
    "    for contour in contours:\n",
    "        x, y = np.mean(contour[:, 1]), np.mean(contour[:, 0])\n",
    "        ax[1].plot(contour[:, 1], contour[:, 0], linewidth=3, c='y')\n",
    "        ax[1].scatter(x, y, marker='+', c='r', s=700, edgecolor='k')\n",
    "    ax[1].set_ylim([512, 0])\n",
    "    ax[1].set_xlim([0, 512])\n",
    "    # SUBPLOT (2)\n",
    "    ax[2].set_title('Midline')\n",
    "    ax[2].imshow(roi, cmap='gray')"
   ]
  },
  {
   "cell_type": "markdown",
   "id": "f7c4ae6c-66c1-4606-99c1-f4144316697f",
   "metadata": {},
   "source": [
    "# Eval. midline accuracy"
   ]
  },
  {
   "cell_type": "code",
   "execution_count": 18,
   "id": "2dde1bc2-1519-469a-8b03-5d2bd86189b4",
   "metadata": {},
   "outputs": [
    {
     "data": {
      "application/vnd.jupyter.widget-view+json": {
       "model_id": "7e1c2b819be240e596eb43b2ae4014db",
       "version_major": 2,
       "version_minor": 0
      },
      "text/plain": [
       "interactive(children=(Dropdown(description='name', options=('04_06_2014_431_Sag', 'fr_553_LS_Sag', '16_05_2014…"
      ]
     },
     "metadata": {},
     "output_type": "display_data"
    }
   ],
   "source": [
    "@interact\n",
    "def evaluate_midline(name=list(ids)):\n",
    "    img = np.load(f'../midline_data/testing/slices/coronal/{name}.npy')\n",
    "    fig, ax = plt.subplots(1,2, figsize=(20, 10))\n",
    "    plt.tight_layout()\n",
    "    # ---- Ground-truth ---- \n",
    "    coord_df = pd.read_csv(f'../midline_data/coordinates/{name}.csv', index_col='Level')\n",
    "    #----predictions ---\n",
    "    n = list(ids).index(name)\n",
    "    pred = sigmoid(mip_masks[n, 0])\n",
    "    # Get midpoints and fit line\n",
    "    contours = measure.find_contours(pred, 0.5)\n",
    "    # Get center of contours\n",
    "    x = [np.mean(contour[:, 1]) for contour in contours]\n",
    "    y = [np.mean(contour[:, 0]) for contour in contours]\n",
    "    \n",
    "    # ---- Spline fitting ---- \n",
    "    try:\n",
    "        tck = interpolate.splrep(y, x, k=1, s=0)\n",
    "    except TypeError:\n",
    "        print(\"No predictions, can't fit line!\")\n",
    "        raise BaseException\n",
    "    xd = np.linspace(0, 512, 512)\n",
    "\n",
    "    fit = interpolate.splev(xd, tck, der=0)\n",
    "    \n",
    "    \n",
    "    # --- plotting --- \n",
    "    ax[0].imshow(img)\n",
    "    for row in coord_df.iterrows():\n",
    "        x, y = row[1]\n",
    "        print(x, y)\n",
    "        ax[0].scatter(x, y, marker='o', c='y', s=700, edgecolor='k')\n",
    "    \n",
    "    ax[1].imshow(img)\n",
    "    for contour in contours:\n",
    "        x, y = np.mean(contour[:, 1]), np.mean(contour[:, 0])\n",
    "        ax[1].plot(contour[:, 1], contour[:, 0], linewidth=3, c='b')\n",
    "        ax[1].scatter(x, y, marker='*', c='r', s=700, edgecolor='k')"
   ]
  }
 ],
 "metadata": {
  "kernelspec": {
   "display_name": "Python 3",
   "language": "python",
   "name": "python3"
  },
  "language_info": {
   "codemirror_mode": {
    "name": "ipython",
    "version": 3
   },
   "file_extension": ".py",
   "mimetype": "text/x-python",
   "name": "python",
   "nbconvert_exporter": "python",
   "pygments_lexer": "ipython3",
   "version": "3.6.13"
  }
 },
 "nbformat": 4,
 "nbformat_minor": 5
}
