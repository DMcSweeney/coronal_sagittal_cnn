{
 "cells": [
  {
   "cell_type": "code",
   "execution_count": 1,
   "id": "c5a7adb8-c79c-4d5e-94f5-4889c3ee2d87",
   "metadata": {},
   "outputs": [],
   "source": [
    "import os\n",
    "import numpy as np\n",
    "import pandas as pd\n",
    "import matplotlib.pyplot as plt\n",
    "import seaborn as sns\n",
    "from ipywidgets import interact"
   ]
  },
  {
   "cell_type": "code",
   "execution_count": 2,
   "id": "24ebf771-2d9e-43e5-a488-c24a99a69f7f",
   "metadata": {},
   "outputs": [],
   "source": [
    "import matplotlib\n",
    "font = {'family' : 'serif',\n",
    "        'weight' : 'normal',\n",
    "        'size'   : 15}\n",
    "\n",
    "matplotlib.rc('font', **font)"
   ]
  },
  {
   "cell_type": "markdown",
   "id": "9180d956-db4b-4e38-b76d-3832a866ea93",
   "metadata": {},
   "source": [
    "## Process labelling results "
   ]
  },
  {
   "cell_type": "code",
   "execution_count": 3,
   "id": "765d7001-2181-4957-a766-89c50cb065f4",
   "metadata": {},
   "outputs": [],
   "source": [
    "ordered_verts = ['T4', 'T5', 'T6', 'T7', 'T8', 'T9', 'T10', 'T11', 'T12', 'L1', 'L2', 'L3', 'L4']"
   ]
  },
  {
   "cell_type": "code",
   "execution_count": 18,
   "id": "1ff05ca5-32d7-4486-aa06-e2917f18cef5",
   "metadata": {},
   "outputs": [
    {
     "name": "stdout",
     "output_type": "stream",
     "text": [
      "q1\n",
      "100 100\n"
     ]
    }
   ],
   "source": [
    "root_dir = '/data/PAB_data/vert_labelling/'\n",
    "filename = 'labeller_preds.npz'\n",
    "\n",
    "pred_dict = {}\n",
    "gt_dict = {}\n",
    "fold_dict = {}\n",
    "img_dict = {}\n",
    "heatmap_dict = {}\n",
    "coords_dict = {}\n",
    "labels_dict = {}\n",
    "for root, dirs, files in os.walk(root_dir):\n",
    "    if filename in files:\n",
    "        fold = root.split('/')[-1]\n",
    "        print(fold)\n",
    "        pred = np.load(os.path.join(root, filename))\n",
    "        # Collect targets\n",
    "        tgt_path = os.path.join(root, 'targets/coordinates/')\n",
    "        for file in os.listdir(tgt_path):\n",
    "            name = file.split('.')[0]\n",
    "            gt_dict[name] = pd.read_csv(os.path.join(tgt_path, file))\n",
    "        # Collect input image\n",
    "        img_path = os.path.join(root, 'slices')\n",
    "        for file in os.listdir(img_path):\n",
    "            name = file.split('.')[0]\n",
    "            img_dict[name] = np.load(os.path.join(img_path, file))\n",
    "        # Collect predictions\n",
    "        for id_, mask, coords, heatmaps in zip(pred['ids'], pred['masks'], \n",
    "                                                    pred['coords'], pred['heatmaps']):\n",
    "            pred_dict[id_] = mask\n",
    "            fold_dict[id_] = fold\n",
    "            coords_dict[id_] = coords\n",
    "            heatmap_dict[id_] = heatmaps\n",
    "print(len(pred_dict.keys()), len(list(gt_dict.keys())))"
   ]
  },
  {
   "cell_type": "code",
   "execution_count": 19,
   "id": "72147d6b-5905-4490-a2b8-821204f384d9",
   "metadata": {},
   "outputs": [],
   "source": [
    "ids = list(pred_dict.keys())"
   ]
  },
  {
   "cell_type": "markdown",
   "id": "700d2bcd-f88e-44df-b596-0ff0957cd027",
   "metadata": {},
   "source": [
    "## Check preds"
   ]
  },
  {
   "cell_type": "code",
   "execution_count": 44,
   "id": "40660ed3-4153-488a-a2ca-d88e79221ae4",
   "metadata": {},
   "outputs": [
    {
     "data": {
      "application/vnd.jupyter.widget-view+json": {
       "model_id": "089adf8eb685448fb5d2532f3f9a14d6",
       "version_major": 2,
       "version_minor": 0
      },
      "text/plain": [
       "interactive(children=(Dropdown(description='name', options=('fr_511_LS_Sag', '03_06_2014_399_LS_Sag', 'fr_534_…"
      ]
     },
     "metadata": {},
     "output_type": "display_data"
    }
   ],
   "source": [
    "@interact\n",
    "def plot_preds(name=ids):\n",
    "    idx = ids.index(name)\n",
    "    fig, ax = plt.subplots(1, 2, figsize=(20, 20))\n",
    "    ax[0].axis('off')\n",
    "    ax[1].axis('off')\n",
    "    coords = coords_dict[name]\n",
    "    gt_coords = gt_dict[name]\n",
    "    ax[0].imshow(img_dict[name][..., 1], cmap='gray')\n",
    "    ax[1].imshow(img_dict[name][..., 1], cmap='gray')\n",
    "    for i, vert in enumerate(ordered_verts):\n",
    "        y, x = coords[i]\n",
    "        ax[1].scatter(x, y, marker='+', c='y', s=15)\n",
    "        ax[1].text(x, y, vert, c='y', size=15)\n",
    "    for i, vert in enumerate(ordered_verts):\n",
    "        if vert not in pd.unique(gt_coords['Level']): continue\n",
    "        tmp =  gt_coords.loc[gt_coords['Level'] == vert].values[0]\n",
    "        vert, x, y = tmp\n",
    "        ax[0].scatter(x, y, marker='+', c='y', s=15)\n",
    "        ax[0].text(x, y, vert, c='y', size=15)\n",
    "    plt.subplots_adjust(wspace=0)"
   ]
  },
  {
   "cell_type": "code",
   "execution_count": null,
   "id": "5e36c529-5950-4709-8e77-691b8e3e2abf",
   "metadata": {},
   "outputs": [],
   "source": []
  }
 ],
 "metadata": {
  "kernelspec": {
   "display_name": "Python 3",
   "language": "python",
   "name": "python3"
  },
  "language_info": {
   "codemirror_mode": {
    "name": "ipython",
    "version": 3
   },
   "file_extension": ".py",
   "mimetype": "text/x-python",
   "name": "python",
   "nbconvert_exporter": "python",
   "pygments_lexer": "ipython3",
   "version": "3.6.13"
  }
 },
 "nbformat": 4,
 "nbformat_minor": 5
}
