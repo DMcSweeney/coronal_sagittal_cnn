{
 "cells": [
  {
   "cell_type": "code",
   "execution_count": 1,
   "metadata": {},
   "outputs": [],
   "source": [
    "import os\n",
    "import numpy as np\n",
    "import seaborn as sns\n",
    "import pandas as pd\n",
    "import matplotlib.pyplot as plt\n",
    "import matplotlib.patches as patches\n",
    "import dsntnn"
   ]
  },
  {
   "cell_type": "code",
   "execution_count": 2,
   "metadata": {},
   "outputs": [],
   "source": [
    "import matplotlib\n",
    "font = {'family' : 'serif',\n",
    "        'weight' : 'normal',\n",
    "        'size'   : 22}\n",
    "\n",
    "matplotlib.rc('font', **font)"
   ]
  },
  {
   "cell_type": "code",
   "execution_count": 3,
   "metadata": {},
   "outputs": [],
   "source": [
    "ordered_verts = ['T4', 'T5', 'T6', 'T7', 'T8', 'T9', 'T10', 'T11', 'T12', 'L1', 'L2', 'L3', 'L4']\n",
    "colors = ['r', 'b', 'g', 'c', 'm', 'y', 'orange', 'brown', 'pink', 'purple', 'white', 'gray', 'olive']"
   ]
  },
  {
   "cell_type": "markdown",
   "metadata": {},
   "source": [
    "# Collect results:\n",
    "<ol>\n",
    "    <li>Patient score<br>\n",
    "    <li>Level score<br>\n",
    "<ol>"
   ]
  },
  {
   "cell_type": "code",
   "execution_count": 4,
   "metadata": {},
   "outputs": [],
   "source": [
    "def sigmoid(x):\n",
    "    return 1/(1+np.exp(-x))"
   ]
  },
  {
   "cell_type": "markdown",
   "metadata": {},
   "source": [
    "### Get predictions"
   ]
  },
  {
   "cell_type": "code",
   "execution_count": 5,
   "metadata": {},
   "outputs": [
    {
     "data": {
      "text/plain": [
       "((46,), (46, 13), (46, 13, 512, 1), (46, 13))"
      ]
     },
     "execution_count": 5,
     "metadata": {},
     "output_type": "execute_result"
    }
   ],
   "source": [
    "predictions = np.load('../outputs/mse_model_preds.npz')\n",
    "ids, coords, dists, labels = predictions.values()\n",
    "ids.shape, coords.shape, dists.shape, labels.shape"
   ]
  },
  {
   "cell_type": "markdown",
   "metadata": {},
   "source": [
    "Format predictions.<br> **Note**: Only interested in levels we know are present."
   ]
  },
  {
   "cell_type": "code",
   "execution_count": 6,
   "metadata": {},
   "outputs": [],
   "source": [
    "def format_preds(ids, coords, dists, labels):\n",
    "    pred_dict = {}\n",
    "    for i, name in enumerate(ids):\n",
    "        tmp = coords[i]\n",
    "        mask = labels[i]\n",
    "        pred_dict[name] = {}\n",
    "        for idx in range(len(mask)):\n",
    "            if mask[idx] == 1:\n",
    "                vert = ordered_verts[idx]\n",
    "                coord = dsntnn.normalized_to_pixel_coordinates(tmp[idx], size=dists.shape[-1])\n",
    "                pred_dict[name][vert] = coord\n",
    "            else:\n",
    "                continue\n",
    "                \n",
    "    dist_dict = {}\n",
    "    for i, name in enumerate(ids):\n",
    "        dist_dict[name] = dists[i]\n",
    "    return pred_dict, dist_dict"
   ]
  },
  {
   "cell_type": "code",
   "execution_count": 7,
   "metadata": {},
   "outputs": [],
   "source": [
    "pred_dict, dist_dict = format_preds(ids, coords, dists, labels)\n"
   ]
  },
  {
   "cell_type": "markdown",
   "metadata": {},
   "source": [
    "### Get annotation info for converting to $mm$"
   ]
  },
  {
   "cell_type": "code",
   "execution_count": 8,
   "metadata": {},
   "outputs": [],
   "source": [
    "from ast import literal_eval"
   ]
  },
  {
   "cell_type": "code",
   "execution_count": 9,
   "metadata": {},
   "outputs": [
    {
     "data": {
      "text/html": [
       "<div>\n",
       "<style scoped>\n",
       "    .dataframe tbody tr th:only-of-type {\n",
       "        vertical-align: middle;\n",
       "    }\n",
       "\n",
       "    .dataframe tbody tr th {\n",
       "        vertical-align: top;\n",
       "    }\n",
       "\n",
       "    .dataframe thead th {\n",
       "        text-align: right;\n",
       "    }\n",
       "</style>\n",
       "<table border=\"1\" class=\"dataframe\">\n",
       "  <thead>\n",
       "    <tr style=\"text-align: right;\">\n",
       "      <th></th>\n",
       "      <th>Padding</th>\n",
       "      <th>Pixel Scaling</th>\n",
       "    </tr>\n",
       "    <tr>\n",
       "      <th>Name</th>\n",
       "      <th></th>\n",
       "      <th></th>\n",
       "    </tr>\n",
       "  </thead>\n",
       "  <tbody>\n",
       "    <tr>\n",
       "      <th>03_06_2014_389_Sag</th>\n",
       "      <td>(42.0, 42.0)</td>\n",
       "      <td>(1.1640625, 1.1640625)</td>\n",
       "    </tr>\n",
       "    <tr>\n",
       "      <th>03_06_2014_402_Sag</th>\n",
       "      <td>(-96.0, -96.0)</td>\n",
       "      <td>(0.625, 0.625)</td>\n",
       "    </tr>\n",
       "    <tr>\n",
       "      <th>03_06_2014_396_Sag</th>\n",
       "      <td>(-63.0, -63.0)</td>\n",
       "      <td>(0.75200004576, 0.75200004576)</td>\n",
       "    </tr>\n",
       "    <tr>\n",
       "      <th>03_06_2014_395_Sag</th>\n",
       "      <td>(-90.0, -90.0)</td>\n",
       "      <td>(0.6480000019200001, 0.6480000019200001)</td>\n",
       "    </tr>\n",
       "    <tr>\n",
       "      <th>03_06_2014_399_TS_Sag</th>\n",
       "      <td>(-96.0, -96.0)</td>\n",
       "      <td>(0.625, 0.625)</td>\n",
       "    </tr>\n",
       "  </tbody>\n",
       "</table>\n",
       "</div>"
      ],
      "text/plain": [
       "                              Padding  \\\n",
       "Name                                    \n",
       "03_06_2014_389_Sag       (42.0, 42.0)   \n",
       "03_06_2014_402_Sag     (-96.0, -96.0)   \n",
       "03_06_2014_396_Sag     (-63.0, -63.0)   \n",
       "03_06_2014_395_Sag     (-90.0, -90.0)   \n",
       "03_06_2014_399_TS_Sag  (-96.0, -96.0)   \n",
       "\n",
       "                                                  Pixel Scaling  \n",
       "Name                                                             \n",
       "03_06_2014_389_Sag                       (1.1640625, 1.1640625)  \n",
       "03_06_2014_402_Sag                               (0.625, 0.625)  \n",
       "03_06_2014_396_Sag               (0.75200004576, 0.75200004576)  \n",
       "03_06_2014_395_Sag     (0.6480000019200001, 0.6480000019200001)  \n",
       "03_06_2014_399_TS_Sag                            (0.625, 0.625)  "
      ]
     },
     "execution_count": 9,
     "metadata": {},
     "output_type": "execute_result"
    }
   ],
   "source": [
    "pix_info = pd.read_csv(f'../images_sagittal/annotation_info.csv', index_col='Name')\n",
    "pix_info.head()"
   ]
  },
  {
   "cell_type": "markdown",
   "metadata": {},
   "source": [
    "### Get ground-truth"
   ]
  },
  {
   "cell_type": "code",
   "execution_count": 10,
   "metadata": {},
   "outputs": [],
   "source": [
    "def get_gt(id_):\n",
    "    path = f'../data/testing/targets/'\n",
    "    #image\n",
    "    img_path = f'../data/testing/slices/sagittal/{id_}.npy'\n",
    "    img = np.load(img_path)\n",
    "    # Coordinates\n",
    "    coord_path = path + f'coordinates/{id_}.csv'\n",
    "    coords = pd.read_csv(coord_path, index_col='Level').sort_values(by='Coordinate')\n",
    "    # Heatmaps\n",
    "    dist_path = path + f'heatmaps/{id_}.npy'\n",
    "    dists = np.load(dist_path)\n",
    "    return coords, dists, img"
   ]
  },
  {
   "cell_type": "code",
   "execution_count": 11,
   "metadata": {},
   "outputs": [],
   "source": [
    "coord_dict = {}\n",
    "for name in ids:\n",
    "    coords, dists, img = get_gt(name)\n",
    "    coord_dict[name] = coords"
   ]
  },
  {
   "cell_type": "code",
   "execution_count": 12,
   "metadata": {},
   "outputs": [],
   "source": [
    "def make_labels(coord_dict):\n",
    "    # Use halfway point between neighbouring levels as boundary\n",
    "    # Coord dict=  patient specific coordinates\n",
    "    gt_dict = {}\n",
    "    for i, (level, data) in enumerate(coord_dict.iterrows()):\n",
    "        coord = data.to_list()[0]\n",
    "        dif = coord_dict['Coordinate']-coord\n",
    "        if i ==0:\n",
    "            nn = coord_dict.iloc[(dif).abs().argsort()[1]]\n",
    "            dist = np.abs(dif[nn.name])\n",
    "            range_ = [coord-dist/2, coord, coord+dist/2]\n",
    "            gt_dict[level] = range_\n",
    "        elif i > 0 and i < len(coord_dict.index)-1:\n",
    "            nn = coord_dict.iloc[(dif).abs().argsort()[1:3]]\n",
    "            for vert in nn.index.to_list():\n",
    "                rel_dist = ordered_verts.index(vert)-ordered_verts.index(level)\n",
    "                if rel_dist < 0:\n",
    "                    up_nn = np.abs(dif[vert])\n",
    "                elif rel_dist > 0:\n",
    "                    down_nn = np.abs(dif[vert])\n",
    "                else:\n",
    "                    print('Indexing has gone wrong')\n",
    "                    break\n",
    "            range_ = [coord - up_nn/2, coord, coord + down_nn/2]\n",
    "            gt_dict[level] = range_\n",
    "        else:\n",
    "            nn = coord_dict.iloc[(dif).abs().argsort()[1]]\n",
    "            dist = np.abs(dif[nn.name])\n",
    "            range_ = [coord - dist/2, coord, coord+dist/2]\n",
    "            gt_dict[level] = range_\n",
    "    return gt_dict"
   ]
  },
  {
   "cell_type": "markdown",
   "metadata": {},
   "source": [
    "#### Make labels (range = dist. to NN/2)"
   ]
  },
  {
   "cell_type": "markdown",
   "metadata": {},
   "source": [
    "Each entry: Min Range, Center point, Max Range"
   ]
  },
  {
   "cell_type": "code",
   "execution_count": 13,
   "metadata": {},
   "outputs": [],
   "source": [
    "all_gt = {}\n",
    "for name in ids:\n",
    "    gt_dict = make_labels(coord_dict[name])\n",
    "    all_gt[name] = gt_dict"
   ]
  },
  {
   "cell_type": "markdown",
   "metadata": {},
   "source": [
    "## Evaluate predictions\n",
    "(`all_gt` & `pred_dict`)"
   ]
  },
  {
   "cell_type": "code",
   "execution_count": 14,
   "metadata": {},
   "outputs": [],
   "source": [
    "def plot_preds(name, pred_dict):\n",
    "    #Inputs are patient-specific\n",
    "    gt, pred = all_gt[name], pred_dict[name]\n",
    "    img = np.load(f'../data/testing/slices/sagittal/{name}.npy')\n",
    "    fig, ax = plt.subplots(1, 1, figsize=(15, 15))\n",
    "    ax.imshow(img)\n",
    "        \n",
    "    plot_gt = np.zeros((512, 512), dtype=np.uint8)\n",
    "    \n",
    "    # Plot ground-truth\n",
    "    for i, (level, range_) in enumerate(gt.items()):\n",
    "        channel = ordered_verts.index(level)\n",
    "        min_range, center, max_range = range_\n",
    "        rec = patches.Rectangle((0, min_range), 512, max_range-min_range, facecolor=None, \n",
    "                                edgecolor='w', linewidth=4, alpha=0.8,fill=False, hatch=None)\n",
    "        ax.add_patch(rec)\n",
    "        ax.text(490, center, level, color='w')\n",
    "        pred_coord = pred[level]\n",
    "        if pred_coord > min_range and pred_coord < max_range:\n",
    "            ax.axhline(pred_coord, ls='--', c='lawngreen', lw=4)\n",
    "            ax.text(5, pred_coord-5, level, color='lawngreen')\n",
    "        else:\n",
    "            ax.axhline(pred_coord, ls='--', c='orangered', lw=4)\n",
    "            ax.text(5, pred_coord-5, level, color='orangered')\n",
    "    fig.savefig(f'../outputs/predictions/{name}.png')\n",
    "    plt.close()\n",
    "    "
   ]
  },
  {
   "cell_type": "code",
   "execution_count": 15,
   "metadata": {},
   "outputs": [],
   "source": [
    "plot_preds('fr_552_TS_Sag', pred_dict)"
   ]
  },
  {
   "cell_type": "code",
   "execution_count": 16,
   "metadata": {},
   "outputs": [],
   "source": [
    "def get_scores(name, pred_dict, plot=False):\n",
    "    if plot:\n",
    "        plot_preds(name, pred_dict)\n",
    "    #Inputs are patient-specific\n",
    "    gt, pred = all_gt[name], pred_dict[name]\n",
    "    img = np.load(f'../data/testing/slices/sagittal/{name}.npy')\n",
    "    plot_gt = np.zeros((512, 512), dtype=np.uint8)\n",
    "    level_list = []\n",
    "    correct_list = []\n",
    "    dist_list = []\n",
    "    range_list = []\n",
    "    for i, (level, range_) in enumerate(gt.items()):\n",
    "        channel = ordered_verts.index(level)\n",
    "        min_range, center, max_range = range_\n",
    "        if level not in pred.keys():\n",
    "            scores_dict[level] = {'Correct': 'Not Predicted',\n",
    "                                  'Distance': 'N/a'}\n",
    "            level_list.append(level)\n",
    "            correct_list.append('Not Predicted')\n",
    "            dist_list.append('N/A')\n",
    "            range_list.append(pix_scale[0]*np.abs(max_range-min_range))\n",
    "            continue\n",
    "        pred_coord = pred[level]\n",
    "        if pred_coord > min_range and pred_coord < max_range:\n",
    "            level_list.append(level)\n",
    "            correct_list.append(True)\n",
    "            dist = np.abs(pred_coord - center)\n",
    "            pix_scale = literal_eval(pix_info.loc[name, 'Pixel Scaling'])\n",
    "            dist /= pix_scale[0]\n",
    "            dist_list.append(dist)\n",
    "            range_list.append(pix_scale[0]*np.abs(max_range-min_range))\n",
    "        else:\n",
    "            level_list.append(level)\n",
    "            correct_list.append(False)\n",
    "            dist = np.abs(pred_coord - center)\n",
    "            pix_scale = literal_eval(pix_info.loc[name, 'Pixel Scaling'])\n",
    "            dist /= pix_scale[0]\n",
    "            if dist > 250:\n",
    "                print(name)\n",
    "            dist_list.append(dist)\n",
    "            range_list.append(pix_scale[0]*np.abs(max_range-min_range))\n",
    "    return level_list, correct_list, dist_list, range_list"
   ]
  },
  {
   "cell_type": "markdown",
   "metadata": {},
   "source": [
    "Automate making dataframe w/ scores"
   ]
  },
  {
   "cell_type": "code",
   "execution_count": 17,
   "metadata": {},
   "outputs": [],
   "source": [
    "def make_score_df(pred_dict):\n",
    "    levels = []\n",
    "    correct = []\n",
    "    distances = []\n",
    "    range_list = []\n",
    "    for name in ids:\n",
    "        level, cor, dist, ranges = get_scores(name, pred_dict, plot=False)\n",
    "        levels.extend(level)\n",
    "        correct.extend(cor)\n",
    "        distances.extend(dist)\n",
    "        range_list.extend(ranges)\n",
    "    scores_df = pd.DataFrame(columns=['Level', 'Correct', 'Distance', 'Range'])\n",
    "    scores_df['Level'] = levels\n",
    "    scores_df['Correct'] = correct\n",
    "    scores_df['Distance'] = distances\n",
    "    scores_df['Range'] = range_list\n",
    "    scores_df.head()\n",
    "    scores_df['Level'] = pd.Categorical(scores_df['Level'],\n",
    "                                   categories=ordered_verts,\n",
    "                                   ordered=True)\n",
    "    table = pd.DataFrame(scores_df.groupby('Level')['Correct'].value_counts(normalize=True)*100).transpose()\n",
    "    table.index = ['Accuracy']\n",
    "    display(table)\n",
    "    accuracy = {level: table[level, True] for level in ordered_verts}\n",
    "    accuracy = pd.DataFrame(accuracy).T\n",
    "    return scores_df, accuracy"
   ]
  },
  {
   "cell_type": "code",
   "execution_count": 18,
   "metadata": {},
   "outputs": [
    {
     "name": "stdout",
     "output_type": "stream",
     "text": [
      "04_06_2014_431_Sag\n",
      "04_06_2014_431_Sag\n",
      "04_06_2014_431_Sag\n",
      "fr_553_LS_Sag\n",
      "fr_553_LS_Sag\n",
      "fr_553_LS_Sag\n",
      "fr_553_LS_Sag\n",
      "16_05_2014_249_Sag\n",
      "16_05_2014_249_Sag\n",
      "16_05_2014_249_Sag\n",
      "16_05_2014_249_Sag\n",
      "16_05_2014_249_Sag\n",
      "16_05_2014_249_Sag\n",
      "16_05_2014_249_Sag\n",
      "16_05_2014_249_Sag\n",
      "fr_583_TS_Sag\n",
      "fr_583_TS_Sag\n",
      "fr_583_TS_Sag\n",
      "fr_583_TS_Sag\n",
      "fr_583_TS_Sag\n",
      "fr_583_TS_Sag\n",
      "fr_583_TS_Sag\n",
      "fr_583_TS_Sag\n",
      "04_06_2014_414_LS_Sag_3mm\n",
      "04_06_2014_414_LS_Sag_3mm\n",
      "04_06_2014_414_LS_Sag_3mm\n",
      "fr_540_LS_Sag\n",
      "fr_540_LS_Sag\n",
      "fr_540_LS_Sag\n",
      "fr_540_LS_Sag\n",
      "fr_540_LS_Sag\n",
      "fr_540_LS_Sag\n",
      "19_05_2014_227_Sag\n",
      "19_05_2014_227_Sag\n",
      "19_05_2014_227_Sag\n",
      "19_05_2014_227_Sag\n",
      "19_05_2014_227_Sag\n",
      "19_05_2014_227_Sag\n",
      "19_05_2014_227_Sag\n",
      "28_05_2014_80_Sag_LS\n",
      "28_05_2014_80_Sag_LS\n",
      "28_05_2014_80_Sag_LS\n",
      "fr_555_LS_Sag\n",
      "fr_555_LS_Sag\n",
      "fr_555_LS_Sag\n",
      "fr_555_LS_Sag\n",
      "fr_523_TS_Sag\n",
      "fr_523_TS_Sag\n",
      "fr_523_TS_Sag\n",
      "fr_523_TS_Sag\n",
      "fr_523_TS_Sag\n",
      "fr_523_TS_Sag\n",
      "fr_523_TS_Sag\n",
      "fr_523_TS_Sag\n",
      "fr_523_TS_Sag\n",
      "fr_574_TS_Sag\n",
      "fr_574_TS_Sag\n",
      "fr_574_TS_Sag\n",
      "fr_574_TS_Sag\n",
      "fr_574_TS_Sag\n",
      "fr_574_TS_Sag\n",
      "fr_574_TS_Sag\n",
      "fr_574_TS_Sag\n",
      "fr_574_TS_Sag\n",
      "fr_574_TS_Sag\n",
      "04_06_2014_416_CS_Sag\n",
      "04_06_2014_416_CS_Sag\n",
      "04_06_2014_416_CS_Sag\n",
      "24_05_2014_135_Sag\n",
      "24_05_2014_135_Sag\n",
      "24_05_2014_135_Sag\n",
      "24_05_2014_135_Sag\n",
      "24_05_2014_135_Sag\n",
      "24_05_2014_135_Sag\n",
      "fr_607_TS_Sag\n",
      "fr_607_TS_Sag\n",
      "fr_607_TS_Sag\n",
      "fr_607_TS_Sag\n",
      "fr_607_TS_Sag\n",
      "fr_607_TS_Sag\n",
      "fr_607_TS_Sag\n",
      "fr_607_TS_Sag\n",
      "15_05_2014_293_TS_Sag\n",
      "15_05_2014_293_TS_Sag\n",
      "15_05_2014_293_TS_Sag\n",
      "15_05_2014_293_TS_Sag\n",
      "15_05_2014_293_TS_Sag\n",
      "15_05_2014_293_TS_Sag\n",
      "15_05_2014_293_TS_Sag\n",
      "21_05_2014_188_Sag_TS\n",
      "21_05_2014_188_Sag_TS\n",
      "21_05_2014_188_Sag_TS\n",
      "21_05_2014_188_Sag_TS\n",
      "21_05_2014_188_Sag_TS\n",
      "21_05_2014_188_Sag_TS\n",
      "21_05_2014_188_Sag_TS\n",
      "21_05_2014_188_Sag_TS\n",
      "22_05_2014_163_Sag\n",
      "22_05_2014_163_Sag\n",
      "22_05_2014_163_Sag\n",
      "22_05_2014_163_Sag\n",
      "22_05_2014_163_Sag\n",
      "22_05_2014_163_Sag\n",
      "22_05_2014_163_Sag\n",
      "22_05_2014_163_Sag\n",
      "fr_562_LS_Sag\n",
      "fr_562_LS_Sag\n",
      "fr_562_LS_Sag\n",
      "fr_562_LS_Sag\n",
      "fr_562_LS_Sag\n",
      "fr_562_LS_Sag\n",
      "fr_562_LS_Sag\n",
      "22_05_2014_167_Sag_LS\n",
      "22_05_2014_167_Sag_LS\n",
      "22_05_2014_167_Sag_LS\n",
      "22_05_2014_167_Sag_LS\n",
      "21_05_2014_189_Sag_LS\n",
      "21_05_2014_189_Sag_LS\n",
      "21_05_2014_189_Sag_LS\n",
      "21_05_2014_189_Sag_LS\n",
      "fr_552_TS_Sag\n",
      "fr_552_TS_Sag\n",
      "fr_552_TS_Sag\n",
      "fr_552_TS_Sag\n",
      "fr_552_TS_Sag\n",
      "fr_552_TS_Sag\n",
      "fr_552_TS_Sag\n",
      "fr_552_TS_Sag\n",
      "fr_552_TS_Sag\n",
      "01_06_2014_363_Sag\n",
      "01_06_2014_363_Sag\n",
      "01_06_2014_363_Sag\n",
      "04_06_2014_436_Sag\n",
      "04_06_2014_436_Sag\n",
      "04_06_2014_436_Sag\n",
      "04_06_2014_436_Sag\n",
      "04_06_2014_436_Sag\n",
      "04_06_2014_436_Sag\n",
      "04_06_2014_436_Sag\n",
      "04_06_2014_436_Sag\n",
      "28_05_2014_67_Sag\n",
      "28_05_2014_67_Sag\n",
      "28_05_2014_67_Sag\n",
      "28_05_2014_67_Sag\n",
      "28_05_2014_67_Sag\n",
      "28_05_2014_67_Sag\n",
      "28_05_2014_67_Sag\n",
      "28_05_2014_67_Sag\n",
      "28_05_2014_67_Sag\n",
      "28_05_2014_67_Sag\n",
      "17_05_2014_247_Sag\n",
      "17_05_2014_247_Sag\n",
      "17_05_2014_247_Sag\n",
      "17_05_2014_247_Sag\n",
      "fr_549_LS_Sag\n",
      "fr_549_LS_Sag\n",
      "fr_549_LS_Sag\n",
      "fr_549_LS_Sag\n",
      "fr_549_LS_Sag\n",
      "fr_592_LS_Sag\n",
      "fr_592_LS_Sag\n",
      "fr_592_LS_Sag\n",
      "01_06_2014_368_Sag\n",
      "01_06_2014_368_Sag\n",
      "01_06_2014_368_Sag\n",
      "04_06_2014_415_TS_Sag\n",
      "04_06_2014_415_TS_Sag\n",
      "04_06_2014_415_TS_Sag\n",
      "04_06_2014_415_TS_Sag\n",
      "04_06_2014_415_TS_Sag\n",
      "04_06_2014_415_TS_Sag\n",
      "04_06_2014_415_TS_Sag\n",
      "04_06_2014_415_TS_Sag\n",
      "28_05_2014_81_Sag_TS\n",
      "28_05_2014_81_Sag_TS\n",
      "28_05_2014_81_Sag_TS\n",
      "28_05_2014_81_Sag_TS\n",
      "28_05_2014_81_Sag_TS\n",
      "28_05_2014_81_Sag_TS\n",
      "28_05_2014_81_Sag_TS\n",
      "28_05_2014_81_Sag_TS\n",
      "04_06_2014_423_Sag\n",
      "04_06_2014_423_Sag\n",
      "04_06_2014_423_Sag\n",
      "04_06_2014_423_Sag\n",
      "fr_536_LS_Sag\n",
      "fr_536_LS_Sag\n",
      "fr_536_LS_Sag\n",
      "fr_536_LS_Sag\n",
      "fr_536_LS_Sag\n",
      "19_05_2014_230_Sag\n",
      "19_05_2014_230_Sag\n",
      "19_05_2014_230_Sag\n",
      "19_05_2014_230_Sag\n",
      "fr_533_LS_Sag\n",
      "fr_533_LS_Sag\n",
      "fr_533_LS_Sag\n",
      "fr_533_LS_Sag\n",
      "fr_533_LS_Sag\n",
      "fr_613_LS_Sag\n",
      "fr_613_LS_Sag\n",
      "fr_613_LS_Sag\n",
      "fr_613_LS_Sag\n",
      "fr_613_LS_Sag\n",
      "04_06_2014_413_TS_Sag\n",
      "04_06_2014_413_TS_Sag\n",
      "04_06_2014_413_TS_Sag\n",
      "04_06_2014_413_TS_Sag\n",
      "04_06_2014_413_TS_Sag\n",
      "04_06_2014_413_TS_Sag\n",
      "04_06_2014_413_TS_Sag\n",
      "04_06_2014_413_TS_Sag\n",
      "15_05_2014_296_Sag\n",
      "15_05_2014_296_Sag\n",
      "15_05_2014_296_Sag\n",
      "16_05_2014_259_LS_Sag\n",
      "16_05_2014_259_LS_Sag\n",
      "16_05_2014_259_LS_Sag\n",
      "fr_563_TS_Sag\n",
      "fr_563_TS_Sag\n",
      "fr_563_TS_Sag\n",
      "fr_563_TS_Sag\n",
      "fr_563_TS_Sag\n",
      "fr_563_TS_Sag\n",
      "fr_563_TS_Sag\n",
      "fr_563_TS_Sag\n",
      "22_05_2014_167_Sag_TS\n",
      "22_05_2014_167_Sag_TS\n",
      "22_05_2014_167_Sag_TS\n",
      "22_05_2014_167_Sag_TS\n",
      "22_05_2014_167_Sag_TS\n",
      "22_05_2014_167_Sag_TS\n",
      "22_05_2014_167_Sag_TS\n",
      "22_05_2014_167_Sag_TS\n",
      "22_05_2014_167_Sag_TS\n",
      "04_06_2014_408_TS_Sag\n",
      "04_06_2014_408_TS_Sag\n",
      "04_06_2014_408_TS_Sag\n",
      "04_06_2014_408_TS_Sag\n",
      "04_06_2014_408_TS_Sag\n",
      "04_06_2014_408_TS_Sag\n",
      "04_06_2014_408_TS_Sag\n",
      "04_06_2014_408_TS_Sag\n",
      "27_05_2014_120_Sag\n",
      "27_05_2014_120_Sag\n",
      "27_05_2014_120_Sag\n",
      "27_05_2014_120_Sag\n",
      "27_05_2014_120_Sag\n",
      "27_05_2014_120_Sag\n",
      "27_05_2014_120_Sag\n",
      "fr_604_TLS_LS_Sag\n",
      "fr_604_TLS_LS_Sag\n",
      "fr_604_TLS_LS_Sag\n",
      "23_05_2014_138_Sag\n",
      "23_05_2014_138_Sag\n",
      "03_06_2014_393_Sag\n",
      "03_06_2014_393_Sag\n",
      "03_06_2014_393_Sag\n",
      "03_06_2014_393_Sag\n",
      "fr_561_LS_Sag\n",
      "fr_561_LS_Sag\n",
      "fr_561_LS_Sag\n",
      "fr_561_LS_Sag\n"
     ]
    },
    {
     "data": {
      "text/html": [
       "<div>\n",
       "<style scoped>\n",
       "    .dataframe tbody tr th:only-of-type {\n",
       "        vertical-align: middle;\n",
       "    }\n",
       "\n",
       "    .dataframe tbody tr th {\n",
       "        vertical-align: top;\n",
       "    }\n",
       "\n",
       "    .dataframe thead tr th {\n",
       "        text-align: left;\n",
       "    }\n",
       "</style>\n",
       "<table border=\"1\" class=\"dataframe\">\n",
       "  <thead>\n",
       "    <tr>\n",
       "      <th>Level</th>\n",
       "      <th>T4</th>\n",
       "      <th>T5</th>\n",
       "      <th>T6</th>\n",
       "      <th>T7</th>\n",
       "      <th>T8</th>\n",
       "      <th>T9</th>\n",
       "      <th>T10</th>\n",
       "      <th>T11</th>\n",
       "      <th>T12</th>\n",
       "      <th>L1</th>\n",
       "      <th>L2</th>\n",
       "      <th>L3</th>\n",
       "      <th>L4</th>\n",
       "    </tr>\n",
       "    <tr>\n",
       "      <th>Correct</th>\n",
       "      <th>False</th>\n",
       "      <th>False</th>\n",
       "      <th>False</th>\n",
       "      <th>False</th>\n",
       "      <th>False</th>\n",
       "      <th>False</th>\n",
       "      <th>False</th>\n",
       "      <th>False</th>\n",
       "      <th>False</th>\n",
       "      <th>False</th>\n",
       "      <th>False</th>\n",
       "      <th>False</th>\n",
       "      <th>False</th>\n",
       "    </tr>\n",
       "  </thead>\n",
       "  <tbody>\n",
       "    <tr>\n",
       "      <th>Accuracy</th>\n",
       "      <td>100.0</td>\n",
       "      <td>100.0</td>\n",
       "      <td>100.0</td>\n",
       "      <td>100.0</td>\n",
       "      <td>100.0</td>\n",
       "      <td>100.0</td>\n",
       "      <td>100.0</td>\n",
       "      <td>100.0</td>\n",
       "      <td>100.0</td>\n",
       "      <td>100.0</td>\n",
       "      <td>100.0</td>\n",
       "      <td>100.0</td>\n",
       "      <td>100.0</td>\n",
       "    </tr>\n",
       "  </tbody>\n",
       "</table>\n",
       "</div>"
      ],
      "text/plain": [
       "Level       T4     T5     T6     T7     T8     T9     T10    T11    T12  \\\n",
       "Correct   False  False  False  False  False  False  False  False  False   \n",
       "Accuracy  100.0  100.0  100.0  100.0  100.0  100.0  100.0  100.0  100.0   \n",
       "\n",
       "Level       L1     L2     L3     L4   \n",
       "Correct   False  False  False  False  \n",
       "Accuracy  100.0  100.0  100.0  100.0  "
      ]
     },
     "metadata": {},
     "output_type": "display_data"
    },
    {
     "ename": "KeyError",
     "evalue": "('T4', True)",
     "output_type": "error",
     "traceback": [
      "\u001b[0;31m---------------------------------------------------------------------------\u001b[0m",
      "\u001b[0;31mKeyError\u001b[0m                                  Traceback (most recent call last)",
      "\u001b[0;32m/home/donal/anaconda3/envs/py36/lib/python3.6/site-packages/pandas/core/indexes/base.py\u001b[0m in \u001b[0;36mget_loc\u001b[0;34m(self, key, method, tolerance)\u001b[0m\n\u001b[1;32m   2888\u001b[0m             \u001b[0;32mtry\u001b[0m\u001b[0;34m:\u001b[0m\u001b[0;34m\u001b[0m\u001b[0;34m\u001b[0m\u001b[0m\n\u001b[0;32m-> 2889\u001b[0;31m                 \u001b[0;32mreturn\u001b[0m \u001b[0mself\u001b[0m\u001b[0;34m.\u001b[0m\u001b[0m_engine\u001b[0m\u001b[0;34m.\u001b[0m\u001b[0mget_loc\u001b[0m\u001b[0;34m(\u001b[0m\u001b[0mcasted_key\u001b[0m\u001b[0;34m)\u001b[0m\u001b[0;34m\u001b[0m\u001b[0;34m\u001b[0m\u001b[0m\n\u001b[0m\u001b[1;32m   2890\u001b[0m             \u001b[0;32mexcept\u001b[0m \u001b[0mKeyError\u001b[0m \u001b[0;32mas\u001b[0m \u001b[0merr\u001b[0m\u001b[0;34m:\u001b[0m\u001b[0;34m\u001b[0m\u001b[0;34m\u001b[0m\u001b[0m\n",
      "\u001b[0;32mpandas/_libs/index.pyx\u001b[0m in \u001b[0;36mpandas._libs.index.IndexEngine.get_loc\u001b[0;34m()\u001b[0m\n",
      "\u001b[0;32mpandas/_libs/index.pyx\u001b[0m in \u001b[0;36mpandas._libs.index.IndexEngine.get_loc\u001b[0;34m()\u001b[0m\n",
      "\u001b[0;32mpandas/_libs/hashtable_class_helper.pxi\u001b[0m in \u001b[0;36mpandas._libs.hashtable.PyObjectHashTable.get_item\u001b[0;34m()\u001b[0m\n",
      "\u001b[0;32mpandas/_libs/hashtable_class_helper.pxi\u001b[0m in \u001b[0;36mpandas._libs.hashtable.PyObjectHashTable.get_item\u001b[0;34m()\u001b[0m\n",
      "\u001b[0;31mKeyError\u001b[0m: True",
      "\nThe above exception was the direct cause of the following exception:\n",
      "\u001b[0;31mKeyError\u001b[0m                                  Traceback (most recent call last)",
      "\u001b[0;32mpandas/_libs/index.pyx\u001b[0m in \u001b[0;36mpandas._libs.index.BaseMultiIndexCodesEngine.get_loc\u001b[0;34m()\u001b[0m\n",
      "\u001b[0;32m/home/donal/anaconda3/envs/py36/lib/python3.6/site-packages/pandas/core/indexes/base.py\u001b[0m in \u001b[0;36mget_loc\u001b[0;34m(self, key, method, tolerance)\u001b[0m\n\u001b[1;32m   2890\u001b[0m             \u001b[0;32mexcept\u001b[0m \u001b[0mKeyError\u001b[0m \u001b[0;32mas\u001b[0m \u001b[0merr\u001b[0m\u001b[0;34m:\u001b[0m\u001b[0;34m\u001b[0m\u001b[0;34m\u001b[0m\u001b[0m\n\u001b[0;32m-> 2891\u001b[0;31m                 \u001b[0;32mraise\u001b[0m \u001b[0mKeyError\u001b[0m\u001b[0;34m(\u001b[0m\u001b[0mkey\u001b[0m\u001b[0;34m)\u001b[0m \u001b[0;32mfrom\u001b[0m \u001b[0merr\u001b[0m\u001b[0;34m\u001b[0m\u001b[0;34m\u001b[0m\u001b[0m\n\u001b[0m\u001b[1;32m   2892\u001b[0m \u001b[0;34m\u001b[0m\u001b[0m\n",
      "\u001b[0;31mKeyError\u001b[0m: True",
      "\nDuring handling of the above exception, another exception occurred:\n",
      "\u001b[0;31mKeyError\u001b[0m                                  Traceback (most recent call last)",
      "\u001b[0;32m<ipython-input-18-146963241580>\u001b[0m in \u001b[0;36m<module>\u001b[0;34m()\u001b[0m\n\u001b[0;32m----> 1\u001b[0;31m \u001b[0mscores_df\u001b[0m\u001b[0;34m,\u001b[0m \u001b[0maccuracy\u001b[0m \u001b[0;34m=\u001b[0m \u001b[0mmake_score_df\u001b[0m\u001b[0;34m(\u001b[0m\u001b[0mpred_dict\u001b[0m\u001b[0;34m)\u001b[0m\u001b[0;34m\u001b[0m\u001b[0;34m\u001b[0m\u001b[0m\n\u001b[0m",
      "\u001b[0;32m<ipython-input-17-e44e00ad430b>\u001b[0m in \u001b[0;36mmake_score_df\u001b[0;34m(pred_dict)\u001b[0m\n\u001b[1;32m     22\u001b[0m     \u001b[0mtable\u001b[0m\u001b[0;34m.\u001b[0m\u001b[0mindex\u001b[0m \u001b[0;34m=\u001b[0m \u001b[0;34m[\u001b[0m\u001b[0;34m'Accuracy'\u001b[0m\u001b[0;34m]\u001b[0m\u001b[0;34m\u001b[0m\u001b[0;34m\u001b[0m\u001b[0m\n\u001b[1;32m     23\u001b[0m     \u001b[0mdisplay\u001b[0m\u001b[0;34m(\u001b[0m\u001b[0mtable\u001b[0m\u001b[0;34m)\u001b[0m\u001b[0;34m\u001b[0m\u001b[0;34m\u001b[0m\u001b[0m\n\u001b[0;32m---> 24\u001b[0;31m     \u001b[0maccuracy\u001b[0m \u001b[0;34m=\u001b[0m \u001b[0;34m{\u001b[0m\u001b[0mlevel\u001b[0m\u001b[0;34m:\u001b[0m \u001b[0mtable\u001b[0m\u001b[0;34m[\u001b[0m\u001b[0mlevel\u001b[0m\u001b[0;34m,\u001b[0m \u001b[0;32mTrue\u001b[0m\u001b[0;34m]\u001b[0m \u001b[0;32mfor\u001b[0m \u001b[0mlevel\u001b[0m \u001b[0;32min\u001b[0m \u001b[0mordered_verts\u001b[0m\u001b[0;34m}\u001b[0m\u001b[0;34m\u001b[0m\u001b[0;34m\u001b[0m\u001b[0m\n\u001b[0m\u001b[1;32m     25\u001b[0m     \u001b[0maccuracy\u001b[0m \u001b[0;34m=\u001b[0m \u001b[0mpd\u001b[0m\u001b[0;34m.\u001b[0m\u001b[0mDataFrame\u001b[0m\u001b[0;34m(\u001b[0m\u001b[0maccuracy\u001b[0m\u001b[0;34m)\u001b[0m\u001b[0;34m.\u001b[0m\u001b[0mT\u001b[0m\u001b[0;34m\u001b[0m\u001b[0;34m\u001b[0m\u001b[0m\n\u001b[1;32m     26\u001b[0m     \u001b[0;32mreturn\u001b[0m \u001b[0mscores_df\u001b[0m\u001b[0;34m,\u001b[0m \u001b[0maccuracy\u001b[0m\u001b[0;34m\u001b[0m\u001b[0;34m\u001b[0m\u001b[0m\n",
      "\u001b[0;32m<ipython-input-17-e44e00ad430b>\u001b[0m in \u001b[0;36m<dictcomp>\u001b[0;34m(.0)\u001b[0m\n\u001b[1;32m     22\u001b[0m     \u001b[0mtable\u001b[0m\u001b[0;34m.\u001b[0m\u001b[0mindex\u001b[0m \u001b[0;34m=\u001b[0m \u001b[0;34m[\u001b[0m\u001b[0;34m'Accuracy'\u001b[0m\u001b[0;34m]\u001b[0m\u001b[0;34m\u001b[0m\u001b[0;34m\u001b[0m\u001b[0m\n\u001b[1;32m     23\u001b[0m     \u001b[0mdisplay\u001b[0m\u001b[0;34m(\u001b[0m\u001b[0mtable\u001b[0m\u001b[0;34m)\u001b[0m\u001b[0;34m\u001b[0m\u001b[0;34m\u001b[0m\u001b[0m\n\u001b[0;32m---> 24\u001b[0;31m     \u001b[0maccuracy\u001b[0m \u001b[0;34m=\u001b[0m \u001b[0;34m{\u001b[0m\u001b[0mlevel\u001b[0m\u001b[0;34m:\u001b[0m \u001b[0mtable\u001b[0m\u001b[0;34m[\u001b[0m\u001b[0mlevel\u001b[0m\u001b[0;34m,\u001b[0m \u001b[0;32mTrue\u001b[0m\u001b[0;34m]\u001b[0m \u001b[0;32mfor\u001b[0m \u001b[0mlevel\u001b[0m \u001b[0;32min\u001b[0m \u001b[0mordered_verts\u001b[0m\u001b[0;34m}\u001b[0m\u001b[0;34m\u001b[0m\u001b[0;34m\u001b[0m\u001b[0m\n\u001b[0m\u001b[1;32m     25\u001b[0m     \u001b[0maccuracy\u001b[0m \u001b[0;34m=\u001b[0m \u001b[0mpd\u001b[0m\u001b[0;34m.\u001b[0m\u001b[0mDataFrame\u001b[0m\u001b[0;34m(\u001b[0m\u001b[0maccuracy\u001b[0m\u001b[0;34m)\u001b[0m\u001b[0;34m.\u001b[0m\u001b[0mT\u001b[0m\u001b[0;34m\u001b[0m\u001b[0;34m\u001b[0m\u001b[0m\n\u001b[1;32m     26\u001b[0m     \u001b[0;32mreturn\u001b[0m \u001b[0mscores_df\u001b[0m\u001b[0;34m,\u001b[0m \u001b[0maccuracy\u001b[0m\u001b[0;34m\u001b[0m\u001b[0;34m\u001b[0m\u001b[0m\n",
      "\u001b[0;32m/home/donal/anaconda3/envs/py36/lib/python3.6/site-packages/pandas/core/frame.py\u001b[0m in \u001b[0;36m__getitem__\u001b[0;34m(self, key)\u001b[0m\n\u001b[1;32m   2896\u001b[0m         \u001b[0;32mif\u001b[0m \u001b[0mis_single_key\u001b[0m\u001b[0;34m:\u001b[0m\u001b[0;34m\u001b[0m\u001b[0;34m\u001b[0m\u001b[0m\n\u001b[1;32m   2897\u001b[0m             \u001b[0;32mif\u001b[0m \u001b[0mself\u001b[0m\u001b[0;34m.\u001b[0m\u001b[0mcolumns\u001b[0m\u001b[0;34m.\u001b[0m\u001b[0mnlevels\u001b[0m \u001b[0;34m>\u001b[0m \u001b[0;36m1\u001b[0m\u001b[0;34m:\u001b[0m\u001b[0;34m\u001b[0m\u001b[0;34m\u001b[0m\u001b[0m\n\u001b[0;32m-> 2898\u001b[0;31m                 \u001b[0;32mreturn\u001b[0m \u001b[0mself\u001b[0m\u001b[0;34m.\u001b[0m\u001b[0m_getitem_multilevel\u001b[0m\u001b[0;34m(\u001b[0m\u001b[0mkey\u001b[0m\u001b[0;34m)\u001b[0m\u001b[0;34m\u001b[0m\u001b[0;34m\u001b[0m\u001b[0m\n\u001b[0m\u001b[1;32m   2899\u001b[0m             \u001b[0mindexer\u001b[0m \u001b[0;34m=\u001b[0m \u001b[0mself\u001b[0m\u001b[0;34m.\u001b[0m\u001b[0mcolumns\u001b[0m\u001b[0;34m.\u001b[0m\u001b[0mget_loc\u001b[0m\u001b[0;34m(\u001b[0m\u001b[0mkey\u001b[0m\u001b[0;34m)\u001b[0m\u001b[0;34m\u001b[0m\u001b[0;34m\u001b[0m\u001b[0m\n\u001b[1;32m   2900\u001b[0m             \u001b[0;32mif\u001b[0m \u001b[0mis_integer\u001b[0m\u001b[0;34m(\u001b[0m\u001b[0mindexer\u001b[0m\u001b[0;34m)\u001b[0m\u001b[0;34m:\u001b[0m\u001b[0;34m\u001b[0m\u001b[0;34m\u001b[0m\u001b[0m\n",
      "\u001b[0;32m/home/donal/anaconda3/envs/py36/lib/python3.6/site-packages/pandas/core/frame.py\u001b[0m in \u001b[0;36m_getitem_multilevel\u001b[0;34m(self, key)\u001b[0m\n\u001b[1;32m   2946\u001b[0m     \u001b[0;32mdef\u001b[0m \u001b[0m_getitem_multilevel\u001b[0m\u001b[0;34m(\u001b[0m\u001b[0mself\u001b[0m\u001b[0;34m,\u001b[0m \u001b[0mkey\u001b[0m\u001b[0;34m)\u001b[0m\u001b[0;34m:\u001b[0m\u001b[0;34m\u001b[0m\u001b[0;34m\u001b[0m\u001b[0m\n\u001b[1;32m   2947\u001b[0m         \u001b[0;31m# self.columns is a MultiIndex\u001b[0m\u001b[0;34m\u001b[0m\u001b[0;34m\u001b[0m\u001b[0;34m\u001b[0m\u001b[0m\n\u001b[0;32m-> 2948\u001b[0;31m         \u001b[0mloc\u001b[0m \u001b[0;34m=\u001b[0m \u001b[0mself\u001b[0m\u001b[0;34m.\u001b[0m\u001b[0mcolumns\u001b[0m\u001b[0;34m.\u001b[0m\u001b[0mget_loc\u001b[0m\u001b[0;34m(\u001b[0m\u001b[0mkey\u001b[0m\u001b[0;34m)\u001b[0m\u001b[0;34m\u001b[0m\u001b[0;34m\u001b[0m\u001b[0m\n\u001b[0m\u001b[1;32m   2949\u001b[0m         \u001b[0;32mif\u001b[0m \u001b[0misinstance\u001b[0m\u001b[0;34m(\u001b[0m\u001b[0mloc\u001b[0m\u001b[0;34m,\u001b[0m \u001b[0;34m(\u001b[0m\u001b[0mslice\u001b[0m\u001b[0;34m,\u001b[0m \u001b[0mnp\u001b[0m\u001b[0;34m.\u001b[0m\u001b[0mndarray\u001b[0m\u001b[0;34m)\u001b[0m\u001b[0;34m)\u001b[0m\u001b[0;34m:\u001b[0m\u001b[0;34m\u001b[0m\u001b[0;34m\u001b[0m\u001b[0m\n\u001b[1;32m   2950\u001b[0m             \u001b[0mnew_columns\u001b[0m \u001b[0;34m=\u001b[0m \u001b[0mself\u001b[0m\u001b[0;34m.\u001b[0m\u001b[0mcolumns\u001b[0m\u001b[0;34m[\u001b[0m\u001b[0mloc\u001b[0m\u001b[0;34m]\u001b[0m\u001b[0;34m\u001b[0m\u001b[0;34m\u001b[0m\u001b[0m\n",
      "\u001b[0;32m/home/donal/anaconda3/envs/py36/lib/python3.6/site-packages/pandas/core/indexes/multi.py\u001b[0m in \u001b[0;36mget_loc\u001b[0;34m(self, key, method)\u001b[0m\n\u001b[1;32m   2708\u001b[0m \u001b[0;34m\u001b[0m\u001b[0m\n\u001b[1;32m   2709\u001b[0m         \u001b[0;32mif\u001b[0m \u001b[0mkeylen\u001b[0m \u001b[0;34m==\u001b[0m \u001b[0mself\u001b[0m\u001b[0;34m.\u001b[0m\u001b[0mnlevels\u001b[0m \u001b[0;32mand\u001b[0m \u001b[0mself\u001b[0m\u001b[0;34m.\u001b[0m\u001b[0mis_unique\u001b[0m\u001b[0;34m:\u001b[0m\u001b[0;34m\u001b[0m\u001b[0;34m\u001b[0m\u001b[0m\n\u001b[0;32m-> 2710\u001b[0;31m             \u001b[0;32mreturn\u001b[0m \u001b[0mself\u001b[0m\u001b[0;34m.\u001b[0m\u001b[0m_engine\u001b[0m\u001b[0;34m.\u001b[0m\u001b[0mget_loc\u001b[0m\u001b[0;34m(\u001b[0m\u001b[0mkey\u001b[0m\u001b[0;34m)\u001b[0m\u001b[0;34m\u001b[0m\u001b[0;34m\u001b[0m\u001b[0m\n\u001b[0m\u001b[1;32m   2711\u001b[0m \u001b[0;34m\u001b[0m\u001b[0m\n\u001b[1;32m   2712\u001b[0m         \u001b[0;31m# -- partial selection or non-unique index\u001b[0m\u001b[0;34m\u001b[0m\u001b[0;34m\u001b[0m\u001b[0;34m\u001b[0m\u001b[0m\n",
      "\u001b[0;32mpandas/_libs/index.pyx\u001b[0m in \u001b[0;36mpandas._libs.index.BaseMultiIndexCodesEngine.get_loc\u001b[0;34m()\u001b[0m\n",
      "\u001b[0;31mKeyError\u001b[0m: ('T4', True)"
     ]
    }
   ],
   "source": [
    "scores_df, accuracy = make_score_df(pred_dict)"
   ]
  },
  {
   "cell_type": "code",
   "execution_count": null,
   "metadata": {},
   "outputs": [],
   "source": [
    "def plot_distances_w_acc(scores, accuracy):\n",
    "    plt.style.use('seaborn-bright')\n",
    "    fig, ax = plt.subplots(1, 1,figsize=(20, 10))\n",
    "\n",
    "    sns.color_palette(\"hls\", 2)\n",
    "    sns.boxplot(data=scores, x='Level', y='Distance', hue='Correct', linewidth=1.5,  order=ordered_verts, palette='muted', ax=ax)\n",
    "    g = sns.lineplot(data=scores, x= 'Level', y='Range', ci='sd', err_style=\"band\", estimator='min', ax=ax, color='gray')\n",
    "    ax.set_ylabel('Absolute distance to center ($mm$)')\n",
    "    ax2 = ax.twinx()\n",
    "    ax2.set_ylabel('Accuracy (%)')\n",
    "    ax2.set_ylim([-0.2, 100.2])\n",
    "    sns.lineplot(data=accuracy, x=accuracy.index, y='Accuracy', ax=ax2, legend=False, ls='--', lw=3, color='limegreen' )\n",
    "    #sns.catplot(dara=scores_df, x='Level', y=, hue='Correct', kind='hist')\n",
    "    g.grid(True, which='both')\n",
    "    #g.axhline(y=0, color='k')\n",
    "\n",
    "\n",
    "    # Get the handles and labels. For this example it'll be 2 tuples\n",
    "    # of length 4 each.\n",
    "    handles, labels = g.get_legend_handles_labels()\n",
    "\n",
    "    # When creating the legend, only use the first two elements\n",
    "    # to effectively remove the last two.\n",
    "    l = ax.legend(handles[0:2], labels[0:2], loc='upper left')\n",
    "\n",
    "    ax2.spines['right'].set_color('limegreen')\n",
    "    #ax2.yaxis.label.set_color('limegreen')\n",
    "    ax2.tick_params(axis='y', colors='limegreen')\n",
    "    l.get_texts()[0].set_text('Incorrect')\n",
    "    l.get_texts()[1].set_text('Correct')"
   ]
  },
  {
   "cell_type": "code",
   "execution_count": null,
   "metadata": {},
   "outputs": [],
   "source": [
    "plot_distances_w_acc(scores_df, accuracy)"
   ]
  },
  {
   "cell_type": "markdown",
   "metadata": {},
   "source": [
    "## Update predictions"
   ]
  },
  {
   "cell_type": "markdown",
   "metadata": {},
   "source": [
    "Apply post-processing to predictions."
   ]
  },
  {
   "cell_type": "code",
   "execution_count": null,
   "metadata": {},
   "outputs": [],
   "source": [
    "from scipy.special import softmax"
   ]
  },
  {
   "cell_type": "code",
   "execution_count": null,
   "metadata": {},
   "outputs": [],
   "source": [
    "def linear_expectation(probs, values):\n",
    "    # Assumes normalised probs + single channel\n",
    "    expectation = []\n",
    "    for i in range(len(values)):\n",
    "        expectation.append(probs[i]*values[i])\n",
    "    return np.sum(expectation)"
   ]
  },
  {
   "cell_type": "code",
   "execution_count": null,
   "metadata": {},
   "outputs": [],
   "source": [
    "def update_preds(name, dist_dict, pred_dict, num_iters=0):\n",
    "    eps=1e-24\n",
    "    # k = number of iterations\n",
    "    data = dist_dict[name]\n",
    "    x = np.arange(0, data.shape[-1])\n",
    "    # Get predictions afs dict\n",
    "    updated_pred = {}\n",
    "    if num_iters==0:\n",
    "        print('Not updating...')\n",
    "        return pred_dict[name]\n",
    "    else:\n",
    "        # Normalise across channels & update\n",
    "        for k in range(num_iters):\n",
    "            channel_norm = data/(data.sum(axis=0, keepdims=True)+eps)\n",
    "            data = data*channel_norm**3\n",
    "        for key in pred_dict[name].keys():\n",
    "            channel = ordered_verts.index(key)\n",
    "            norm_data = data[channel]/np.sum(data[channel])\n",
    "            coords = linear_expectation(norm_data, x)\n",
    "            #print(coords)\n",
    "            updated_pred[key] = coords \n",
    "        return updated_pred"
   ]
  },
  {
   "cell_type": "code",
   "execution_count": null,
   "metadata": {},
   "outputs": [],
   "source": [
    "updated_preds = {}\n",
    "for name in ids:\n",
    "    updated_preds[name] = update_preds(name, dist_dict, pred_dict, num_iters=1)"
   ]
  },
  {
   "cell_type": "code",
   "execution_count": null,
   "metadata": {},
   "outputs": [],
   "source": [
    "upd_scores, upd_accuracy = make_score_df(updated_preds)"
   ]
  },
  {
   "cell_type": "code",
   "execution_count": null,
   "metadata": {},
   "outputs": [],
   "source": [
    "plot_distances_w_acc(upd_scores, upd_accuracy)"
   ]
  },
  {
   "cell_type": "code",
   "execution_count": null,
   "metadata": {},
   "outputs": [],
   "source": [
    "fig, ax = plt.subplots(1, 1,figsize=(20, 10))\n",
    "sns.lineplot(data=accuracy, x=accuracy.index, y='Accuracy', ax=ax, legend=False, ls='--', lw=3, color='Red' )\n",
    "sns.lineplot(data=upd_accuracy, x=upd_accuracy.index, y='Accuracy', ax=ax, legend=False, ls='--', lw=3, color='limegreen')\n",
    "ax.set_xlabel('Level')"
   ]
  },
  {
   "cell_type": "code",
   "execution_count": null,
   "metadata": {},
   "outputs": [],
   "source": [
    "fig, ax = plt.subplots(1, 1,figsize=(20, 10))\n",
    "concatenated = pd.concat([scores_df.assign(dataset='original'), upd_scores.assign(dataset='updated')])\n",
    "sns.violinplot(data=concatenated, x='Level', y='Distance', hue='dataset', linewidth=3, order=ordered_verts, palette='muted', ax=ax, split=True)\n",
    "plt.legend().remove()"
   ]
  },
  {
   "cell_type": "code",
   "execution_count": null,
   "metadata": {},
   "outputs": [],
   "source": [
    "plot_preds(ids[43], updated_preds)"
   ]
  },
  {
   "cell_type": "code",
   "execution_count": null,
   "metadata": {},
   "outputs": [],
   "source": [
    "plot_preds('fr_552_TS_Sag', pred_dict)"
   ]
  },
  {
   "cell_type": "markdown",
   "metadata": {},
   "source": [
    "### Smaller bandwith (sigma=10)"
   ]
  },
  {
   "cell_type": "code",
   "execution_count": null,
   "metadata": {},
   "outputs": [],
   "source": [
    "small_band_preds = np.load('../outputs/small_band_model_preds.npz')\n",
    "sb_ids, sb_coords, sb_dists, sb_labels = small_band_preds.values()\n",
    "sb_ids.shape, sb_coords.shape, sb_dists.shape, sb_labels.shape"
   ]
  },
  {
   "cell_type": "code",
   "execution_count": null,
   "metadata": {},
   "outputs": [],
   "source": [
    "sb_pred, sb_dist = format_preds(sb_ids, sb_coords,sb_dists, sb_labels)"
   ]
  },
  {
   "cell_type": "code",
   "execution_count": null,
   "metadata": {},
   "outputs": [],
   "source": [
    "sb_scores, sb_acc = make_score_df(sb_pred)"
   ]
  },
  {
   "cell_type": "code",
   "execution_count": null,
   "metadata": {},
   "outputs": [],
   "source": [
    "plot_distances_w_acc(sb_scores, sb_acc)"
   ]
  },
  {
   "cell_type": "code",
   "execution_count": null,
   "metadata": {},
   "outputs": [],
   "source": [
    "small_band_preds = np.load('../outputs/small_band_model_preds.npz')\n",
    "sb_ids, sb_coords, sb_dists, sb_labels = small_band_preds.values()\n",
    "sb_ids.shape, sb_coords.shape, sb_dists.shape, sb_labels.shape"
   ]
  },
  {
   "cell_type": "code",
   "execution_count": null,
   "metadata": {},
   "outputs": [],
   "source": [
    "sb_pred, sb_dist = format_preds(sb_ids, sb_coords,sb_dists, sb_labels)"
   ]
  },
  {
   "cell_type": "code",
   "execution_count": null,
   "metadata": {},
   "outputs": [],
   "source": [
    "sb_scores, sb_acc = make_score_df(sb_pred)"
   ]
  },
  {
   "cell_type": "code",
   "execution_count": null,
   "metadata": {},
   "outputs": [],
   "source": [
    "plot_distances_w_acc(sb_scores, sb_acc)"
   ]
  },
  {
   "cell_type": "code",
   "execution_count": null,
   "metadata": {},
   "outputs": [],
   "source": [
    "fig, ax = plt.subplots(1, 1,figsize=(20, 10))\n",
    "sns.lineplot(data=accuracy, x=accuracy.index, y='Accuracy', ax=ax, legend=False, lw=3, color='Red', label='Original')\n",
    "sns.lineplot(data=upd_accuracy, x=upd_accuracy.index, y='Accuracy', ax=ax, legend=False, lw=3, color='limegreen', label='Updated Original')\n",
    "sns.lineplot(data=sb_acc, x=sb_acc.index, y='Accuracy', ax=ax, legend=False, lw=3, color='Blue', label='Small Width')\n",
    "ax.set_xlabel('Level')\n",
    "ax.legend()"
   ]
  },
  {
   "cell_type": "code",
   "execution_count": null,
   "metadata": {},
   "outputs": [],
   "source": [
    "sb_upd_preds = {}\n",
    "for name in ids:\n",
    "    sb_upd_preds[name] = update_preds(name, sb_dist, sb_pred, num_iters=2)\n",
    "sb_upd_scores, sb_upd_acc = make_score_df(sb_upd_preds)\n",
    "fig, ax = plt.subplots(1, 1,figsize=(20, 10))\n",
    "sns.lineplot(data=accuracy, x=accuracy.index, y='Accuracy', ax=ax, legend=False, lw=3, color='Red', label='Original')\n",
    "sns.lineplot(data=upd_accuracy, x=upd_accuracy.index, y='Accuracy', ax=ax, legend=False, lw=3, color='limegreen', label='Updated Original')\n",
    "sns.lineplot(data=sb_acc, x=sb_acc.index, y='Accuracy', ax=ax, legend=False, lw=3, color='Blue', label='Small Width')\n",
    "sns.lineplot(data=sb_upd_acc, x=sb_upd_acc.index, y='Accuracy', ax=ax, legend=False, lw=3, color='K', label='Updated Small Width')\n",
    "ax.set_xlabel('Level')\n",
    "ax.legend()"
   ]
  },
  {
   "cell_type": "markdown",
   "metadata": {},
   "source": [
    "### Number of counts per level"
   ]
  },
  {
   "cell_type": "code",
   "execution_count": null,
   "metadata": {},
   "outputs": [],
   "source": [
    "scores_df['Level'].value_counts().reindex(ordered_verts)"
   ]
  },
  {
   "cell_type": "markdown",
   "metadata": {},
   "source": [
    "## KL Divergence"
   ]
  },
  {
   "cell_type": "code",
   "execution_count": null,
   "metadata": {},
   "outputs": [],
   "source": [
    "kl_preds = np.load('../outputs/small_band_model_preds.npz')\n",
    "kl_ids, kl_coords, kl_dists, kl_labels = kl_preds.values()\n",
    "kl_ids.shape, kl_coords.shape, kl_dists.shape, kl_labels.shape"
   ]
  },
  {
   "cell_type": "code",
   "execution_count": null,
   "metadata": {},
   "outputs": [],
   "source": [
    "kl_pred, kl_dist = format_preds(kl_ids, kl_coords, kl_dists, kl_labels)"
   ]
  },
  {
   "cell_type": "code",
   "execution_count": null,
   "metadata": {},
   "outputs": [],
   "source": [
    "kl_scores, kl_acc = make_score_df(kl_pred)"
   ]
  },
  {
   "cell_type": "code",
   "execution_count": null,
   "metadata": {},
   "outputs": [],
   "source": [
    "plot_distances_w_acc(kl_scores, kl_acc)"
   ]
  },
  {
   "cell_type": "code",
   "execution_count": null,
   "metadata": {},
   "outputs": [],
   "source": [
    "sb_upd_preds = {}\n",
    "for name in ids:\n",
    "    sb_upd_preds[name] = update_preds(name, sb_dist, sb_pred, num_iters=2)\n",
    "sb_upd_scores, sb_upd_acc = make_score_df(sb_upd_preds)\n",
    "fig, ax = plt.subplots(1, 1,figsize=(20, 10))\n",
    "sns.lineplot(data=accuracy, x=accuracy.index, y='Accuracy', ax=ax, legend=False, lw=3, color='Red', label='Original')\n",
    "sns.lineplot(data=upd_accuracy, x=upd_accuracy.index, y='Accuracy', ax=ax, legend=False, lw=3, color='limegreen', label='Updated Original')\n",
    "sns.lineplot(data=sb_acc, x=sb_acc.index, y='Accuracy', ax=ax, legend=False, lw=3, color='Blue', label='Small Width')\n",
    "sns.lineplot(data=sb_upd_acc, x=sb_upd_acc.index, y='Accuracy', ax=ax, legend=False, lw=3, color='K', label='Updated Small Width')\n",
    "sns.lineplot(data=kl_acc, x=kl_acc.index, y='Accuracy', ax=ax, legend=False, lw=3, color='m', label='KL')\n",
    "ax.set_xlabel('Level')\n",
    "ax.legend()"
   ]
  },
  {
   "cell_type": "markdown",
   "metadata": {},
   "source": [
    "### Add augmentations"
   ]
  },
  {
   "cell_type": "code",
   "execution_count": null,
   "metadata": {},
   "outputs": [],
   "source": [
    "aug_preds = np.load('../outputs/aug_preds.npz')\n",
    "aug_ids, aug_coords, aug_dists, aug_labels = aug_preds.values()\n",
    "aug_ids.shape, aug_coords.shape, aug_dists.shape, aug_labels.shape"
   ]
  },
  {
   "cell_type": "code",
   "execution_count": null,
   "metadata": {},
   "outputs": [],
   "source": [
    "aug_pred, aug_dist = format_preds(aug_ids, aug_coords, aug_dists, aug_labels)"
   ]
  },
  {
   "cell_type": "code",
   "execution_count": null,
   "metadata": {},
   "outputs": [],
   "source": [
    "aug_scores, aug_acc = make_score_df(aug_pred)"
   ]
  },
  {
   "cell_type": "code",
   "execution_count": null,
   "metadata": {},
   "outputs": [],
   "source": [
    "plot_distances_w_acc(aug_scores, aug_acc)"
   ]
  },
  {
   "cell_type": "code",
   "execution_count": null,
   "metadata": {},
   "outputs": [],
   "source": [
    "fig, ax = plt.subplots(1, 1,figsize=(20, 10))\n",
    "sns.lineplot(data=accuracy, x=accuracy.index, y='Accuracy', ax=ax, legend=False, lw=3, color='Red', label='Original')\n",
    "sns.lineplot(data=upd_accuracy, x=upd_accuracy.index, y='Accuracy', ax=ax, legend=False, lw=3, color='limegreen', label='Updated Original')\n",
    "sns.lineplot(data=sb_acc, x=sb_acc.index, y='Accuracy', ax=ax, legend=False, lw=3, color='Blue', label='Small Width')\n",
    "sns.lineplot(data=sb_upd_acc, x=sb_upd_acc.index, y='Accuracy', ax=ax, legend=False, lw=3, color='K', label='Updated Small Width')\n",
    "sns.lineplot(data=kl_acc, x=kl_acc.index, y='Accuracy', ax=ax, legend=False, lw=3, color='m', label='KL')\n",
    "sns.lineplot(data=aug_acc, x=aug_acc.index, y='Accuracy', ax=ax, legend=False, lw=3, color='orange', label='KL+Augmentations')\n",
    "ax.set_xlabel('Level')\n",
    "ax.legend()"
   ]
  },
  {
   "cell_type": "markdown",
   "metadata": {},
   "source": [
    "## Sharpen Heatmaps"
   ]
  },
  {
   "cell_type": "code",
   "execution_count": 19,
   "metadata": {},
   "outputs": [
    {
     "data": {
      "text/plain": [
       "((46,), (46, 13), (46, 13, 512), (46, 13))"
      ]
     },
     "execution_count": 19,
     "metadata": {},
     "output_type": "execute_result"
    }
   ],
   "source": [
    "sh_preds = np.load('../outputs/w_classifier_preds.npz')\n",
    "sh_ids, sh_coords, sh_dists, sh_labels = sh_preds.values()\n",
    "sh_ids.shape, sh_coords.shape, sh_dists.shape, sh_labels.shape"
   ]
  },
  {
   "cell_type": "code",
   "execution_count": 20,
   "metadata": {},
   "outputs": [],
   "source": [
    "sh_pred, sh_dist = format_preds(sh_ids, sh_coords, sh_dists, labels)"
   ]
  },
  {
   "cell_type": "code",
   "execution_count": 21,
   "metadata": {},
   "outputs": [
    {
     "name": "stdout",
     "output_type": "stream",
     "text": [
      "(13, 512)\n"
     ]
    }
   ],
   "source": [
    "print(sh_dist[\"04_06_2014_431_Sag\"].shape)"
   ]
  },
  {
   "cell_type": "code",
   "execution_count": 22,
   "metadata": {},
   "outputs": [
    {
     "name": "stdout",
     "output_type": "stream",
     "text": [
      "04_06_2014_416_CS_Sag\n",
      "04_06_2014_416_CS_Sag\n"
     ]
    },
    {
     "data": {
      "text/html": [
       "<div>\n",
       "<style scoped>\n",
       "    .dataframe tbody tr th:only-of-type {\n",
       "        vertical-align: middle;\n",
       "    }\n",
       "\n",
       "    .dataframe tbody tr th {\n",
       "        vertical-align: top;\n",
       "    }\n",
       "\n",
       "    .dataframe thead tr th {\n",
       "        text-align: left;\n",
       "    }\n",
       "</style>\n",
       "<table border=\"1\" class=\"dataframe\">\n",
       "  <thead>\n",
       "    <tr>\n",
       "      <th>Level</th>\n",
       "      <th colspan=\"2\" halign=\"left\">T4</th>\n",
       "      <th colspan=\"2\" halign=\"left\">T5</th>\n",
       "      <th colspan=\"2\" halign=\"left\">T6</th>\n",
       "      <th colspan=\"2\" halign=\"left\">T7</th>\n",
       "      <th colspan=\"2\" halign=\"left\">T8</th>\n",
       "      <th>...</th>\n",
       "      <th colspan=\"2\" halign=\"left\">T12</th>\n",
       "      <th colspan=\"2\" halign=\"left\">L1</th>\n",
       "      <th colspan=\"2\" halign=\"left\">L2</th>\n",
       "      <th colspan=\"2\" halign=\"left\">L3</th>\n",
       "      <th colspan=\"2\" halign=\"left\">L4</th>\n",
       "    </tr>\n",
       "    <tr>\n",
       "      <th>Correct</th>\n",
       "      <th>False</th>\n",
       "      <th>True</th>\n",
       "      <th>False</th>\n",
       "      <th>True</th>\n",
       "      <th>False</th>\n",
       "      <th>True</th>\n",
       "      <th>False</th>\n",
       "      <th>True</th>\n",
       "      <th>False</th>\n",
       "      <th>True</th>\n",
       "      <th>...</th>\n",
       "      <th>True</th>\n",
       "      <th>False</th>\n",
       "      <th>True</th>\n",
       "      <th>False</th>\n",
       "      <th>True</th>\n",
       "      <th>False</th>\n",
       "      <th>True</th>\n",
       "      <th>False</th>\n",
       "      <th>True</th>\n",
       "      <th>False</th>\n",
       "    </tr>\n",
       "  </thead>\n",
       "  <tbody>\n",
       "    <tr>\n",
       "      <th>Accuracy</th>\n",
       "      <td>85.714286</td>\n",
       "      <td>14.285714</td>\n",
       "      <td>80.952381</td>\n",
       "      <td>19.047619</td>\n",
       "      <td>76.190476</td>\n",
       "      <td>23.809524</td>\n",
       "      <td>70.0</td>\n",
       "      <td>30.0</td>\n",
       "      <td>76.190476</td>\n",
       "      <td>23.809524</td>\n",
       "      <td>...</td>\n",
       "      <td>71.875</td>\n",
       "      <td>28.125</td>\n",
       "      <td>63.333333</td>\n",
       "      <td>36.666667</td>\n",
       "      <td>65.517241</td>\n",
       "      <td>34.482759</td>\n",
       "      <td>82.758621</td>\n",
       "      <td>17.241379</td>\n",
       "      <td>92.592593</td>\n",
       "      <td>7.407407</td>\n",
       "    </tr>\n",
       "  </tbody>\n",
       "</table>\n",
       "<p>1 rows × 26 columns</p>\n",
       "</div>"
      ],
      "text/plain": [
       "Level           T4                    T5                    T6              \\\n",
       "Correct       False      True       False      True       False      True    \n",
       "Accuracy  85.714286  14.285714  80.952381  19.047619  76.190476  23.809524   \n",
       "\n",
       "Level      T7               T8              ...     T12                L1   \\\n",
       "Correct  False True       False      True   ...   True    False      True    \n",
       "Accuracy  70.0  30.0  76.190476  23.809524  ...  71.875  28.125  63.333333   \n",
       "\n",
       "Level                      L2                    L3                    L4   \\\n",
       "Correct       False      True       False      True       False      True    \n",
       "Accuracy  36.666667  65.517241  34.482759  82.758621  17.241379  92.592593   \n",
       "\n",
       "Level               \n",
       "Correct      False  \n",
       "Accuracy  7.407407  \n",
       "\n",
       "[1 rows x 26 columns]"
      ]
     },
     "metadata": {},
     "output_type": "display_data"
    }
   ],
   "source": [
    "sh_scores, sh_acc = make_score_df(sh_pred)"
   ]
  },
  {
   "cell_type": "code",
   "execution_count": 23,
   "metadata": {},
   "outputs": [
    {
     "data": {
      "text/html": [
       "<div>\n",
       "<style scoped>\n",
       "    .dataframe tbody tr th:only-of-type {\n",
       "        vertical-align: middle;\n",
       "    }\n",
       "\n",
       "    .dataframe tbody tr th {\n",
       "        vertical-align: top;\n",
       "    }\n",
       "\n",
       "    .dataframe thead th {\n",
       "        text-align: right;\n",
       "    }\n",
       "</style>\n",
       "<table border=\"1\" class=\"dataframe\">\n",
       "  <thead>\n",
       "    <tr style=\"text-align: right;\">\n",
       "      <th></th>\n",
       "      <th>Level</th>\n",
       "      <th>Correct</th>\n",
       "      <th>Distance</th>\n",
       "      <th>Range</th>\n",
       "    </tr>\n",
       "  </thead>\n",
       "  <tbody>\n",
       "    <tr>\n",
       "      <th>0</th>\n",
       "      <td>T10</td>\n",
       "      <td>True</td>\n",
       "      <td>3.138128</td>\n",
       "      <td>16.191523</td>\n",
       "    </tr>\n",
       "    <tr>\n",
       "      <th>1</th>\n",
       "      <td>T11</td>\n",
       "      <td>True</td>\n",
       "      <td>8.073654</td>\n",
       "      <td>17.017223</td>\n",
       "    </tr>\n",
       "    <tr>\n",
       "      <th>2</th>\n",
       "      <td>T12</td>\n",
       "      <td>True</td>\n",
       "      <td>0.622825</td>\n",
       "      <td>18.565876</td>\n",
       "    </tr>\n",
       "    <tr>\n",
       "      <th>3</th>\n",
       "      <td>L1</td>\n",
       "      <td>True</td>\n",
       "      <td>4.690262</td>\n",
       "      <td>20.152865</td>\n",
       "    </tr>\n",
       "    <tr>\n",
       "      <th>4</th>\n",
       "      <td>L2</td>\n",
       "      <td>True</td>\n",
       "      <td>4.333403</td>\n",
       "      <td>21.391757</td>\n",
       "    </tr>\n",
       "  </tbody>\n",
       "</table>\n",
       "</div>"
      ],
      "text/plain": [
       "  Level  Correct  Distance      Range\n",
       "0   T10     True  3.138128  16.191523\n",
       "1   T11     True  8.073654  17.017223\n",
       "2   T12     True  0.622825  18.565876\n",
       "3    L1     True  4.690262  20.152865\n",
       "4    L2     True  4.333403  21.391757"
      ]
     },
     "execution_count": 23,
     "metadata": {},
     "output_type": "execute_result"
    }
   ],
   "source": [
    "sh_scores.head()"
   ]
  },
  {
   "cell_type": "code",
   "execution_count": 24,
   "metadata": {},
   "outputs": [],
   "source": [
    "for name in sh_pred.keys():\n",
    "    plot_preds(name, sh_pred)"
   ]
  },
  {
   "cell_type": "code",
   "execution_count": null,
   "metadata": {},
   "outputs": [],
   "source": [
    "plot_distances_w_acc(sh_scores, sh_acc)"
   ]
  },
  {
   "cell_type": "code",
   "execution_count": null,
   "metadata": {},
   "outputs": [],
   "source": [
    "fig, ax = plt.subplots(1, 1,figsize=(20, 10))\n",
    "#sns.lineplot(data=accuracy, x=accuracy.index, y='Accuracy', ax=ax, legend=False, lw=3, color='Red', label='Original')\n",
    "# sns.lineplot(data=upd_accuracy, x=upd_accuracy.index, y='Accuracy', ax=ax, legend=False, lw=3, color='limegreen', label='Updated Original')\n",
    "# sns.lineplot(data=sb_acc, x=sb_acc.index, y='Accuracy', ax=ax, legend=False, lw=3, color='Blue', label='Small Width')\n",
    "# sns.lineplot(data=sb_upd_acc, x=sb_upd_acc.index, y='Accuracy', ax=ax, legend=False, lw=3, color='K', label='Updated Small Width')\n",
    "# sns.lineplot(data=kl_acc, x=kl_acc.index, y='Accuracy', ax=ax, legend=False, lw=3, color='m', label='KL')\n",
    "sns.lineplot(data=aug_acc, x=aug_acc.index, y='Accuracy', ax=ax, legend=False, lw=3, color='orange', label='KL+Augmentations')\n",
    "sns.lineplot(data=sh_acc, x=sh_acc.index, y='Accuracy', ax=ax, legend=False, lw=3, color='grey', label='W/ Classifier')\n",
    "ax.set_xlabel('Level')\n",
    "ax.legend()"
   ]
  },
  {
   "cell_type": "markdown",
   "metadata": {},
   "source": [
    "### Update"
   ]
  },
  {
   "cell_type": "code",
   "execution_count": null,
   "metadata": {},
   "outputs": [],
   "source": [
    "sh_upd = {}\n",
    "for name in ids:\n",
    "    sh_upd[name] = update_preds(name, sh_dist, sh_pred, num_iters=1)"
   ]
  },
  {
   "cell_type": "code",
   "execution_count": null,
   "metadata": {},
   "outputs": [],
   "source": [
    "sh_upd_scores, sh_upd_acc = make_score_df(sh_upd)"
   ]
  },
  {
   "cell_type": "code",
   "execution_count": null,
   "metadata": {},
   "outputs": [],
   "source": [
    "plot_distances_w_acc(sh_upd_scores, sh_upd_acc)"
   ]
  },
  {
   "cell_type": "markdown",
   "metadata": {},
   "source": [
    "### Compare CDFs"
   ]
  },
  {
   "cell_type": "code",
   "execution_count": null,
   "metadata": {},
   "outputs": [],
   "source": [
    "fig, ax = plt.subplots(1, 1, figsize=(15, 10))\n",
    "pal = sns.cubehelix_palette(n_colors=13, start=3, rot=-0.5, gamma=0.7)\n",
    "sns.ecdfplot(data=aug_scores, x='Distance', hue='Level', ax=ax, palette=pal, lw=3)\n",
    "print(scores_df.groupby('Level')['Distance'].median())\n",
    "scores_df.groupby('Level')['Distance'].median().mean()"
   ]
  },
  {
   "cell_type": "code",
   "execution_count": null,
   "metadata": {},
   "outputs": [],
   "source": [
    "fig, ax = plt.subplots(1, 1, figsize=(15, 10))\n",
    "pal = sns.cubehelix_palette(n_colors=13, start=3, rot=-0.5, gamma=0.7)\n",
    "sns.ecdfplot(data=sh_scores, x='Distance', hue='Level', ax=ax, palette=pal, lw=3)\n",
    "print(aug_scores.groupby('Level')['Distance'].median())\n",
    "aug_scores.groupby('Level')['Distance'].median().mean()"
   ]
  },
  {
   "cell_type": "markdown",
   "metadata": {},
   "source": [
    "## Distance vs. Target Range"
   ]
  },
  {
   "cell_type": "code",
   "execution_count": null,
   "metadata": {},
   "outputs": [],
   "source": [
    "%matplotlib inline"
   ]
  },
  {
   "cell_type": "code",
   "execution_count": null,
   "metadata": {},
   "outputs": [],
   "source": [
    "import ipywidgets as widgets\n",
    "from ipywidgets import interact"
   ]
  },
  {
   "cell_type": "code",
   "execution_count": null,
   "metadata": {},
   "outputs": [],
   "source": [
    "scores=sh_scores\n",
    "acc_df = sh_acc\n",
    "@interact\n",
    "def plot_scatter(level=ordered_verts):\n",
    "    subset_df = scores[scores['Level'] == level]\n",
    "    fig, ax = plt.subplots(1, 1, figsize=(10, 10))\n",
    "    sns.scatterplot(data=subset_df, y='Distance', x='Range', ax=ax, hue='Level', style='Correct', s=100, alpha=0.8, linewidth=1.5, edgecolor='k')\n",
    "    ax.set_title(acc_df.loc[level])\n",
    "    ax.legend(loc='upper left', bbox_to_anchor=(1, 1))\n",
    "    ax.axhline(5, ls='--', c='k')\n",
    "    ax.set_ylabel('Distance ($mm$)')\n",
    "    ax.set_xlabel('Target Range ($mm$)')\n",
    "    ax.set_ylim([-0.3, 100])"
   ]
  }
 ],
 "metadata": {
  "kernelspec": {
   "display_name": "Python 3",
   "language": "python",
   "name": "python3"
  },
  "language_info": {
   "codemirror_mode": {
    "name": "ipython",
    "version": 3
   },
   "file_extension": ".py",
   "mimetype": "text/x-python",
   "name": "python",
   "nbconvert_exporter": "python",
   "pygments_lexer": "ipython3",
   "version": "3.8.3"
  }
 },
 "nbformat": 4,
 "nbformat_minor": 4
}
