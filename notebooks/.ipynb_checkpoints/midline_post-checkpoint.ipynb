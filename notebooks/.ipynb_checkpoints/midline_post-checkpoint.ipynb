{
 "cells": [
  {
   "cell_type": "code",
   "execution_count": 1,
   "id": "5a019a9e-c497-47cb-a2ea-ad7fa81df382",
   "metadata": {},
   "outputs": [],
   "source": [
    "import numpy as np\n",
    "import pandas as pd\n",
    "import matplotlib\n",
    "import matplotlib.pyplot as plt\n",
    "import seaborn as sns\n",
    "import ipywidgets as widgets\n",
    "from ipywidgets import interact"
   ]
  },
  {
   "cell_type": "code",
   "execution_count": 2,
   "id": "272b3745-acd2-4f72-9fca-853af25d79fe",
   "metadata": {},
   "outputs": [],
   "source": [
    "import matplotlib\n",
    "font = {'family' : 'serif',\n",
    "        'weight' : 'normal',\n",
    "        'size'   : 15}\n",
    "\n",
    "matplotlib.rc('font', **font)"
   ]
  },
  {
   "cell_type": "code",
   "execution_count": 3,
   "id": "f24656df-00f5-4c89-9928-53a873a90f5f",
   "metadata": {},
   "outputs": [],
   "source": [
    "ordered_verts = ['T4', 'T5', 'T6', 'T7', 'T8', 'T9', 'T10', 'T11', 'T12', 'L1', 'L2', 'L3', 'L4']"
   ]
  },
  {
   "cell_type": "markdown",
   "id": "da41e723-7da5-4d38-9c43-bb90c44a1bf5",
   "metadata": {},
   "source": [
    "## Post-processing for midline finder"
   ]
  },
  {
   "cell_type": "code",
   "execution_count": 4,
   "id": "192660a1-3632-4812-a1db-3d165ad19732",
   "metadata": {},
   "outputs": [],
   "source": [
    "from skimage import measure\n",
    "from scipy import interpolate\n",
    "from scipy.ndimage import gaussian_filter"
   ]
  },
  {
   "cell_type": "code",
   "execution_count": 5,
   "id": "b124c82a-5b91-4591-a6e2-4d6100ee0657",
   "metadata": {},
   "outputs": [
    {
     "name": "stdout",
     "output_type": "stream",
     "text": [
      "['ids', 'masks']\n"
     ]
    },
    {
     "data": {
      "text/plain": [
       "((45,), (45, 1, 512, 512))"
      ]
     },
     "execution_count": 5,
     "metadata": {},
     "output_type": "execute_result"
    }
   ],
   "source": [
    "preds = np.load('../midline_output/midline_finder_preds.npz')\n",
    "print(list(preds.keys()))\n",
    "ids, masks= preds.values()\n",
    "ids.shape, masks.shape"
   ]
  },
  {
   "cell_type": "code",
   "execution_count": 6,
   "id": "fe1dcfae-defd-4ecb-9f4e-1da8eb425838",
   "metadata": {},
   "outputs": [],
   "source": [
    "def sigmoid(x):\n",
    "    return 1/(1+np.exp(-x))"
   ]
  },
  {
   "cell_type": "markdown",
   "id": "2252630e-0c4b-4df2-a520-bd29bc1e398b",
   "metadata": {},
   "source": [
    "### Plot predictions"
   ]
  },
  {
   "cell_type": "code",
   "execution_count": 7,
   "id": "0706eb3f-7423-4544-a025-6fb1c594e7f6",
   "metadata": {},
   "outputs": [
    {
     "data": {
      "application/vnd.jupyter.widget-view+json": {
       "model_id": "1d91144c2ee24a4d9771b579cac867c4",
       "version_major": 2,
       "version_minor": 0
      },
      "text/plain": [
       "interactive(children=(Dropdown(description='name', options=('01_06_2014_363_Sag', '01_06_2014_368_Sag', '03_06…"
      ]
     },
     "metadata": {},
     "output_type": "display_data"
    }
   ],
   "source": [
    "@interact\n",
    "def plot_mask(name=sorted(list(ids))):\n",
    "    img = np.load(f'../midline_data/testing/slices/coronal/{name}.npy')\n",
    "    fig, ax = plt.subplots(1,1, figsize=(9, 9))\n",
    "    ax.axis('off')\n",
    "    n = list(ids).index(name)\n",
    "    mask = sigmoid(masks[n, 0])\n",
    "    norm_mask = np.where(mask < 0.5, np.nan, 1.0)\n",
    "    contours = measure.find_contours(mask, 0.5)\n",
    "    # 0: MIP, 1: MIDLINE, 2:STD\n",
    "    ax.imshow(img, cmap='gray')\n",
    "    ax.imshow(mask, alpha=0.5, cmap='viridis')\n",
    "    for contour in contours:\n",
    "        x, y = np.mean(contour[:, 1]), np.mean(contour[:, 0])\n",
    "        ax.plot(contour[:, 1], contour[:, 0], lw=1.5)\n",
    "        ax.scatter(x, y, marker='+', c='r')"
   ]
  },
  {
   "cell_type": "markdown",
   "id": "b7e7cf1e-37c1-45e2-9bb9-63f4ac78be78",
   "metadata": {},
   "source": [
    "### Plot midline"
   ]
  },
  {
   "cell_type": "code",
   "execution_count": 16,
   "id": "555dc650-18ac-4659-93fa-8df9e1691c80",
   "metadata": {},
   "outputs": [
    {
     "data": {
      "application/vnd.jupyter.widget-view+json": {
       "model_id": "c92124ca79c543699926d7394b4756e8",
       "version_major": 2,
       "version_minor": 0
      },
      "text/plain": [
       "interactive(children=(Dropdown(description='name', options=('01_06_2014_363_Sag', '01_06_2014_368_Sag', '03_06…"
      ]
     },
     "metadata": {},
     "output_type": "display_data"
    }
   ],
   "source": [
    "@interact\n",
    "def plot_midline(name=sorted(list(ids))):\n",
    "    idx = list(ids).index(name)\n",
    "    img = np.load(f'../midline_data/testing/slices/coronal/{name}.npy')\n",
    "    pred = masks[idx, 0]\n",
    "    fig, ax = plt.subplots(1, 2, figsize=(20, 20))    \n",
    "    contours = measure.find_contours(pred, 0.5)\n",
    "    # Get center of contours for line fitting\n",
    "    x = [np.mean(contour[:, 1]) for contour in contours]\n",
    "    y = [np.mean(contour[:, 0]) for contour in contours]\n",
    "    # Fit spline\n",
    "    tck = interpolate.splrep(y, x, k=1, s=0)\n",
    "    xd = np.linspace(min(y), max(y), 512)\n",
    "    fit = interpolate.splev(xd, tck, der=0)\n",
    "    \n",
    "    # ---- Plotting ----\n",
    "    norm_pred = np.where(pred < 0.5, 0, 1) \n",
    "    ax[0].set_title('Pred')\n",
    "    ax[0].imshow(img, cmap='gray')\n",
    "    ax[0].imshow(norm_pred, alpha=0.5, cmap='viridis')\n",
    "    ax[0].scatter(x, y, marker='+', c='r')\n",
    "    \n",
    "    ax[1].set_title('Pred Midline')\n",
    "    ax[1].imshow(img, cmap='gray')\n",
    "    ax[1].imshow(norm_pred, alpha=0.5, cmap='viridis')\n",
    "    ax[1].plot(fit, xd, c='r',lw=2, alpha=0.8)\n",
    "    ax[1].scatter(x, y, marker='+', c='r')\n",
    "    # Plot contours\n",
    "    for contour in contours:\n",
    "        x, y = np.mean(contour[:, 1]), np.mean(contour[:, 0])\n",
    "        ax[0].plot(contour[:, 1], contour[:, 0], linewidth=3)   \n",
    "    ax[1].set_ylim([512, 0])\n",
    "    ax[1].set_xlim([0, 512])"
   ]
  },
  {
   "cell_type": "markdown",
   "id": "8e5edfb9-8a8c-4769-8f57-109519e20037",
   "metadata": {},
   "source": [
    "### Evaluate predictions "
   ]
  },
  {
   "cell_type": "code",
   "execution_count": null,
   "id": "c8cbd56b-8ee7-4034-9b61-bbc5599b2451",
   "metadata": {},
   "outputs": [],
   "source": []
  },
  {
   "cell_type": "code",
   "execution_count": 23,
   "id": "20db9fe4-5e70-4e08-aac1-4eb34ed47719",
   "metadata": {},
   "outputs": [
    {
     "data": {
      "application/vnd.jupyter.widget-view+json": {
       "model_id": "c8243ea0f36f4398b8a53a4a5142409e",
       "version_major": 2,
       "version_minor": 0
      },
      "text/plain": [
       "interactive(children=(Dropdown(description='name', options=('01_06_2014_363_Sag', '01_06_2014_368_Sag', '03_06…"
      ]
     },
     "metadata": {},
     "output_type": "display_data"
    }
   ],
   "source": [
    "@interact\n",
    "def evaluate_predictions(name=sorted(list(ids))):\n",
    "    idx = list(ids).index(name)\n",
    "    img = np.load(f'../midline_data/testing/slices/coronal/{name}.npy')\n",
    "    gt_coords = pd.read_csv(f'../midline_data/coordinates/{name}.csv')\n",
    "    pred = masks[idx, 0]\n",
    "    fig, ax = plt.subplots(1, 2, figsize=(20, 20))\n",
    "    \n",
    "    # --- Format gt ---\n",
    "    x_gt, y_gt = gt_coords['X'].to_list(), gt_coords['Y'].to_list()\n",
    "    # Fit spline\n",
    "    tck = interpolate.splrep(y_gt, x_gt, k=1, s=0)\n",
    "    xd = np.linspace(min(y_gt), max(y_gt), 512)\n",
    "    fit = interpolate.splev(xd, tck, der=0)\n",
    "    \n",
    "    # --- Fitting ---\n",
    "    pred_contours = measure.find_contours(pred, 0.5)\n",
    "    # Get center of contours for line fitting\n",
    "    x = [np.mean(contour[:, 1]) for contour in pred_contours]\n",
    "    y = [np.mean(contour[:, 0]) for contour in pred_contours]\n",
    "    # --- Evaluate ---- \n",
    "    # Minimum Euclidean distance between detected points \n",
    "    # and piecewise linear curve through manual annotations.\n",
    "    \n",
    "    \n",
    "    \n",
    "    \n",
    "    # ---- Plotting ----\n",
    "    norm_pred = np.where(pred < 0.5, 0, 1) \n",
    "    ax[0].set_title('GT')\n",
    "    ax[0].imshow(img, cmap='gray')\n",
    "    ax[0].plot(fit, xd, c='y', lw=2, alpha=1)\n",
    "    ax[0].scatter(x_gt, y_gt, marker='+', c='b', s=100, lw=3)\n",
    "    \n",
    "    \n",
    "    ax[1].set_title('Pred')\n",
    "    ax[1].imshow(img, cmap='gray')\n",
    "    ax[1].imshow(np.where(norm_pred==0, np.nan, 1), alpha=0.5, cmap='autumn')\n",
    "    ax[1].scatter(x_gt, y_gt, marker='+', c='b', s=100)\n",
    "    ax[1].scatter(x, y, marker='+', c='k', s=100)\n",
    "    # Plot contours\n",
    "#     for contour in gt_contours:\n",
    "#         x, y = np.mean(contour[:, 1]), np.mean(contour[:, 0])\n",
    "#         ax[0].plot(contour[:, 1], contour[:, 0], linewidth=3)   \n",
    "    ax[0].set_ylim([512, 0])\n",
    "    ax[0].set_xlim([0, 512])"
   ]
  },
  {
   "cell_type": "markdown",
   "id": "43e1cc97-7ac6-4cfc-9260-42c85812c0dd",
   "metadata": {},
   "source": [
    "### Collect distances"
   ]
  },
  {
   "cell_type": "code",
   "execution_count": 88,
   "id": "f0f96d72-3770-4315-bd44-0d9c3dff9f4b",
   "metadata": {},
   "outputs": [],
   "source": [
    "def collect_dist(name):\n",
    "    idx = list(ids).index(name)\n",
    "    gt_mask = np.load(f'../midline_data/testing/targets/masks/{name}.npy')[..., 0]\n",
    "    pred = masks[idx, 0]\n",
    "    # --- Format gt ---\n",
    "    gt_contours = measure.find_contours(gt_mask, 0.5)\n",
    "    x_gt = [np.mean(contour[:, 1]) for contour in gt_contours]\n",
    "    y_gt = [np.mean(contour[:, 0]) for contour in gt_contours]\n",
    "    \n",
    "     # --- Fitting ---\n",
    "    pred_contours = measure.find_contours(pred, 0.5)\n",
    "    # Get center of contours for line fitting\n",
    "    x = [np.mean(contour[:, 1]) for contour in pred_contours]\n",
    "    y = [np.mean(contour[:, 0]) for contour in pred_contours]\n",
    "    # Fit spline\n",
    "    tck = interpolate.splrep(y, x, k=1, s=0)\n",
    "    xd = np.linspace(0, 512, 512)\n",
    "    fit = interpolate.splev(xd, tck, der=0)\n",
    "    \n",
    "    # --- Evaluate ---- \n",
    "    y_idx = [int(np.round(y)) for y in y_gt]\n",
    "    pred_x = np.array(fit)[y_idx]\n",
    "    dist = np.abs(x_gt - pred_x)\n",
    "    dist *= 4*0.3125\n",
    "    return np.mean(dist)"
   ]
  },
  {
   "cell_type": "code",
   "execution_count": 98,
   "id": "7e563a04-8ab2-4aa3-a413-143da45199cf",
   "metadata": {},
   "outputs": [
    {
     "data": {
      "text/html": [
       "<div>\n",
       "<style scoped>\n",
       "    .dataframe tbody tr th:only-of-type {\n",
       "        vertical-align: middle;\n",
       "    }\n",
       "\n",
       "    .dataframe tbody tr th {\n",
       "        vertical-align: top;\n",
       "    }\n",
       "\n",
       "    .dataframe thead th {\n",
       "        text-align: right;\n",
       "    }\n",
       "</style>\n",
       "<table border=\"1\" class=\"dataframe\">\n",
       "  <thead>\n",
       "    <tr style=\"text-align: right;\">\n",
       "      <th></th>\n",
       "      <th>Mean Dist (mm)</th>\n",
       "    </tr>\n",
       "  </thead>\n",
       "  <tbody>\n",
       "    <tr>\n",
       "      <th>04_06_2014_431_Sag</th>\n",
       "      <td>0.761153</td>\n",
       "    </tr>\n",
       "    <tr>\n",
       "      <th>fr_553_LS_Sag</th>\n",
       "      <td>0.698284</td>\n",
       "    </tr>\n",
       "    <tr>\n",
       "      <th>16_05_2014_249_Sag</th>\n",
       "      <td>0.536477</td>\n",
       "    </tr>\n",
       "    <tr>\n",
       "      <th>fr_583_TS_Sag</th>\n",
       "      <td>1.313198</td>\n",
       "    </tr>\n",
       "    <tr>\n",
       "      <th>fr_506_LS_Sag</th>\n",
       "      <td>0.599363</td>\n",
       "    </tr>\n",
       "    <tr>\n",
       "      <th>fr_540_LS_Sag</th>\n",
       "      <td>0.575902</td>\n",
       "    </tr>\n",
       "    <tr>\n",
       "      <th>fr_571_LS_Sag</th>\n",
       "      <td>1.102272</td>\n",
       "    </tr>\n",
       "    <tr>\n",
       "      <th>fr_529_LS_Sag</th>\n",
       "      <td>0.998500</td>\n",
       "    </tr>\n",
       "    <tr>\n",
       "      <th>fr_573_TS_Sag</th>\n",
       "      <td>2.572524</td>\n",
       "    </tr>\n",
       "    <tr>\n",
       "      <th>19_05_2014_224_Sag</th>\n",
       "      <td>0.829613</td>\n",
       "    </tr>\n",
       "    <tr>\n",
       "      <th>27_05_2014_125_Sag</th>\n",
       "      <td>0.719419</td>\n",
       "    </tr>\n",
       "    <tr>\n",
       "      <th>04_06_2014_422_Sag</th>\n",
       "      <td>0.596359</td>\n",
       "    </tr>\n",
       "    <tr>\n",
       "      <th>fr_560_LS_Sag</th>\n",
       "      <td>1.008935</td>\n",
       "    </tr>\n",
       "    <tr>\n",
       "      <th>16_05_2014_250_LS_Sag</th>\n",
       "      <td>0.861465</td>\n",
       "    </tr>\n",
       "    <tr>\n",
       "      <th>28_05_2014_73_Sag</th>\n",
       "      <td>0.895144</td>\n",
       "    </tr>\n",
       "    <tr>\n",
       "      <th>fr_538_TS_Sag</th>\n",
       "      <td>0.526881</td>\n",
       "    </tr>\n",
       "    <tr>\n",
       "      <th>fr_557_LS_Sag</th>\n",
       "      <td>1.186457</td>\n",
       "    </tr>\n",
       "    <tr>\n",
       "      <th>fr_504_TS_Sag</th>\n",
       "      <td>0.513350</td>\n",
       "    </tr>\n",
       "    <tr>\n",
       "      <th>04_06_2014_421_Sag</th>\n",
       "      <td>0.694762</td>\n",
       "    </tr>\n",
       "    <tr>\n",
       "      <th>fr_518_LS_Sag</th>\n",
       "      <td>0.869351</td>\n",
       "    </tr>\n",
       "    <tr>\n",
       "      <th>21_05_2014_182_Sag</th>\n",
       "      <td>0.878844</td>\n",
       "    </tr>\n",
       "    <tr>\n",
       "      <th>01_06_2014_363_Sag</th>\n",
       "      <td>0.688031</td>\n",
       "    </tr>\n",
       "    <tr>\n",
       "      <th>fr_556_LS_Sag</th>\n",
       "      <td>0.830825</td>\n",
       "    </tr>\n",
       "    <tr>\n",
       "      <th>03_06_2014_405_TS_Sag</th>\n",
       "      <td>0.721895</td>\n",
       "    </tr>\n",
       "    <tr>\n",
       "      <th>28_05_2014_68_Sag</th>\n",
       "      <td>0.991909</td>\n",
       "    </tr>\n",
       "    <tr>\n",
       "      <th>fr_632_TLS_LS_Sag</th>\n",
       "      <td>0.754175</td>\n",
       "    </tr>\n",
       "    <tr>\n",
       "      <th>fr_549_LS_Sag</th>\n",
       "      <td>0.546281</td>\n",
       "    </tr>\n",
       "    <tr>\n",
       "      <th>fr_592_LS_Sag</th>\n",
       "      <td>0.626701</td>\n",
       "    </tr>\n",
       "    <tr>\n",
       "      <th>01_06_2014_368_Sag</th>\n",
       "      <td>0.514590</td>\n",
       "    </tr>\n",
       "    <tr>\n",
       "      <th>fr_517_TS_Sag</th>\n",
       "      <td>0.753196</td>\n",
       "    </tr>\n",
       "    <tr>\n",
       "      <th>fr_552_LS_Sag</th>\n",
       "      <td>0.740980</td>\n",
       "    </tr>\n",
       "    <tr>\n",
       "      <th>04_06_2014_423_Sag</th>\n",
       "      <td>0.652140</td>\n",
       "    </tr>\n",
       "    <tr>\n",
       "      <th>fr_536_LS_Sag</th>\n",
       "      <td>0.514000</td>\n",
       "    </tr>\n",
       "    <tr>\n",
       "      <th>fr_533_LS_Sag</th>\n",
       "      <td>0.793364</td>\n",
       "    </tr>\n",
       "    <tr>\n",
       "      <th>fr_569_TS_Sag</th>\n",
       "      <td>0.206136</td>\n",
       "    </tr>\n",
       "    <tr>\n",
       "      <th>04_06_2014_413_TS_Sag</th>\n",
       "      <td>0.361567</td>\n",
       "    </tr>\n",
       "    <tr>\n",
       "      <th>19_05_2014_226_Sag</th>\n",
       "      <td>0.651012</td>\n",
       "    </tr>\n",
       "    <tr>\n",
       "      <th>fr_570_TS_Sag</th>\n",
       "      <td>0.710705</td>\n",
       "    </tr>\n",
       "    <tr>\n",
       "      <th>fr_559_LS_Sag</th>\n",
       "      <td>0.383060</td>\n",
       "    </tr>\n",
       "    <tr>\n",
       "      <th>19_05_2014_218_Sag</th>\n",
       "      <td>0.422926</td>\n",
       "    </tr>\n",
       "    <tr>\n",
       "      <th>03_06_2014_391_Sag</th>\n",
       "      <td>0.845285</td>\n",
       "    </tr>\n",
       "    <tr>\n",
       "      <th>16_05_2014_255_Sag</th>\n",
       "      <td>0.728690</td>\n",
       "    </tr>\n",
       "    <tr>\n",
       "      <th>04_06_2014_419_TS_Sag</th>\n",
       "      <td>0.524481</td>\n",
       "    </tr>\n",
       "    <tr>\n",
       "      <th>04_06_2014_434_Sag</th>\n",
       "      <td>0.484402</td>\n",
       "    </tr>\n",
       "    <tr>\n",
       "      <th>fr_534_TS_Sag</th>\n",
       "      <td>1.092083</td>\n",
       "    </tr>\n",
       "  </tbody>\n",
       "</table>\n",
       "</div>"
      ],
      "text/plain": [
       "                       Mean Dist (mm)\n",
       "04_06_2014_431_Sag           0.761153\n",
       "fr_553_LS_Sag                0.698284\n",
       "16_05_2014_249_Sag           0.536477\n",
       "fr_583_TS_Sag                1.313198\n",
       "fr_506_LS_Sag                0.599363\n",
       "fr_540_LS_Sag                0.575902\n",
       "fr_571_LS_Sag                1.102272\n",
       "fr_529_LS_Sag                0.998500\n",
       "fr_573_TS_Sag                2.572524\n",
       "19_05_2014_224_Sag           0.829613\n",
       "27_05_2014_125_Sag           0.719419\n",
       "04_06_2014_422_Sag           0.596359\n",
       "fr_560_LS_Sag                1.008935\n",
       "16_05_2014_250_LS_Sag        0.861465\n",
       "28_05_2014_73_Sag            0.895144\n",
       "fr_538_TS_Sag                0.526881\n",
       "fr_557_LS_Sag                1.186457\n",
       "fr_504_TS_Sag                0.513350\n",
       "04_06_2014_421_Sag           0.694762\n",
       "fr_518_LS_Sag                0.869351\n",
       "21_05_2014_182_Sag           0.878844\n",
       "01_06_2014_363_Sag           0.688031\n",
       "fr_556_LS_Sag                0.830825\n",
       "03_06_2014_405_TS_Sag        0.721895\n",
       "28_05_2014_68_Sag            0.991909\n",
       "fr_632_TLS_LS_Sag            0.754175\n",
       "fr_549_LS_Sag                0.546281\n",
       "fr_592_LS_Sag                0.626701\n",
       "01_06_2014_368_Sag           0.514590\n",
       "fr_517_TS_Sag                0.753196\n",
       "fr_552_LS_Sag                0.740980\n",
       "04_06_2014_423_Sag           0.652140\n",
       "fr_536_LS_Sag                0.514000\n",
       "fr_533_LS_Sag                0.793364\n",
       "fr_569_TS_Sag                0.206136\n",
       "04_06_2014_413_TS_Sag        0.361567\n",
       "19_05_2014_226_Sag           0.651012\n",
       "fr_570_TS_Sag                0.710705\n",
       "fr_559_LS_Sag                0.383060\n",
       "19_05_2014_218_Sag           0.422926\n",
       "03_06_2014_391_Sag           0.845285\n",
       "16_05_2014_255_Sag           0.728690\n",
       "04_06_2014_419_TS_Sag        0.524481\n",
       "04_06_2014_434_Sag           0.484402\n",
       "fr_534_TS_Sag                1.092083"
      ]
     },
     "metadata": {},
     "output_type": "display_data"
    }
   ],
   "source": [
    "dist_dict = {}\n",
    "for name in list(ids):\n",
    "    dist_dict[name] = collect_dist(name)\n",
    "dist_df = pd.DataFrame(dist_dict, index=['Mean Dist (mm)'])\n",
    "display(dist_df.T)"
   ]
  },
  {
   "cell_type": "code",
   "execution_count": 94,
   "id": "bc641fc3-dd90-43e4-838f-1609d4ea2da6",
   "metadata": {},
   "outputs": [
    {
     "name": "stderr",
     "output_type": "stream",
     "text": [
      "/home/donal/anaconda3/envs/py36/lib/python3.6/site-packages/seaborn/_decorators.py:43: FutureWarning: Pass the following variable as a keyword arg: x. From version 0.12, the only valid positional argument will be `data`, and passing other arguments without an explicit keyword will result in an error or misinterpretation.\n",
      "  FutureWarning\n"
     ]
    },
    {
     "ename": "ValueError",
     "evalue": "The truth value of a Series is ambiguous. Use a.empty, a.bool(), a.item(), a.any() or a.all().",
     "output_type": "error",
     "traceback": [
      "\u001b[0;31m---------------------------------------------------------------------------\u001b[0m",
      "\u001b[0;31mValueError\u001b[0m                                Traceback (most recent call last)",
      "\u001b[0;32m<ipython-input-94-0f03db4992ca>\u001b[0m in \u001b[0;36m<module>\u001b[0;34m\u001b[0m\n\u001b[0;32m----> 1\u001b[0;31m \u001b[0msns\u001b[0m\u001b[0;34m.\u001b[0m\u001b[0mbarplot\u001b[0m\u001b[0;34m(\u001b[0m\u001b[0mdist_df\u001b[0m\u001b[0;34m)\u001b[0m\u001b[0;34m\u001b[0m\u001b[0;34m\u001b[0m\u001b[0m\n\u001b[0m",
      "\u001b[0;32m~/anaconda3/envs/py36/lib/python3.6/site-packages/seaborn/_decorators.py\u001b[0m in \u001b[0;36minner_f\u001b[0;34m(*args, **kwargs)\u001b[0m\n\u001b[1;32m     44\u001b[0m             )\n\u001b[1;32m     45\u001b[0m         \u001b[0mkwargs\u001b[0m\u001b[0;34m.\u001b[0m\u001b[0mupdate\u001b[0m\u001b[0;34m(\u001b[0m\u001b[0;34m{\u001b[0m\u001b[0mk\u001b[0m\u001b[0;34m:\u001b[0m \u001b[0marg\u001b[0m \u001b[0;32mfor\u001b[0m \u001b[0mk\u001b[0m\u001b[0;34m,\u001b[0m \u001b[0marg\u001b[0m \u001b[0;32min\u001b[0m \u001b[0mzip\u001b[0m\u001b[0;34m(\u001b[0m\u001b[0msig\u001b[0m\u001b[0;34m.\u001b[0m\u001b[0mparameters\u001b[0m\u001b[0;34m,\u001b[0m \u001b[0margs\u001b[0m\u001b[0;34m)\u001b[0m\u001b[0;34m}\u001b[0m\u001b[0;34m)\u001b[0m\u001b[0;34m\u001b[0m\u001b[0;34m\u001b[0m\u001b[0m\n\u001b[0;32m---> 46\u001b[0;31m         \u001b[0;32mreturn\u001b[0m \u001b[0mf\u001b[0m\u001b[0;34m(\u001b[0m\u001b[0;34m**\u001b[0m\u001b[0mkwargs\u001b[0m\u001b[0;34m)\u001b[0m\u001b[0;34m\u001b[0m\u001b[0;34m\u001b[0m\u001b[0m\n\u001b[0m\u001b[1;32m     47\u001b[0m     \u001b[0;32mreturn\u001b[0m \u001b[0minner_f\u001b[0m\u001b[0;34m\u001b[0m\u001b[0;34m\u001b[0m\u001b[0m\n\u001b[1;32m     48\u001b[0m \u001b[0;34m\u001b[0m\u001b[0m\n",
      "\u001b[0;32m~/anaconda3/envs/py36/lib/python3.6/site-packages/seaborn/categorical.py\u001b[0m in \u001b[0;36mbarplot\u001b[0;34m(x, y, hue, data, order, hue_order, estimator, ci, n_boot, units, seed, orient, color, palette, saturation, errcolor, errwidth, capsize, dodge, ax, **kwargs)\u001b[0m\n\u001b[1;32m   3180\u001b[0m                           \u001b[0mestimator\u001b[0m\u001b[0;34m,\u001b[0m \u001b[0mci\u001b[0m\u001b[0;34m,\u001b[0m \u001b[0mn_boot\u001b[0m\u001b[0;34m,\u001b[0m \u001b[0munits\u001b[0m\u001b[0;34m,\u001b[0m \u001b[0mseed\u001b[0m\u001b[0;34m,\u001b[0m\u001b[0;34m\u001b[0m\u001b[0;34m\u001b[0m\u001b[0m\n\u001b[1;32m   3181\u001b[0m                           \u001b[0morient\u001b[0m\u001b[0;34m,\u001b[0m \u001b[0mcolor\u001b[0m\u001b[0;34m,\u001b[0m \u001b[0mpalette\u001b[0m\u001b[0;34m,\u001b[0m \u001b[0msaturation\u001b[0m\u001b[0;34m,\u001b[0m\u001b[0;34m\u001b[0m\u001b[0;34m\u001b[0m\u001b[0m\n\u001b[0;32m-> 3182\u001b[0;31m                           errcolor, errwidth, capsize, dodge)\n\u001b[0m\u001b[1;32m   3183\u001b[0m \u001b[0;34m\u001b[0m\u001b[0m\n\u001b[1;32m   3184\u001b[0m     \u001b[0;32mif\u001b[0m \u001b[0max\u001b[0m \u001b[0;32mis\u001b[0m \u001b[0;32mNone\u001b[0m\u001b[0;34m:\u001b[0m\u001b[0;34m\u001b[0m\u001b[0;34m\u001b[0m\u001b[0m\n",
      "\u001b[0;32m~/anaconda3/envs/py36/lib/python3.6/site-packages/seaborn/categorical.py\u001b[0m in \u001b[0;36m__init__\u001b[0;34m(self, x, y, hue, data, order, hue_order, estimator, ci, n_boot, units, seed, orient, color, palette, saturation, errcolor, errwidth, capsize, dodge)\u001b[0m\n\u001b[1;32m   1583\u001b[0m         \u001b[0;34m\"\"\"Initialize the plotter.\"\"\"\u001b[0m\u001b[0;34m\u001b[0m\u001b[0;34m\u001b[0m\u001b[0m\n\u001b[1;32m   1584\u001b[0m         self.establish_variables(x, y, hue, data, orient,\n\u001b[0;32m-> 1585\u001b[0;31m                                  order, hue_order, units)\n\u001b[0m\u001b[1;32m   1586\u001b[0m         \u001b[0mself\u001b[0m\u001b[0;34m.\u001b[0m\u001b[0mestablish_colors\u001b[0m\u001b[0;34m(\u001b[0m\u001b[0mcolor\u001b[0m\u001b[0;34m,\u001b[0m \u001b[0mpalette\u001b[0m\u001b[0;34m,\u001b[0m \u001b[0msaturation\u001b[0m\u001b[0;34m)\u001b[0m\u001b[0;34m\u001b[0m\u001b[0;34m\u001b[0m\u001b[0m\n\u001b[1;32m   1587\u001b[0m         \u001b[0mself\u001b[0m\u001b[0;34m.\u001b[0m\u001b[0mestimate_statistic\u001b[0m\u001b[0;34m(\u001b[0m\u001b[0mestimator\u001b[0m\u001b[0;34m,\u001b[0m \u001b[0mci\u001b[0m\u001b[0;34m,\u001b[0m \u001b[0mn_boot\u001b[0m\u001b[0;34m,\u001b[0m \u001b[0mseed\u001b[0m\u001b[0;34m)\u001b[0m\u001b[0;34m\u001b[0m\u001b[0;34m\u001b[0m\u001b[0m\n",
      "\u001b[0;32m~/anaconda3/envs/py36/lib/python3.6/site-packages/seaborn/categorical.py\u001b[0m in \u001b[0;36mestablish_variables\u001b[0;34m(self, x, y, hue, data, orient, order, hue_order, units)\u001b[0m\n\u001b[1;32m    155\u001b[0m             \u001b[0;31m# Figure out the plotting orientation\u001b[0m\u001b[0;34m\u001b[0m\u001b[0;34m\u001b[0m\u001b[0;34m\u001b[0m\u001b[0m\n\u001b[1;32m    156\u001b[0m             orient = infer_orient(\n\u001b[0;32m--> 157\u001b[0;31m                 \u001b[0mx\u001b[0m\u001b[0;34m,\u001b[0m \u001b[0my\u001b[0m\u001b[0;34m,\u001b[0m \u001b[0morient\u001b[0m\u001b[0;34m,\u001b[0m \u001b[0mrequire_numeric\u001b[0m\u001b[0;34m=\u001b[0m\u001b[0mself\u001b[0m\u001b[0;34m.\u001b[0m\u001b[0mrequire_numeric\u001b[0m\u001b[0;34m\u001b[0m\u001b[0;34m\u001b[0m\u001b[0m\n\u001b[0m\u001b[1;32m    158\u001b[0m             )\n\u001b[1;32m    159\u001b[0m \u001b[0;34m\u001b[0m\u001b[0m\n",
      "\u001b[0;32m~/anaconda3/envs/py36/lib/python3.6/site-packages/seaborn/_core.py\u001b[0m in \u001b[0;36minfer_orient\u001b[0;34m(x, y, orient, require_numeric)\u001b[0m\n\u001b[1;32m   1302\u001b[0m     \"\"\"\n\u001b[1;32m   1303\u001b[0m \u001b[0;34m\u001b[0m\u001b[0m\n\u001b[0;32m-> 1304\u001b[0;31m     \u001b[0mx_type\u001b[0m \u001b[0;34m=\u001b[0m \u001b[0;32mNone\u001b[0m \u001b[0;32mif\u001b[0m \u001b[0mx\u001b[0m \u001b[0;32mis\u001b[0m \u001b[0;32mNone\u001b[0m \u001b[0;32melse\u001b[0m \u001b[0mvariable_type\u001b[0m\u001b[0;34m(\u001b[0m\u001b[0mx\u001b[0m\u001b[0;34m)\u001b[0m\u001b[0;34m\u001b[0m\u001b[0;34m\u001b[0m\u001b[0m\n\u001b[0m\u001b[1;32m   1305\u001b[0m     \u001b[0my_type\u001b[0m \u001b[0;34m=\u001b[0m \u001b[0;32mNone\u001b[0m \u001b[0;32mif\u001b[0m \u001b[0my\u001b[0m \u001b[0;32mis\u001b[0m \u001b[0;32mNone\u001b[0m \u001b[0;32melse\u001b[0m \u001b[0mvariable_type\u001b[0m\u001b[0;34m(\u001b[0m\u001b[0my\u001b[0m\u001b[0;34m)\u001b[0m\u001b[0;34m\u001b[0m\u001b[0;34m\u001b[0m\u001b[0m\n\u001b[1;32m   1306\u001b[0m \u001b[0;34m\u001b[0m\u001b[0m\n",
      "\u001b[0;32m~/anaconda3/envs/py36/lib/python3.6/site-packages/seaborn/_core.py\u001b[0m in \u001b[0;36mvariable_type\u001b[0;34m(vector, boolean_type)\u001b[0m\n\u001b[1;32m   1220\u001b[0m \u001b[0;34m\u001b[0m\u001b[0m\n\u001b[1;32m   1221\u001b[0m     \u001b[0;31m# Special-case all-na data, which is always \"numeric\"\u001b[0m\u001b[0;34m\u001b[0m\u001b[0;34m\u001b[0m\u001b[0;34m\u001b[0m\u001b[0m\n\u001b[0;32m-> 1222\u001b[0;31m     \u001b[0;32mif\u001b[0m \u001b[0mpd\u001b[0m\u001b[0;34m.\u001b[0m\u001b[0misna\u001b[0m\u001b[0;34m(\u001b[0m\u001b[0mvector\u001b[0m\u001b[0;34m)\u001b[0m\u001b[0;34m.\u001b[0m\u001b[0mall\u001b[0m\u001b[0;34m(\u001b[0m\u001b[0;34m)\u001b[0m\u001b[0;34m:\u001b[0m\u001b[0;34m\u001b[0m\u001b[0;34m\u001b[0m\u001b[0m\n\u001b[0m\u001b[1;32m   1223\u001b[0m         \u001b[0;32mreturn\u001b[0m \u001b[0;34m\"numeric\"\u001b[0m\u001b[0;34m\u001b[0m\u001b[0;34m\u001b[0m\u001b[0m\n\u001b[1;32m   1224\u001b[0m \u001b[0;34m\u001b[0m\u001b[0m\n",
      "\u001b[0;32m~/anaconda3/envs/py36/lib/python3.6/site-packages/pandas/core/generic.py\u001b[0m in \u001b[0;36m__nonzero__\u001b[0;34m(self)\u001b[0m\n\u001b[1;32m   1328\u001b[0m     \u001b[0;32mdef\u001b[0m \u001b[0m__nonzero__\u001b[0m\u001b[0;34m(\u001b[0m\u001b[0mself\u001b[0m\u001b[0;34m)\u001b[0m\u001b[0;34m:\u001b[0m\u001b[0;34m\u001b[0m\u001b[0;34m\u001b[0m\u001b[0m\n\u001b[1;32m   1329\u001b[0m         raise ValueError(\n\u001b[0;32m-> 1330\u001b[0;31m             \u001b[0;34mf\"The truth value of a {type(self).__name__} is ambiguous. \"\u001b[0m\u001b[0;34m\u001b[0m\u001b[0;34m\u001b[0m\u001b[0m\n\u001b[0m\u001b[1;32m   1331\u001b[0m             \u001b[0;34m\"Use a.empty, a.bool(), a.item(), a.any() or a.all().\"\u001b[0m\u001b[0;34m\u001b[0m\u001b[0;34m\u001b[0m\u001b[0m\n\u001b[1;32m   1332\u001b[0m         )\n",
      "\u001b[0;31mValueError\u001b[0m: The truth value of a Series is ambiguous. Use a.empty, a.bool(), a.item(), a.any() or a.all()."
     ]
    }
   ],
   "source": [
    "sns.barplot(dist_df)"
   ]
  },
  {
   "cell_type": "markdown",
   "id": "84389e3b-f8f9-4a59-9d34-9ab3ae690b7e",
   "metadata": {},
   "source": [
    "# Extract Sagittal Midline"
   ]
  },
  {
   "cell_type": "code",
   "execution_count": 13,
   "id": "949d325f-0b05-4906-bf5a-d0aeba3e5b8e",
   "metadata": {},
   "outputs": [],
   "source": [
    "from ast import literal_eval\n",
    "import SimpleITK as sitk"
   ]
  },
  {
   "cell_type": "code",
   "execution_count": 14,
   "id": "465f5d54-eb99-4fba-9c0a-2f75d03c5eee",
   "metadata": {},
   "outputs": [
    {
     "data": {
      "text/html": [
       "<div>\n",
       "<style scoped>\n",
       "    .dataframe tbody tr th:only-of-type {\n",
       "        vertical-align: middle;\n",
       "    }\n",
       "\n",
       "    .dataframe tbody tr th {\n",
       "        vertical-align: top;\n",
       "    }\n",
       "\n",
       "    .dataframe thead th {\n",
       "        text-align: right;\n",
       "    }\n",
       "</style>\n",
       "<table border=\"1\" class=\"dataframe\">\n",
       "  <thead>\n",
       "    <tr style=\"text-align: right;\">\n",
       "      <th></th>\n",
       "      <th>Direction</th>\n",
       "      <th>Origin</th>\n",
       "    </tr>\n",
       "    <tr>\n",
       "      <th>Name</th>\n",
       "      <th></th>\n",
       "      <th></th>\n",
       "    </tr>\n",
       "  </thead>\n",
       "  <tbody>\n",
       "    <tr>\n",
       "      <th>03_06_2014_389_Sag</th>\n",
       "      <td>(0.0, 0.0, -1.0, 1.0, 0.0, 0.0, 0.0, -1.0, 0.0)</td>\n",
       "      <td>(201.6633148, -353.9631348, 131.249939)</td>\n",
       "    </tr>\n",
       "    <tr>\n",
       "      <th>03_06_2014_402_Sag</th>\n",
       "      <td>(0.0, 0.0, -1.0, 1.0, 0.0, 0.0, 0.0, -1.0, 0.0)</td>\n",
       "      <td>(173.4781189, -159.1593781, 98.0)</td>\n",
       "    </tr>\n",
       "    <tr>\n",
       "      <th>03_06_2014_396_Sag</th>\n",
       "      <td>(0.0, 0.0, -1.0, 1.0, 0.0, 0.0, 0.0, -1.0, 0.0)</td>\n",
       "      <td>(203.453125, -223.1618958, 57.64001465)</td>\n",
       "    </tr>\n",
       "    <tr>\n",
       "      <th>03_06_2014_395_Sag</th>\n",
       "      <td>(-0.3499322470372717, 0.0, -0.9367750116668602...</td>\n",
       "      <td>(190.7415924, -124.9147186, 81.60995483)</td>\n",
       "    </tr>\n",
       "    <tr>\n",
       "      <th>03_06_2014_399_TS_Sag</th>\n",
       "      <td>(0.0, 0.0, -1.0, 1.0, 0.0, 0.0, 0.0, -1.0, 0.0)</td>\n",
       "      <td>(165.7218781, -164.1593781, 122.75)</td>\n",
       "    </tr>\n",
       "  </tbody>\n",
       "</table>\n",
       "</div>"
      ],
      "text/plain": [
       "                                                               Direction  \\\n",
       "Name                                                                       \n",
       "03_06_2014_389_Sag       (0.0, 0.0, -1.0, 1.0, 0.0, 0.0, 0.0, -1.0, 0.0)   \n",
       "03_06_2014_402_Sag       (0.0, 0.0, -1.0, 1.0, 0.0, 0.0, 0.0, -1.0, 0.0)   \n",
       "03_06_2014_396_Sag       (0.0, 0.0, -1.0, 1.0, 0.0, 0.0, 0.0, -1.0, 0.0)   \n",
       "03_06_2014_395_Sag     (-0.3499322470372717, 0.0, -0.9367750116668602...   \n",
       "03_06_2014_399_TS_Sag    (0.0, 0.0, -1.0, 1.0, 0.0, 0.0, 0.0, -1.0, 0.0)   \n",
       "\n",
       "                                                         Origin  \n",
       "Name                                                             \n",
       "03_06_2014_389_Sag      (201.6633148, -353.9631348, 131.249939)  \n",
       "03_06_2014_402_Sag            (173.4781189, -159.1593781, 98.0)  \n",
       "03_06_2014_396_Sag      (203.453125, -223.1618958, 57.64001465)  \n",
       "03_06_2014_395_Sag     (190.7415924, -124.9147186, 81.60995483)  \n",
       "03_06_2014_399_TS_Sag       (165.7218781, -164.1593781, 122.75)  "
      ]
     },
     "execution_count": 14,
     "metadata": {},
     "output_type": "execute_result"
    }
   ],
   "source": [
    "direct_df = pd.read_csv('../dicom_direction.csv', index_col='Name', converters={'Direction': literal_eval})\n",
    "base_direction = (1.0, 0.0, 0.0, 0.0, 1.0, 0.0, 0.0, 0.0, 1.0)\n",
    "direct_df.head()"
   ]
  },
  {
   "cell_type": "code",
   "execution_count": 15,
   "id": "f753b980-7536-4730-810a-927e5bb16a2d",
   "metadata": {},
   "outputs": [],
   "source": [
    "def pad_image(img, output_shape=(512, 512, 512)):\n",
    "    \"\"\"\n",
    "    Insert into array of fixed size - such that all inputs to model have same dimensions\n",
    "    \"\"\"\n",
    "    padding = [(s-x)//2.0 for x, s in zip(output_shape, img.GetSize())]\n",
    "    output_origin = img.TransformContinuousIndexToPhysicalPoint(padding)\n",
    "    pad = sitk.ResampleImageFilter()\n",
    "    pad.SetInterpolator(sitk.sitkLinear)\n",
    "    pad.SetDefaultPixelValue(-1024)\n",
    "    pad.SetOutputSpacing(img.GetSpacing())\n",
    "    pad.SetSize(output_shape)\n",
    "    pad.SetOutputOrigin(output_origin)\n",
    "    pad.SetOutputDirection(img.GetDirection())\n",
    "    return pad.Execute(img), padding\n",
    "\n",
    "def resample(image, new_spacing):\n",
    "    \"\"\"\n",
    "    Resample image to new resolution with pixel dims defined by new_spacing\n",
    "    \"\"\"\n",
    "    resample = sitk.ResampleImageFilter()\n",
    "    resample.SetInterpolator(sitk.sitkLinear)\n",
    "    resample.SetOutputDirection(image.GetDirection())\n",
    "    resample.SetOutputOrigin(image.GetOrigin())\n",
    "    resample.SetOutputSpacing(new_spacing)\n",
    "    orig_size = np.array(image.GetSize(), dtype=np.int)\n",
    "    orig_spacing = image.GetSpacing()\n",
    "    ratio = [x/y for x, y in zip(orig_spacing, new_spacing)]\n",
    "    new_size = orig_size*ratio\n",
    "    new_size = np.ceil(new_size).astype(np.int)\n",
    "    new_size = [int(s) for s in new_size]\n",
    "    resample.SetSize(new_size)\n",
    "    return resample.Execute(image), ratio\n",
    "\n",
    "def normalize(img, min=0, max=255):\n",
    "    \"\"\"\n",
    "    Cast float image to int, and normalise to [0, 255]\n",
    "    \"\"\"\n",
    "    img = sitk.Cast(img, sitk.sitkInt32)\n",
    "    norm = sitk.RescaleIntensityImageFilter()\n",
    "    norm.SetOutputMaximum(max)\n",
    "    norm.SetOutputMinimum(min)\n",
    "    return norm.Execute(img)"
   ]
  },
  {
   "cell_type": "code",
   "execution_count": 16,
   "id": "b72b2023-b9b9-4a50-a0a2-4fb30bc6062f",
   "metadata": {},
   "outputs": [],
   "source": [
    "def get_ROI(img, fit, width=4):\n",
    "    #width in pixel\n",
    "    # Create temp. holder\n",
    "    roi = np.zeros((512, 2*width, 512))\n",
    "    roi -= 1024\n",
    "    for i, y in enumerate(fit):\n",
    "        sample = img[i, int(y)-width:int(y)+width]\n",
    "        roi[i] = sample\n",
    "    return roi\n",
    "\n",
    "def reformat_scan(name, new_spacing =(1.25, 1.25, 1.25)):\n",
    "    # New spacing in mm\n",
    "\n",
    "    # Get Image data\n",
    "    reader = sitk.ImageFileReader()\n",
    "    reader.SetImageIO(\"NiftiImageIO\")\n",
    "    reader.SetFileName(f'../ct_volumes/{name}.nii')\n",
    "    data = reader.Execute()\n",
    "    # Set image orientation (this is lost when writing out to .nii)\n",
    "    data.SetDirection(direct_df.loc[name].values[0])\n",
    "    \n",
    "    image_out = sitk.GetImageFromArray(sitk.GetArrayFromImage(data))\n",
    "    #setup other image characteristics\n",
    "    image_out.SetOrigin(data.GetOrigin())\n",
    "    image_out.SetSpacing(data.GetSpacing())\n",
    "    #set to RAI\n",
    "    image_out.SetDirection(base_direction)\n",
    "    \n",
    "    norm_img, scaling = resample(image_out, new_spacing)\n",
    "    print(norm_img.GetSize())\n",
    "    norm_img, padding = pad_image(norm_img)\n",
    "    \n",
    "    #data, norm_img = normalize(data), normalize(norm_img)\n",
    "    return sitk.GetArrayFromImage(data), sitk.GetArrayFromImage(norm_img)"
   ]
  },
  {
   "cell_type": "code",
   "execution_count": 17,
   "id": "151fdcd5-30df-44c5-a5df-5116e0ce3e6a",
   "metadata": {},
   "outputs": [
    {
     "data": {
      "application/vnd.jupyter.widget-view+json": {
       "model_id": "253ff6e7e2a34d84b439088992d7b284",
       "version_major": 2,
       "version_minor": 0
      },
      "text/plain": [
       "interactive(children=(Dropdown(description='name', options=('04_06_2014_431_Sag', 'fr_553_LS_Sag', '16_05_2014…"
      ]
     },
     "metadata": {},
     "output_type": "display_data"
    }
   ],
   "source": [
    "@interact\n",
    "def extract_midline(name=list(ids)):\n",
    "    img = np.load(f'../midline_data/testing/slices/coronal/{name}.npy')\n",
    "    fig, ax = plt.subplots(1,3, figsize=(20, 10))\n",
    "    plt.tight_layout()\n",
    "    n = list(ids).index(name)\n",
    "    pred = sigmoid(mip_masks[n, 0])\n",
    "\n",
    "    # Get midpoints and fit line\n",
    "    contours = measure.find_contours(pred, 0.5)\n",
    "    # Get center of contours\n",
    "    x = [np.mean(contour[:, 1]) for contour in contours]\n",
    "    y = [np.mean(contour[:, 0]) for contour in contours]\n",
    "    # Fit spline\n",
    "    try:\n",
    "        tck = interpolate.splrep(y, x, k=1, s=0)\n",
    "    except TypeError:\n",
    "        print(\"No predictions, can't fit line!\")\n",
    "        raise BaseException\n",
    "    xd = np.linspace(0, 512, 512)\n",
    "    fit = interpolate.splev(xd, tck, der=0)\n",
    "    \n",
    "    data, norm_data = reformat_scan(name)\n",
    "    roi = get_ROI(norm_data, fit, width=4)\n",
    "    #roi = sitk.GetArrayFromImage(normalize(sitk.GetImageFromArray(roi)))\n",
    "    # W/L\n",
    "    roi = np.clip(roi, a_min=-100, a_max=500)\n",
    "    roi = np.max(roi, axis=1)\n",
    "    # ---- PLOTTING ---\n",
    "    clipped_norm = np.clip(norm_data, a_min=400, a_max=1000)\n",
    "    \n",
    "    proj_d = np.max(data, axis=-1)\n",
    "    proj_n = np.max(clipped_norm, axis=-1)\n",
    "    # SUBPLOT (0)\n",
    "    ax[0].set_title('Original Scan')\n",
    "    ax[0].imshow(proj_d, cmap='gray')\n",
    "    # SUBPLOT (1)\n",
    "    ax[1].set_title('Reformat')\n",
    "    ax[1].imshow(proj_n, cmap='gray')\n",
    "    ax[1].plot(fit, xd, c='y', lw=2, alpha=0.8)\n",
    "    for contour in contours:\n",
    "        x, y = np.mean(contour[:, 1]), np.mean(contour[:, 0])\n",
    "        ax[1].plot(contour[:, 1], contour[:, 0], linewidth=3, c='y')\n",
    "        ax[1].scatter(x, y, marker='+', c='r', s=700, edgecolor='k')\n",
    "    ax[1].set_ylim([512, 0])\n",
    "    ax[1].set_xlim([0, 512])\n",
    "    # SUBPLOT (2)\n",
    "    ax[2].set_title('Midline')\n",
    "    ax[2].imshow(roi, cmap='gray')"
   ]
  },
  {
   "cell_type": "markdown",
   "id": "f7c4ae6c-66c1-4606-99c1-f4144316697f",
   "metadata": {},
   "source": [
    "# Eval. midline accuracy"
   ]
  },
  {
   "cell_type": "code",
   "execution_count": 18,
   "id": "2dde1bc2-1519-469a-8b03-5d2bd86189b4",
   "metadata": {},
   "outputs": [
    {
     "data": {
      "application/vnd.jupyter.widget-view+json": {
       "model_id": "7e1c2b819be240e596eb43b2ae4014db",
       "version_major": 2,
       "version_minor": 0
      },
      "text/plain": [
       "interactive(children=(Dropdown(description='name', options=('04_06_2014_431_Sag', 'fr_553_LS_Sag', '16_05_2014…"
      ]
     },
     "metadata": {},
     "output_type": "display_data"
    }
   ],
   "source": [
    "@interact\n",
    "def evaluate_midline(name=list(ids)):\n",
    "    img = np.load(f'../midline_data/testing/slices/coronal/{name}.npy')\n",
    "    fig, ax = plt.subplots(1,2, figsize=(20, 10))\n",
    "    plt.tight_layout()\n",
    "    # ---- Ground-truth ---- \n",
    "    coord_df = pd.read_csv(f'../midline_data/coordinates/{name}.csv', index_col='Level')\n",
    "    #----predictions ---\n",
    "    n = list(ids).index(name)\n",
    "    pred = sigmoid(mip_masks[n, 0])\n",
    "    # Get midpoints and fit line\n",
    "    contours = measure.find_contours(pred, 0.5)\n",
    "    # Get center of contours\n",
    "    x = [np.mean(contour[:, 1]) for contour in contours]\n",
    "    y = [np.mean(contour[:, 0]) for contour in contours]\n",
    "    \n",
    "    # ---- Spline fitting ---- \n",
    "    try:\n",
    "        tck = interpolate.splrep(y, x, k=1, s=0)\n",
    "    except TypeError:\n",
    "        print(\"No predictions, can't fit line!\")\n",
    "        raise BaseException\n",
    "    xd = np.linspace(0, 512, 512)\n",
    "\n",
    "    fit = interpolate.splev(xd, tck, der=0)\n",
    "    \n",
    "    \n",
    "    # --- plotting --- \n",
    "    ax[0].imshow(img)\n",
    "    for row in coord_df.iterrows():\n",
    "        x, y = row[1]\n",
    "        print(x, y)\n",
    "        ax[0].scatter(x, y, marker='o', c='y', s=700, edgecolor='k')\n",
    "    \n",
    "    ax[1].imshow(img)\n",
    "    for contour in contours:\n",
    "        x, y = np.mean(contour[:, 1]), np.mean(contour[:, 0])\n",
    "        ax[1].plot(contour[:, 1], contour[:, 0], linewidth=3, c='b')\n",
    "        ax[1].scatter(x, y, marker='*', c='r', s=700, edgecolor='k')"
   ]
  }
 ],
 "metadata": {
  "kernelspec": {
   "display_name": "Python 3",
   "language": "python",
   "name": "python3"
  },
  "language_info": {
   "codemirror_mode": {
    "name": "ipython",
    "version": 3
   },
   "file_extension": ".py",
   "mimetype": "text/x-python",
   "name": "python",
   "nbconvert_exporter": "python",
   "pygments_lexer": "ipython3",
   "version": "3.6.13"
  }
 },
 "nbformat": 4,
 "nbformat_minor": 5
}
