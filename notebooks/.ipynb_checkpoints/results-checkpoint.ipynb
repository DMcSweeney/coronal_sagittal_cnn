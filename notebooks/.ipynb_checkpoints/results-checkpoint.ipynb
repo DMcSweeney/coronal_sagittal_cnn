{
 "cells": [
  {
   "cell_type": "code",
   "execution_count": 1,
   "metadata": {},
   "outputs": [],
   "source": [
    "import os\n",
    "import numpy as np\n",
    "import seaborn as sns\n",
    "import pandas as pd\n",
    "import matplotlib.pyplot as plt\n",
    "import matplotlib.patches as patches\n",
    "import dsntnn"
   ]
  },
  {
   "cell_type": "code",
   "execution_count": 2,
   "metadata": {},
   "outputs": [],
   "source": [
    "import matplotlib\n",
    "font = {'family' : 'serif',\n",
    "        'weight' : 'normal',\n",
    "        'size'   : 22}\n",
    "\n",
    "matplotlib.rc('font', **font)"
   ]
  },
  {
   "cell_type": "code",
   "execution_count": 3,
   "metadata": {},
   "outputs": [],
   "source": [
    "ordered_verts = ['T4', 'T5', 'T6', 'T7', 'T8', 'T9', 'T10', 'T11', 'T12', 'L1', 'L2', 'L3', 'L4']\n",
    "colors = ['r', 'b', 'g', 'c', 'm', 'y', 'orange', 'brown', 'pink', 'purple', 'white', 'gray', 'olive']"
   ]
  },
  {
   "cell_type": "markdown",
   "metadata": {},
   "source": [
    "# Collect results:\n",
    "<ol>\n",
    "    <li>Patient score<br>\n",
    "    <li>Level score<br>\n",
    "<ol>"
   ]
  },
  {
   "cell_type": "markdown",
   "metadata": {},
   "source": [
    "### Get predictions"
   ]
  },
  {
   "cell_type": "code",
   "execution_count": 4,
   "metadata": {},
   "outputs": [
    {
     "data": {
      "text/plain": [
       "((46,), (46, 13), (46, 13, 512, 1), (46, 13))"
      ]
     },
     "execution_count": 4,
     "metadata": {},
     "output_type": "execute_result"
    }
   ],
   "source": [
    "predictions = np.load('../outputs/predictions.npz')\n",
    "ids, coords, dists, labels = predictions.values()\n",
    "ids.shape, coords.shape, dists.shape, labels.shape"
   ]
  },
  {
   "cell_type": "markdown",
   "metadata": {},
   "source": [
    "Format predictions.<br> **Note**: Only interested in levels we know are present."
   ]
  },
  {
   "cell_type": "code",
   "execution_count": 5,
   "metadata": {},
   "outputs": [],
   "source": [
    "pred_dict = {}\n",
    "for i, name in enumerate(ids):\n",
    "    tmp = coords[i]\n",
    "    mask = labels[i]\n",
    "    pred_dict[name] = {}\n",
    "    for idx in range(len(mask)):\n",
    "        if mask[idx] == 1:\n",
    "            vert = ordered_verts[idx]\n",
    "            coord = dsntnn.normalized_to_pixel_coordinates(tmp[idx], size=dists.shape[-2])\n",
    "            pred_dict[name][vert] = coord\n",
    "        else:\n",
    "            continue"
   ]
  },
  {
   "cell_type": "markdown",
   "metadata": {},
   "source": [
    "### Get annotation info for converting to $mm$"
   ]
  },
  {
   "cell_type": "code",
   "execution_count": 6,
   "metadata": {},
   "outputs": [],
   "source": [
    "from ast import literal_eval"
   ]
  },
  {
   "cell_type": "code",
   "execution_count": 7,
   "metadata": {},
   "outputs": [
    {
     "data": {
      "text/html": [
       "<div>\n",
       "<style scoped>\n",
       "    .dataframe tbody tr th:only-of-type {\n",
       "        vertical-align: middle;\n",
       "    }\n",
       "\n",
       "    .dataframe tbody tr th {\n",
       "        vertical-align: top;\n",
       "    }\n",
       "\n",
       "    .dataframe thead th {\n",
       "        text-align: right;\n",
       "    }\n",
       "</style>\n",
       "<table border=\"1\" class=\"dataframe\">\n",
       "  <thead>\n",
       "    <tr style=\"text-align: right;\">\n",
       "      <th></th>\n",
       "      <th>Padding</th>\n",
       "      <th>Pixel Scaling</th>\n",
       "    </tr>\n",
       "    <tr>\n",
       "      <th>Name</th>\n",
       "      <th></th>\n",
       "      <th></th>\n",
       "    </tr>\n",
       "  </thead>\n",
       "  <tbody>\n",
       "    <tr>\n",
       "      <th>03_06_2014_389_Sag</th>\n",
       "      <td>(42.0, 42.0)</td>\n",
       "      <td>(1.1640625, 1.1640625)</td>\n",
       "    </tr>\n",
       "    <tr>\n",
       "      <th>03_06_2014_402_Sag</th>\n",
       "      <td>(-96.0, -96.0)</td>\n",
       "      <td>(0.625, 0.625)</td>\n",
       "    </tr>\n",
       "    <tr>\n",
       "      <th>03_06_2014_396_Sag</th>\n",
       "      <td>(-63.0, -63.0)</td>\n",
       "      <td>(0.75200004576, 0.75200004576)</td>\n",
       "    </tr>\n",
       "    <tr>\n",
       "      <th>03_06_2014_395_Sag</th>\n",
       "      <td>(-90.0, -90.0)</td>\n",
       "      <td>(0.6480000019200001, 0.6480000019200001)</td>\n",
       "    </tr>\n",
       "    <tr>\n",
       "      <th>03_06_2014_399_TS_Sag</th>\n",
       "      <td>(-96.0, -96.0)</td>\n",
       "      <td>(0.625, 0.625)</td>\n",
       "    </tr>\n",
       "  </tbody>\n",
       "</table>\n",
       "</div>"
      ],
      "text/plain": [
       "                              Padding  \\\n",
       "Name                                    \n",
       "03_06_2014_389_Sag       (42.0, 42.0)   \n",
       "03_06_2014_402_Sag     (-96.0, -96.0)   \n",
       "03_06_2014_396_Sag     (-63.0, -63.0)   \n",
       "03_06_2014_395_Sag     (-90.0, -90.0)   \n",
       "03_06_2014_399_TS_Sag  (-96.0, -96.0)   \n",
       "\n",
       "                                                  Pixel Scaling  \n",
       "Name                                                             \n",
       "03_06_2014_389_Sag                       (1.1640625, 1.1640625)  \n",
       "03_06_2014_402_Sag                               (0.625, 0.625)  \n",
       "03_06_2014_396_Sag               (0.75200004576, 0.75200004576)  \n",
       "03_06_2014_395_Sag     (0.6480000019200001, 0.6480000019200001)  \n",
       "03_06_2014_399_TS_Sag                            (0.625, 0.625)  "
      ]
     },
     "execution_count": 7,
     "metadata": {},
     "output_type": "execute_result"
    }
   ],
   "source": [
    "pix_info = pd.read_csv(f'../images_sagittal/annotation_info.csv', index_col='Name')\n",
    "pix_info.head()"
   ]
  },
  {
   "cell_type": "markdown",
   "metadata": {},
   "source": [
    "### Get ground-truth"
   ]
  },
  {
   "cell_type": "code",
   "execution_count": 8,
   "metadata": {},
   "outputs": [],
   "source": [
    "def get_gt(id_):\n",
    "    path = f'../data/testing/targets/'\n",
    "    #image\n",
    "    img_path = f'../data/testing/slices/sagittal/{id_}.npy'\n",
    "    img = np.load(img_path)\n",
    "    # Coordinates\n",
    "    coord_path = path + f'coordinates/{id_}.csv'\n",
    "    coords = pd.read_csv(coord_path, index_col='Level').sort_values(by='Coordinate')\n",
    "    # Heatmaps\n",
    "    dist_path = path + f'heatmaps/{id_}.npy'\n",
    "    dists = np.load(dist_path)\n",
    "    return coords, dists, img"
   ]
  },
  {
   "cell_type": "code",
   "execution_count": 9,
   "metadata": {},
   "outputs": [],
   "source": [
    "coord_dict = {}\n",
    "for name in ids:\n",
    "    coords, dists, img = get_gt(name)\n",
    "    coord_dict[name] = coords"
   ]
  },
  {
   "cell_type": "code",
   "execution_count": 10,
   "metadata": {},
   "outputs": [],
   "source": [
    "def make_labels(coord_dict):\n",
    "    # Use halfway point between neighbouring levels as boundary\n",
    "    # Coord dict=  patient specific coordinates\n",
    "    gt_dict = {}\n",
    "    for i, (level, data) in enumerate(coord_dict.iterrows()):\n",
    "        coord = data.to_list()[0]\n",
    "        dif = coord_dict['Coordinate']-coord\n",
    "        if i ==0:\n",
    "            nn = coord_dict.iloc[(dif).abs().argsort()[1]]\n",
    "            dist = np.abs(dif[nn.name])\n",
    "            range_ = [coord-dist/2, coord, coord+dist/2]\n",
    "            gt_dict[level] = range_\n",
    "        elif i > 0 and i < len(coord_dict.index)-1:\n",
    "            nn = coord_dict.iloc[(dif).abs().argsort()[1:3]]\n",
    "            for vert in nn.index.to_list():\n",
    "                rel_dist = ordered_verts.index(vert)-ordered_verts.index(level)\n",
    "                if rel_dist < 0:\n",
    "                    up_nn = np.abs(dif[vert])\n",
    "                elif rel_dist > 0:\n",
    "                    down_nn = np.abs(dif[vert])\n",
    "                else:\n",
    "                    print('Indexing has gone wrong')\n",
    "                    break\n",
    "            range_ = [coord - up_nn/2, coord, coord + down_nn/2]\n",
    "            gt_dict[level] = range_\n",
    "        else:\n",
    "            nn = coord_dict.iloc[(dif).abs().argsort()[1]]\n",
    "            dist = np.abs(dif[nn.name])\n",
    "            range_ = [coord - dist/2, coord, coord+dist/2]\n",
    "            gt_dict[level] = range_\n",
    "    return gt_dict"
   ]
  },
  {
   "cell_type": "markdown",
   "metadata": {},
   "source": [
    "#### Make labels (range = dist. to NN/2)"
   ]
  },
  {
   "cell_type": "markdown",
   "metadata": {},
   "source": [
    "Each entry: Min Range, Center point, Max Range"
   ]
  },
  {
   "cell_type": "code",
   "execution_count": 11,
   "metadata": {},
   "outputs": [],
   "source": [
    "all_gt = {}\n",
    "for name in ids:\n",
    "    gt_dict = make_labels(coord_dict[name])\n",
    "    all_gt[name] = gt_dict"
   ]
  },
  {
   "cell_type": "markdown",
   "metadata": {},
   "source": [
    "## Evaluate predictions\n",
    "(`all_gt` & `pred_dict`)"
   ]
  },
  {
   "cell_type": "code",
   "execution_count": 12,
   "metadata": {},
   "outputs": [],
   "source": [
    "def plot_preds(name):\n",
    "    #Inputs are patient-specific\n",
    "    gt, pred = all_gt[name], pred_dict[name]\n",
    "    img = np.load(f'../data/testing/slices/sagittal/{name}.npy')\n",
    "    fig, ax = plt.subplots(1, 1, figsize=(20, 20))\n",
    "    ax.imshow(img)\n",
    "        \n",
    "    plot_gt = np.zeros((512, 512), dtype=np.uint8)\n",
    "    \n",
    "    # Plot ground-truth\n",
    "    for i, (level, range_) in enumerate(gt.items()):\n",
    "        channel = ordered_verts.index(level)\n",
    "        min_range, center, max_range = range_\n",
    "        rec = patches.Rectangle((0, min_range), 512, max_range-min_range, facecolor=None, \n",
    "                                edgecolor='w', linewidth=4, alpha=0.8,fill=False, hatch=None)\n",
    "        ax.add_patch(rec)\n",
    "        ax.text(490, center, level, color='w')\n",
    "        pred_coord = pred[level]\n",
    "        if pred_coord > min_range and pred_coord < max_range:\n",
    "            ax.axhline(pred_coord, ls='--', c='lawngreen', lw=4)\n",
    "            ax.text(5, pred_coord-5, level, color='lawngreen')\n",
    "        else:\n",
    "            ax.axhline(pred_coord, ls='--', c='orangered', lw=4)\n",
    "            ax.text(5, pred_coord-5, level, color='orangered')\n",
    "    fig.savefig(f'../outputs/predictions/{name}.png')\n",
    "    plt.close()\n",
    "    "
   ]
  },
  {
   "cell_type": "code",
   "execution_count": 13,
   "metadata": {},
   "outputs": [],
   "source": [
    "plot_preds('fr_552_TS_Sag')"
   ]
  },
  {
   "cell_type": "code",
   "execution_count": 28,
   "metadata": {},
   "outputs": [],
   "source": [
    "def get_scores(name, plot=False):\n",
    "    if plot:\n",
    "        plot_preds(name)\n",
    "    #Inputs are patient-specific\n",
    "    gt, pred = all_gt[name], pred_dict[name]\n",
    "    img = np.load(f'../data/testing/slices/sagittal/{name}.npy')\n",
    "    plot_gt = np.zeros((512, 512), dtype=np.uint8)\n",
    "    level_list = []\n",
    "    correct_list = []\n",
    "    dist_list = []\n",
    "    range_list = []\n",
    "    for i, (level, range_) in enumerate(gt.items()):\n",
    "        channel = ordered_verts.index(level)\n",
    "        min_range, center, max_range = range_\n",
    "        if level not in pred.keys():\n",
    "            scores_dict[level] = {'Correct': 'Not Predicted',\n",
    "                                  'Distance': 'N/a'}\n",
    "            level_list.append(level)\n",
    "            correct_list.append('Not Predicted')\n",
    "            dist_list.append('N/A')\n",
    "            range_list.append(pix_scale[0]*np.abs(max_range-min_range))\n",
    "            continue\n",
    "        pred_coord = pred[level]\n",
    "        if pred_coord > min_range and pred_coord < max_range:\n",
    "            level_list.append(level)\n",
    "            correct_list.append(True)\n",
    "            dist = np.abs(pred_coord - center)\n",
    "            pix_scale = literal_eval(pix_info.loc[name, 'Pixel Scaling'])\n",
    "            dist *= pix_scale[0]\n",
    "            dist_list.append(dist)\n",
    "            range_list.append(pix_scale[0]*np.abs(max_range-min_range))\n",
    "        else:\n",
    "            level_list.append(level)\n",
    "            correct_list.append(False)\n",
    "            dist = np.abs(pred_coord - center)\n",
    "            pix_scale = literal_eval(pix_info.loc[name, 'Pixel Scaling'])\n",
    "            dist *= pix_scale[0]\n",
    "            dist_list.append(dist)\n",
    "            range_list.append(pix_scale[0]*np.abs(max_range-min_range))\n",
    "    return level_list, correct_list, dist_list, range_list"
   ]
  },
  {
   "cell_type": "code",
   "execution_count": 194,
   "metadata": {},
   "outputs": [],
   "source": [
    "levels = []\n",
    "correct = []\n",
    "distances = []\n",
    "range_list = []\n",
    "for name in ids:\n",
    "    level, cor, dist, ranges = get_scores(name, plot=True)\n",
    "    levels.extend(level)\n",
    "    correct.extend(cor)\n",
    "    distances.extend(dist)\n",
    "    range_list.extend(ranges)"
   ]
  },
  {
   "cell_type": "code",
   "execution_count": 30,
   "metadata": {},
   "outputs": [
    {
     "data": {
      "text/html": [
       "<div>\n",
       "<style scoped>\n",
       "    .dataframe tbody tr th:only-of-type {\n",
       "        vertical-align: middle;\n",
       "    }\n",
       "\n",
       "    .dataframe tbody tr th {\n",
       "        vertical-align: top;\n",
       "    }\n",
       "\n",
       "    .dataframe thead th {\n",
       "        text-align: right;\n",
       "    }\n",
       "</style>\n",
       "<table border=\"1\" class=\"dataframe\">\n",
       "  <thead>\n",
       "    <tr style=\"text-align: right;\">\n",
       "      <th></th>\n",
       "      <th>Level</th>\n",
       "      <th>Correct</th>\n",
       "      <th>Distance</th>\n",
       "      <th>Range</th>\n",
       "    </tr>\n",
       "  </thead>\n",
       "  <tbody>\n",
       "    <tr>\n",
       "      <th>0</th>\n",
       "      <td>T10</td>\n",
       "      <td>True</td>\n",
       "      <td>6.329290</td>\n",
       "      <td>16.191523</td>\n",
       "    </tr>\n",
       "    <tr>\n",
       "      <th>1</th>\n",
       "      <td>T11</td>\n",
       "      <td>True</td>\n",
       "      <td>6.555347</td>\n",
       "      <td>17.017223</td>\n",
       "    </tr>\n",
       "    <tr>\n",
       "      <th>2</th>\n",
       "      <td>T12</td>\n",
       "      <td>True</td>\n",
       "      <td>4.277475</td>\n",
       "      <td>18.565876</td>\n",
       "    </tr>\n",
       "    <tr>\n",
       "      <th>3</th>\n",
       "      <td>L1</td>\n",
       "      <td>True</td>\n",
       "      <td>4.306057</td>\n",
       "      <td>20.152865</td>\n",
       "    </tr>\n",
       "    <tr>\n",
       "      <th>4</th>\n",
       "      <td>L2</td>\n",
       "      <td>True</td>\n",
       "      <td>3.291799</td>\n",
       "      <td>21.391757</td>\n",
       "    </tr>\n",
       "  </tbody>\n",
       "</table>\n",
       "</div>"
      ],
      "text/plain": [
       "  Level  Correct  Distance      Range\n",
       "0   T10     True  6.329290  16.191523\n",
       "1   T11     True  6.555347  17.017223\n",
       "2   T12     True  4.277475  18.565876\n",
       "3    L1     True  4.306057  20.152865\n",
       "4    L2     True  3.291799  21.391757"
      ]
     },
     "execution_count": 30,
     "metadata": {},
     "output_type": "execute_result"
    }
   ],
   "source": [
    "scores_df = pd.DataFrame(columns=['Level', 'Correct', 'Distance', 'Range'])\n",
    "scores_df['Level'] = levels\n",
    "scores_df['Correct'] = correct\n",
    "scores_df['Distance'] = distances\n",
    "scores_df['Range'] = range_list\n",
    "scores_df.head()"
   ]
  },
  {
   "cell_type": "code",
   "execution_count": 31,
   "metadata": {},
   "outputs": [
    {
     "data": {
      "text/plain": [
       "Level        object\n",
       "Correct        bool\n",
       "Distance    float64\n",
       "Range       float64\n",
       "dtype: object"
      ]
     },
     "execution_count": 31,
     "metadata": {},
     "output_type": "execute_result"
    }
   ],
   "source": [
    "scores_df.dtypes"
   ]
  },
  {
   "cell_type": "code",
   "execution_count": 193,
   "metadata": {},
   "outputs": [],
   "source": [
    "scores_df['Level'] = pd.Categorical(scores_df['Level'],\n",
    "                                   categories=ordered_verts,\n",
    "                                   ordered=True)\n",
    "table = pd.DataFrame(scores_df.groupby('Level')['Correct'].value_counts(normalize=True)*100).transpose()\n",
    "table.index = ['Accuracy']\n",
    "\n",
    "accuracy = {level: table[level, True] for level in ordered_verts}\n",
    "accuracy = pd.DataFrame(accuracy).T"
   ]
  },
  {
   "cell_type": "code",
   "execution_count": 185,
   "metadata": {},
   "outputs": [
    {
     "data": {
      "image/png": "[encoded data removed]",
      "text/plain": [
       "<Figure size 1440x720 with 2 Axes>"
      ]
     },
     "metadata": {},
     "output_type": "display_data"
    }
   ],
   "source": [
    "plt.style.use('seaborn-bright')\n",
    "fig, ax = plt.subplots(1, 1,figsize=(20, 10))\n",
    "\n",
    "sns.color_palette(\"hls\", 2)\n",
    "sns.boxplot(data=scores_df, x='Level', y='Distance', hue='Correct', linewidth=1.5,  order=ordered_verts, palette='muted', ax=ax)\n",
    "g = sns.lineplot(data=scores_df, x= 'Level', y='Range', ci='sd', err_style=\"band\", estimator='min', ax=ax, color='gray')\n",
    "ax.set_ylabel('Absolute distance to center ($mm$)')\n",
    "ax2 = ax.twinx()\n",
    "ax2.set_ylabel('Accuracy (%)')\n",
    "ax2.set_ylim([-0.2, 100.2])\n",
    "sns.lineplot(data=accuracy, x=accuracy.index, y='Accuracy', ax=ax2, legend=False, ls='--', lw=3, color='limegreen' )\n",
    "#sns.catplot(dara=scores_df, x='Level', y=, hue='Correct', kind='hist')\n",
    "g.grid(True, which='both')\n",
    "#g.axhline(y=0, color='k')\n",
    "g.set_ylim([-0.7, 23])\n",
    "\n",
    "# Get the handles and labels. For this example it'll be 2 tuples\n",
    "# of length 4 each.\n",
    "handles, labels = g.get_legend_handles_labels()\n",
    "\n",
    "# When creating the legend, only use the first two elements\n",
    "# to effectively remove the last two.\n",
    "l = ax.legend(handles[0:2], labels[0:2], loc='upper left')\n",
    "\n",
    "ax2.spines['right'].set_color('limegreen')\n",
    "#ax2.yaxis.label.set_color('limegreen')\n",
    "ax2.tick_params(axis='y', colors='limegreen')\n",
    "l.get_texts()[0].set_text('Incorrect')\n",
    "l.get_texts()[1].set_text('Correct')"
   ]
  },
  {
   "cell_type": "code",
   "execution_count": 192,
   "metadata": {},
   "outputs": [
    {
     "data": {
      "text/plain": [
       "<matplotlib.axes._subplots.AxesSubplot at 0x7f04c15cbba8>"
      ]
     },
     "execution_count": 192,
     "metadata": {},
     "output_type": "execute_result"
    },
    {
     "data": {
      "image/png": "[encoded data removed]",
      "text/plain": [
       "<Figure size 1080x720 with 1 Axes>"
      ]
     },
     "metadata": {
      "needs_background": "light"
     },
     "output_type": "display_data"
    }
   ],
   "source": [
    "fig, ax = plt.subplots(1, 1, figsize=(15,10))\n",
    "sns.scatterplot(x=scores_df.groupby(by='Level')['Range'].mean(), y=accuracy['Accuracy'])"
   ]
  }
 ],
 "metadata": {
  "kernelspec": {
   "display_name": "Python 3",
   "language": "python",
   "name": "python3"
  },
  "language_info": {
   "codemirror_mode": {
    "name": "ipython",
    "version": 3
   },
   "file_extension": ".py",
   "mimetype": "text/x-python",
   "name": "python",
   "nbconvert_exporter": "python",
   "pygments_lexer": "ipython3",
   "version": "3.6.10"
  }
 },
 "nbformat": 4,
 "nbformat_minor": 4
}
