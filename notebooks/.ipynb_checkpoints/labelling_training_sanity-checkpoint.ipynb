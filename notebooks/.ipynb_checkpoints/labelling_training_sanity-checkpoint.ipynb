{
 "cells": [
  {
   "cell_type": "code",
   "execution_count": 1,
   "id": "a9099fee-ff0f-4ddc-ae27-8b3ea639786a",
   "metadata": {},
   "outputs": [],
   "source": [
    "import os\n",
    "import sys\n",
    "sys.path.append('/home/donal/PhD/spines/spine_nn/')\n",
    "\n",
    "import torch\n",
    "from torch.utils.data import DataLoader\n",
    "\n",
    "import albumentations as A\n",
    "from albumentations.pytorch.transforms import ToTensor\n",
    "import segmentation_models_pytorch as smp\n",
    "\n",
    "from utils.customDataset_v2 import LabelDataset, k_fold_splitter\n",
    "from argparse import ArgumentParser\n",
    "import utils.LabellerTL as ltl\n",
    "\n",
    "import dsntnn\n",
    "import matplotlib.pyplot as plt\n",
    "import numpy as np\n",
    "import matplotlib\n",
    "import seaborn as sns\n",
    "font = {'family' : 'serif',\n",
    "        'weight' : 'normal',\n",
    "        'size'   : 15}\n",
    "\n",
    "matplotlib.rc('font', **font)"
   ]
  },
  {
   "cell_type": "code",
   "execution_count": 2,
   "id": "ced69f89-3145-4240-83cd-182f508e84ff",
   "metadata": {},
   "outputs": [],
   "source": [
    "%matplotlib inline"
   ]
  },
  {
   "cell_type": "code",
   "execution_count": 3,
   "id": "e3f70dea-2978-4781-9942-90f06df43789",
   "metadata": {},
   "outputs": [],
   "source": [
    "batch_size=4\n",
    "n_outputs = 13\n",
    "learning_rate = 3e-3\n",
    "num_epochs = 500\n",
    "classifier=True\n",
    "norm_coords=True\n",
    "early_stopping=True"
   ]
  },
  {
   "cell_type": "code",
   "execution_count": 4,
   "id": "e30e240d-a572-4274-981e-636e16763b30",
   "metadata": {},
   "outputs": [],
   "source": [
    "ENCODER = 'resnet34'\n",
    "ENCODER_WEIGHTS = 'imagenet'"
   ]
  },
  {
   "cell_type": "code",
   "execution_count": 5,
   "id": "b0c3c833-2d03-4691-853d-8624627392de",
   "metadata": {},
   "outputs": [],
   "source": [
    "root_dir= '/data/PAB_data/vert_labelling/'\n",
    "fold=1\n",
    "mode='Training'"
   ]
  },
  {
   "cell_type": "code",
   "execution_count": 6,
   "id": "5f1ae8c6-d737-4471-ac36-7216a7ad8cb7",
   "metadata": {},
   "outputs": [],
   "source": [
    "ordered_verts = ['T4', 'T5', 'T6', 'T7', 'T8', 'T9','T10', 'T11', 'T12', 'L1', 'L2', 'L3', 'L4']"
   ]
  },
  {
   "cell_type": "code",
   "execution_count": 7,
   "id": "074fcdc7-02a2-47b8-99e3-1b55469a04af",
   "metadata": {},
   "outputs": [],
   "source": [
    "device = torch.device(\"cuda:0\")\n",
    "torch.cuda.set_device(device)"
   ]
  },
  {
   "cell_type": "markdown",
   "id": "b2289cc9-8ad3-4843-aa63-1d3f6ab90148",
   "metadata": {},
   "source": [
    "## Check inputs to model for labelling"
   ]
  },
  {
   "cell_type": "markdown",
   "id": "2462e160-02cd-49c2-9b8d-3d4dfa19c434",
   "metadata": {},
   "source": [
    "Checking dataset + DSNT"
   ]
  },
  {
   "cell_type": "code",
   "execution_count": 8,
   "id": "15bc447a-9633-4af7-a37b-cc0f8ec098a1",
   "metadata": {},
   "outputs": [],
   "source": [
    "train_transforms = A.Compose([#A.HorizontalFlip(p=0.5),\n",
    "            A.ShiftScaleRotate(scale_limit=0.5, rotate_limit=20,\n",
    "                                 shift_limit=0.1, p=1, border_mode=0),\n",
    "            #A.GaussNoise(var_limit=0.025, p=0.5, per_channel=False),\n",
    "            #A.Perspective(p=0.5),\n",
    "            A.RandomCrop(height=342, width=512, p=0.5),\n",
    "            A.Resize(height=512, width=512)\n",
    "            ], \n",
    "        keypoint_params=A.KeypointParams(format=('yx'), label_fields=[\n",
    "                                         'labels'], remove_invisible=False),\n",
    "        additional_targets={'heatmap': 'mask'})"
   ]
  },
  {
   "cell_type": "code",
   "execution_count": 9,
   "id": "22e328a1-9e56-45cf-8bea-dd6107e60b8e",
   "metadata": {},
   "outputs": [],
   "source": [
    "pre_processing_fn = smp.encoders.get_preprocessing_fn(\n",
    "        ENCODER, ENCODER_WEIGHTS)\n",
    "\n",
    "splitter = k_fold_splitter(root_dir, fold, mode, num_folds=4)"
   ]
  },
  {
   "cell_type": "markdown",
   "id": "c54102d4-c7bb-4ed4-88a5-d97abda9b359",
   "metadata": {},
   "source": [
    "## Make dataloader"
   ]
  },
  {
   "cell_type": "code",
   "execution_count": 10,
   "id": "6d0bb06a-8630-4154-a700-d56ce1d792a5",
   "metadata": {},
   "outputs": [
    {
     "name": "stdout",
     "output_type": "stream",
     "text": [
      "Training: 220; Testing: 55\n"
     ]
    }
   ],
   "source": [
    "train, test = splitter.split_data()\n",
    "# ** Create Dataset for training\n",
    "train_dataset = LabelDataset(\n",
    "    *train, pre_processing_fn=pre_processing_fn,\n",
    "    transforms=train_transforms, normalise=True, classifier=classifier, \n",
    "    norm_coords=norm_coords)\n",
    "\n",
    "train_generator = DataLoader(train_dataset, batch_size=batch_size)"
   ]
  },
  {
   "cell_type": "code",
   "execution_count": 11,
   "id": "8b09de20-847b-4f78-8ed2-e9b163ca6777",
   "metadata": {},
   "outputs": [],
   "source": [
    "from einops import rearrange"
   ]
  },
  {
   "cell_type": "code",
   "execution_count": 12,
   "id": "ee4c4b11-1655-4422-82f7-b07737ce4902",
   "metadata": {},
   "outputs": [
    {
     "data": {
      "application/vnd.jupyter.widget-view+json": {
       "model_id": "4dd1ca3c06bf484c9426db694195c62f",
       "version_major": 2,
       "version_minor": 0
      },
      "text/plain": [
       "interactive(children=(IntSlider(value=9, description='n_colors', max=16, min=2), FloatSlider(value=0.0, descri…"
      ]
     },
     "metadata": {},
     "output_type": "display_data"
    }
   ],
   "source": [
    "cmap = sns.choose_cubehelix_palette(as_cmap=False)"
   ]
  },
  {
   "cell_type": "code",
   "execution_count": 63,
   "id": "1e8b60fe-bf2b-45a0-85a7-41ae4e47963b",
   "metadata": {},
   "outputs": [],
   "source": [
    "def norm_img(img):\n",
    "        if img.shape[-1] == 1:\n",
    "            return (img-img.min())/(img.max()-img.min())\n",
    "        elif img.shape[-1] == 3:\n",
    "            norm_img = []\n",
    "            for chan in np.arange(0, 3):\n",
    "                norm_img.append(\n",
    "                    (img[..., chan]-img[..., chan].min())/(img[..., chan].max()-img[..., chan].min()))\n",
    "            return np.stack(norm_img, axis=-1)\n",
    "\n",
    "def sharpen_heatmap(heatmap, alpha=2):\n",
    "    sharp_map = heatmap ** alpha\n",
    "    eps = 1e-24\n",
    "    flat_map = sharp_map.flatten(2).sum(-1)[..., None, None]\n",
    "    flat_map += eps\n",
    "    return sharp_map[flat_map != 0]/flat_map"
   ]
  },
  {
   "cell_type": "code",
   "execution_count": 64,
   "id": "8ec6a28c-7511-4b99-8aaa-bd5c8c17c76e",
   "metadata": {},
   "outputs": [],
   "source": [
    "def plot_heatmap(img, heatmap, apply_softmax=True, norm_coords=False, labels=None):\n",
    "    heatmap = sharpen_heatmap(heatmap, alpha=1)\n",
    "    if apply_softmax:\n",
    "            heatmap = dsntnn.flat_softmax(heatmap).cpu().numpy()\n",
    "    else:\n",
    "        heatmap = heatmap.cpu().numpy()\n",
    "        \n",
    "    idx=0\n",
    "#     for channel in range(heatmap.shape[1]):\n",
    "#         norm_map = heatmap[idx, channel]-heatmap[idx, channel].min()/ \\\n",
    "#                         (heatmap[idx, channel].max()-heatmap[idx, channel].min())\n",
    "#         print(np.min(norm_map, axis=(-2, -1)))\n",
    "#         heatmap[idx, channel] = norm_map\n",
    "    cmap = sns.cubehelix_palette(start=0, rot=0.9, gamma=1, hue=0.8, as_cmap=True)\n",
    "    \n",
    "    fig, ax = plt.subplots(1, 2, figsize=(20, 10))\n",
    "    img = rearrange(img, 'b c h w -> b h w c')\n",
    "    plt_img = norm_img(img[idx].cpu().numpy())\n",
    "    ax[0].imshow(plt_img, cmap='gray')\n",
    "    \n",
    "    # --- PLOT COORDINATES\n",
    "    coords = dsntnn.dsnt(torch.tensor(heatmap), normalized_coordinates=norm_coords)\n",
    "    \n",
    "    if norm_coords:\n",
    "        coords = dsntnn.normalized_to_pixel_coordinates(coords, size=(512, 512))\n",
    "    for channel in range(coords.shape[1]):\n",
    "        x, y = coords[idx, channel-1]\n",
    "        if channel == 0:\n",
    "            continue\n",
    "        if labels is not None and labels[idx, channel-1] == 1:\n",
    "            vert = ordered_verts[channel-1]\n",
    "            ax[0].scatter(x, y, s=20, c='r', marker='+')\n",
    "            ax[0].text(x, y, vert, c='y', size=15)\n",
    "            \n",
    "    ## --- PLOT HEATMAP\n",
    "    print('Min', np.min(heatmap[idx], axis=(-2,-1)))\n",
    "    print('MAX', np.max(heatmap[idx], axis=(-2,-1)))\n",
    "    ax[1].contourf(np.max(heatmap[idx], axis=0), cmap=cmap)\n",
    "    ax[1].invert_yaxis()"
   ]
  },
  {
   "cell_type": "code",
   "execution_count": 65,
   "id": "e2dcdee2-20e5-4913-9333-607cf3d9a59b",
   "metadata": {},
   "outputs": [
    {
     "name": "stdout",
     "output_type": "stream",
     "text": [
      "torch.Size([4, 14]) torch.Size([4, 14, 512, 512])\n"
     ]
    },
    {
     "ename": "RuntimeError",
     "evalue": "The size of tensor a (512) must match the size of tensor b (14) at non-singleton dimension 2",
     "output_type": "error",
     "traceback": [
      "\u001b[0;31m---------------------------------------------------------------------------\u001b[0m",
      "\u001b[0;31mRuntimeError\u001b[0m                              Traceback (most recent call last)",
      "\u001b[0;32m<ipython-input-65-6fd598d469d4>\u001b[0m in \u001b[0;36m<module>\u001b[0;34m\u001b[0m\n\u001b[1;32m      4\u001b[0m     \u001b[0mlabels\u001b[0m \u001b[0;34m=\u001b[0m \u001b[0mdata\u001b[0m\u001b[0;34m[\u001b[0m\u001b[0;34m'labels'\u001b[0m\u001b[0;34m]\u001b[0m\u001b[0;34m.\u001b[0m\u001b[0mto\u001b[0m\u001b[0;34m(\u001b[0m\u001b[0mdevice\u001b[0m\u001b[0;34m,\u001b[0m \u001b[0mdtype\u001b[0m\u001b[0;34m=\u001b[0m\u001b[0mtorch\u001b[0m\u001b[0;34m.\u001b[0m\u001b[0mfloat32\u001b[0m\u001b[0;34m)\u001b[0m\u001b[0;34m\u001b[0m\u001b[0;34m\u001b[0m\u001b[0m\n\u001b[1;32m      5\u001b[0m \u001b[0;34m\u001b[0m\u001b[0m\n\u001b[0;32m----> 6\u001b[0;31m     \u001b[0mplot_heatmap\u001b[0m\u001b[0;34m(\u001b[0m\u001b[0mimg\u001b[0m\u001b[0;34m,\u001b[0m \u001b[0mheatmap\u001b[0m\u001b[0;34m,\u001b[0m \u001b[0mapply_softmax\u001b[0m\u001b[0;34m=\u001b[0m\u001b[0;32mFalse\u001b[0m\u001b[0;34m,\u001b[0m \u001b[0mnorm_coords\u001b[0m\u001b[0;34m=\u001b[0m\u001b[0;32mTrue\u001b[0m\u001b[0;34m,\u001b[0m \u001b[0mlabels\u001b[0m\u001b[0;34m=\u001b[0m\u001b[0mlabels\u001b[0m\u001b[0;34m)\u001b[0m\u001b[0;34m\u001b[0m\u001b[0;34m\u001b[0m\u001b[0m\n\u001b[0m\u001b[1;32m      7\u001b[0m     \u001b[0;32mbreak\u001b[0m\u001b[0;34m\u001b[0m\u001b[0;34m\u001b[0m\u001b[0m\n",
      "\u001b[0;32m<ipython-input-64-422514f86210>\u001b[0m in \u001b[0;36mplot_heatmap\u001b[0;34m(img, heatmap, apply_softmax, norm_coords, labels)\u001b[0m\n\u001b[1;32m      1\u001b[0m \u001b[0;32mdef\u001b[0m \u001b[0mplot_heatmap\u001b[0m\u001b[0;34m(\u001b[0m\u001b[0mimg\u001b[0m\u001b[0;34m,\u001b[0m \u001b[0mheatmap\u001b[0m\u001b[0;34m,\u001b[0m \u001b[0mapply_softmax\u001b[0m\u001b[0;34m=\u001b[0m\u001b[0;32mTrue\u001b[0m\u001b[0;34m,\u001b[0m \u001b[0mnorm_coords\u001b[0m\u001b[0;34m=\u001b[0m\u001b[0;32mFalse\u001b[0m\u001b[0;34m,\u001b[0m \u001b[0mlabels\u001b[0m\u001b[0;34m=\u001b[0m\u001b[0;32mNone\u001b[0m\u001b[0;34m)\u001b[0m\u001b[0;34m:\u001b[0m\u001b[0;34m\u001b[0m\u001b[0;34m\u001b[0m\u001b[0m\n\u001b[0;32m----> 2\u001b[0;31m     \u001b[0mheatmap\u001b[0m \u001b[0;34m=\u001b[0m \u001b[0msharpen_heatmap\u001b[0m\u001b[0;34m(\u001b[0m\u001b[0mheatmap\u001b[0m\u001b[0;34m,\u001b[0m \u001b[0malpha\u001b[0m\u001b[0;34m=\u001b[0m\u001b[0;36m1\u001b[0m\u001b[0;34m)\u001b[0m\u001b[0;34m\u001b[0m\u001b[0;34m\u001b[0m\u001b[0m\n\u001b[0m\u001b[1;32m      3\u001b[0m     \u001b[0;32mif\u001b[0m \u001b[0mapply_softmax\u001b[0m\u001b[0;34m:\u001b[0m\u001b[0;34m\u001b[0m\u001b[0;34m\u001b[0m\u001b[0m\n\u001b[1;32m      4\u001b[0m             \u001b[0mheatmap\u001b[0m \u001b[0;34m=\u001b[0m \u001b[0mdsntnn\u001b[0m\u001b[0;34m.\u001b[0m\u001b[0mflat_softmax\u001b[0m\u001b[0;34m(\u001b[0m\u001b[0mheatmap\u001b[0m\u001b[0;34m)\u001b[0m\u001b[0;34m.\u001b[0m\u001b[0mcpu\u001b[0m\u001b[0;34m(\u001b[0m\u001b[0;34m)\u001b[0m\u001b[0;34m.\u001b[0m\u001b[0mnumpy\u001b[0m\u001b[0;34m(\u001b[0m\u001b[0;34m)\u001b[0m\u001b[0;34m\u001b[0m\u001b[0;34m\u001b[0m\u001b[0m\n\u001b[1;32m      5\u001b[0m     \u001b[0;32melse\u001b[0m\u001b[0;34m:\u001b[0m\u001b[0;34m\u001b[0m\u001b[0;34m\u001b[0m\u001b[0m\n",
      "\u001b[0;32m<ipython-input-63-400fc945ab76>\u001b[0m in \u001b[0;36msharpen_heatmap\u001b[0;34m(heatmap, alpha)\u001b[0m\n\u001b[1;32m     13\u001b[0m     \u001b[0mflat_map\u001b[0m \u001b[0;34m=\u001b[0m \u001b[0msharp_map\u001b[0m\u001b[0;34m.\u001b[0m\u001b[0mflatten\u001b[0m\u001b[0;34m(\u001b[0m\u001b[0;36m2\u001b[0m\u001b[0;34m)\u001b[0m\u001b[0;34m.\u001b[0m\u001b[0msum\u001b[0m\u001b[0;34m(\u001b[0m\u001b[0;34m-\u001b[0m\u001b[0;36m1\u001b[0m\u001b[0;34m)\u001b[0m\u001b[0;34m\u001b[0m\u001b[0;34m\u001b[0m\u001b[0m\n\u001b[1;32m     14\u001b[0m     \u001b[0mprint\u001b[0m\u001b[0;34m(\u001b[0m\u001b[0mflat_map\u001b[0m\u001b[0;34m.\u001b[0m\u001b[0mshape\u001b[0m\u001b[0;34m,\u001b[0m \u001b[0msharp_map\u001b[0m\u001b[0;34m.\u001b[0m\u001b[0mshape\u001b[0m\u001b[0;34m)\u001b[0m\u001b[0;34m\u001b[0m\u001b[0;34m\u001b[0m\u001b[0m\n\u001b[0;32m---> 15\u001b[0;31m     \u001b[0;32mreturn\u001b[0m \u001b[0msharp_map\u001b[0m\u001b[0;34m[\u001b[0m\u001b[0mflat_map\u001b[0m \u001b[0;34m!=\u001b[0m \u001b[0;36m0\u001b[0m\u001b[0;34m]\u001b[0m\u001b[0;34m[\u001b[0m\u001b[0;34m...\u001b[0m\u001b[0;34m,\u001b[0m \u001b[0;34m:\u001b[0m\u001b[0;34m,\u001b[0m \u001b[0;34m:\u001b[0m\u001b[0;34m]\u001b[0m\u001b[0;34m/\u001b[0m\u001b[0mflat_map\u001b[0m\u001b[0;34m\u001b[0m\u001b[0;34m\u001b[0m\u001b[0m\n\u001b[0m",
      "\u001b[0;31mRuntimeError\u001b[0m: The size of tensor a (512) must match the size of tensor b (14) at non-singleton dimension 2"
     ]
    }
   ],
   "source": [
    "for data in train_generator:\n",
    "    img = data['image'].to(device, dtype=torch.float32)\n",
    "    heatmap = data['heatmap'].to(device, dtype=torch.float32)\n",
    "    labels = data['labels'].to(device, dtype=torch.float32)\n",
    "    \n",
    "    plot_heatmap(img, heatmap, apply_softmax=False, norm_coords=True, labels=labels)\n",
    "    break"
   ]
  }
 ],
 "metadata": {
  "kernelspec": {
   "display_name": "Python 3",
   "language": "python",
   "name": "python3"
  },
  "language_info": {
   "codemirror_mode": {
    "name": "ipython",
    "version": 3
   },
   "file_extension": ".py",
   "mimetype": "text/x-python",
   "name": "python",
   "nbconvert_exporter": "python",
   "pygments_lexer": "ipython3",
   "version": "3.6.13"
  }
 },
 "nbformat": 4,
 "nbformat_minor": 5
}
