{
 "cells": [
  {
   "cell_type": "code",
   "execution_count": 1,
   "id": "86ef3ebe-c655-4d01-aaab-2be2bcbe9fa0",
   "metadata": {},
   "outputs": [],
   "source": [
    "import os\n",
    "import re\n",
    "import numpy as np\n",
    "import pandas as pd\n",
    "import matplotlib.pyplot as plt\n",
    "import seaborn as sns\n",
    "%matplotlib inline"
   ]
  },
  {
   "cell_type": "markdown",
   "id": "3c7be8d5-99d3-4c4f-a1da-77d32c39db20",
   "metadata": {},
   "source": [
    "## Prep. Sagittal data"
   ]
  },
  {
   "cell_type": "code",
   "execution_count": 2,
   "id": "2cb31eb7-6967-421e-a55c-53f0c0530dbb",
   "metadata": {},
   "outputs": [],
   "source": [
    "ordered_verts = ['T4', 'T5', 'T6', 'T7', 'T8', 'T9', 'T10', 'T11', 'T12', 'L1', 'L2', 'L3', 'L4']"
   ]
  },
  {
   "cell_type": "code",
   "execution_count": 7,
   "id": "0720e4ab-9686-48aa-b0c3-1a2a15720d02",
   "metadata": {},
   "outputs": [],
   "source": [
    "sag_path = '/home/donal/PhD/initial_spines/CT_models/data/all_verts/'\n",
    "data_list = '/home/donal/PhD/initial_spines/CT_models/data_lists/data_list_all_forviewing.txt'"
   ]
  },
  {
   "cell_type": "code",
   "execution_count": 31,
   "id": "f0f82c71-cc3a-479f-818e-c1be94728369",
   "metadata": {},
   "outputs": [],
   "source": [
    "def get_mask(pts_file):\n",
    "    #Get vert. body annotations\n",
    "    with open(pts_file, 'r') as f:\n",
    "        text = f.readlines()\n",
    "        lines = [line.strip() for line in text]\n",
    "        start = lines.index('{')\n",
    "        end = lines.index('}')\n",
    "        x = [float(x.split(' ')[0]) for x in lines[start+1:end]]\n",
    "        y = [float(x.split(' ')[1]) for x in lines[start+1:end]]\n",
    "        points = (x, y)\n",
    "    return points\n",
    "\n",
    "def get_id():\n",
    "    \"\"\"\n",
    "    Collect paths to point files, in a dict\n",
    "    \"\"\"\n",
    "    sag_files = [file for file in os.listdir(sag_path)]\n",
    "    pts_files = {}\n",
    "    with open(data_list, 'r') as f:\n",
    "        lines = f.readlines()\n",
    "        lines = [line.strip() for line in lines]\n",
    "        start = lines.index('{')\n",
    "        end = lines.index('}')\n",
    "        info_list = lines[start+1:end]\n",
    "        for line in info_list:\n",
    "            pts, img = line.split(':')\n",
    "            id_ = pts.split('.')[0]\n",
    "            vert_list = list(filter(lambda x: f'{id_}' in x, sag_files))\n",
    "            pts_files[id_] = vert_list\n",
    "    return pts_files\n",
    "\n",
    "def get_points(pts_files):\n",
    "    \"\"\"\n",
    "     Get + organise annotations\n",
    "    \"\"\"\n",
    "    mask_dict = {} #All landmark annotations for making a mask of vert.\n",
    "    for key, val in pts_files.items():\n",
    "        name = f'{key}_kj'\n",
    "        mask_dict[name] = {}\n",
    "        for elem in val:\n",
    "            # Iterate over available vert. annotations\n",
    "            # Find name of vertebra\n",
    "            name_split = re.findall('[0-9a-zA-Z][^A-Z]*',\n",
    "                                    os.path.splitext(elem)[0])\n",
    "            vert = name_split[-1].split('_')[0]\n",
    "            # Get all landmark point annotations\n",
    "            points = get_mask(os.path.join(sag_path, elem))\n",
    "            mask_dict[name][vert] = points\n",
    "    return mask_dict\n"
   ]
  },
  {
   "cell_type": "code",
   "execution_count": 25,
   "id": "62fb983d-01b5-4c8b-a56e-f950d21c5056",
   "metadata": {},
   "outputs": [
    {
     "name": "stdout",
     "output_type": "stream",
     "text": [
      "Found 402 points files\n",
      "Found 402 patients w. full vert. annotations.\n"
     ]
    }
   ],
   "source": [
    "pts_files = get_id()\n",
    "print(f'Found {len(list(pts_files.keys()))} points files')\n",
    "mask_dict = get_points(pts_files)\n",
    "print(f'Found {len(list(mask_dict.keys()))} patients w. full vert. annotations.')"
   ]
  },
  {
   "cell_type": "code",
   "execution_count": 44,
   "id": "63c515a0-d040-48b1-ad70-6778f24098ec",
   "metadata": {},
   "outputs": [
    {
     "data": {
      "text/plain": [
       "'01_06_2014_363_Sag_midline_ij_5mm_flop_kj'"
      ]
     },
     "execution_count": 44,
     "metadata": {},
     "output_type": "execute_result"
    }
   ],
   "source": [
    "list(mask_dict.keys())[0]"
   ]
  },
  {
   "cell_type": "code",
   "execution_count": 28,
   "id": "b3f4c474-cf54-4531-b6a8-96ccd170017a",
   "metadata": {},
   "outputs": [],
   "source": [
    "from sklearn.preprocessing import LabelBinarizer"
   ]
  },
  {
   "cell_type": "code",
   "execution_count": 52,
   "id": "5282cb7f-2fa0-4d0d-b432-e70c25af7cee",
   "metadata": {},
   "outputs": [],
   "source": [
    "def filter_masks(mask_dict, cor_points='../formatted_pts.csv', cor_dir='../data/parent_data/coronal_midline/mips/'):\n",
    "    # Remove files that don't have matching coronal midline annotations\n",
    "    # Since we can't extract sagittal midline\n",
    "    df = pd.read_csv(cor_points, index_col=0, header=0)\n",
    "    coronal_files = [file.split('.')[0] for file in os.listdir(cor_dir)]\n",
    "    files = [file for file in df.index if file.replace('_kj', '') in coronal_files]\n",
    "    print(len(files))\n",
    "    out_dict = {key: val for key}\n",
    "    "
   ]
  },
  {
   "cell_type": "code",
   "execution_count": 53,
   "id": "d32f9ffb-1785-4f31-95d7-ba948f225e21",
   "metadata": {},
   "outputs": [
    {
     "name": "stdout",
     "output_type": "stream",
     "text": [
      "300\n"
     ]
    }
   ],
   "source": [
    "vert_list = []\n",
    "# Convert vertebra names to one-hot\n",
    "for val in mask_dict.values():\n",
    "    vert_list.extend(list(val.keys()))\n",
    "all_verts = list(np.unique(vert_list))\n",
    "enc = LabelBinarizer()\n",
    "enc.fit(all_verts)\n",
    "enc.classes_ = ordered_verts\n",
    "# Remove files that don't have corresponding midline annotations\n",
    "filter_masks(mask_dict)"
   ]
  }
 ],
 "metadata": {
  "kernelspec": {
   "display_name": "Python 3",
   "language": "python",
   "name": "python3"
  },
  "language_info": {
   "codemirror_mode": {
    "name": "ipython",
    "version": 3
   },
   "file_extension": ".py",
   "mimetype": "text/x-python",
   "name": "python",
   "nbconvert_exporter": "python",
   "pygments_lexer": "ipython3",
   "version": "3.6.13"
  }
 },
 "nbformat": 4,
 "nbformat_minor": 5
}
