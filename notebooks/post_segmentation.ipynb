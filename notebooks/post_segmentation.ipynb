{
 "cells": [
  {
   "cell_type": "code",
   "execution_count": 1,
   "id": "1e677629-b6d1-47f0-80fb-9e6741d1b2f2",
   "metadata": {},
   "outputs": [],
   "source": [
    "import os \n",
    "import numpy as np\n",
    "import pandas as pd\n",
    "import matplotlib.pyplot as plt\n",
    "import seaborn as sns\n",
    "from ipywidgets import interact"
   ]
  },
  {
   "cell_type": "code",
   "execution_count": 2,
   "id": "18ebc79d-32af-4e14-9380-0c2a39952be6",
   "metadata": {},
   "outputs": [],
   "source": [
    "import matplotlib\n",
    "font = {'family' : 'serif',\n",
    "        'weight' : 'normal',\n",
    "        'size'   : 15}\n",
    "\n",
    "matplotlib.rc('font', **font)"
   ]
  },
  {
   "cell_type": "markdown",
   "id": "d72dcfbb-0be1-43e0-b813-6835cb6e2c81",
   "metadata": {},
   "source": [
    "# Vert body segmentation"
   ]
  },
  {
   "cell_type": "code",
   "execution_count": 3,
   "id": "ed7ef57d-bc8f-4a9c-80e3-f483c2da3379",
   "metadata": {},
   "outputs": [],
   "source": [
    "ordered_verts = ['T4', 'T5', 'T6', 'T7', 'T8', 'T9', 'T10', 'T11', 'T12', 'L1', 'L2', 'L3', 'L4']"
   ]
  },
  {
   "cell_type": "code",
   "execution_count": 4,
   "id": "f42cbf38-a80a-4e00-b75f-841fd6445c24",
   "metadata": {},
   "outputs": [
    {
     "name": "stdout",
     "output_type": "stream",
     "text": [
      "q4\n",
      "q2\n",
      "q3\n",
      "q1\n",
      "375 375\n"
     ]
    }
   ],
   "source": [
    "root_dir = '/data/PAB_data/vert_seg/'\n",
    "filename = 'vert_segmenter_preds.npz'\n",
    "\n",
    "pred_dict = {}\n",
    "gt_dict = {}\n",
    "fold_dict = {}\n",
    "img_dict = {}\n",
    "for root, dirs, files in os.walk(root_dir):\n",
    "    if filename in files:\n",
    "        fold = root.split('/')[-1]\n",
    "        print(fold)\n",
    "        pred = np.load(os.path.join(root, filename))\n",
    "        # Collect targets\n",
    "        tgt_path = os.path.join(root, 'targets')\n",
    "        for file in os.listdir(tgt_path):\n",
    "            name = file.split('.')[0]\n",
    "            gt_dict[name] = np.load(os.path.join(tgt_path, file))\n",
    "        # Collect input image\n",
    "        img_path = os.path.join(root, 'slices')\n",
    "        for file in os.listdir(img_path):\n",
    "            name = file.split('.')[0]\n",
    "            img_dict[name] = np.load(os.path.join(img_path, file))\n",
    "        # Collect predictions\n",
    "        for id_, mask in zip(pred['ids'], pred['masks']):\n",
    "            pred_dict[id_] = mask\n",
    "            fold_dict[id_] = fold\n",
    "print(len(pred_dict.keys()), len(list(gt_dict.keys())))"
   ]
  },
  {
   "cell_type": "code",
   "execution_count": 5,
   "id": "b62b8497-42d1-4489-ad28-1fa98f5009ff",
   "metadata": {},
   "outputs": [],
   "source": [
    "ids = list(pred_dict.keys())"
   ]
  },
  {
   "cell_type": "markdown",
   "id": "2d366805-d7a5-410f-b2bb-904d61e6aa18",
   "metadata": {},
   "source": [
    "## Check preds"
   ]
  },
  {
   "cell_type": "code",
   "execution_count": 6,
   "id": "de5e11ec-d26a-439e-9173-9bba23fb4c8d",
   "metadata": {},
   "outputs": [],
   "source": [
    "def plot_pred(name):\n",
    "    fig, ax = plt.subplots(1, 2, figsize=(20, 40))\n",
    "    pred = np.argmax(pred_dict[name], axis=0)\n",
    "    pred = np.where(pred == 0, np.nan, pred)\n",
    "    ax[0].axis('off')\n",
    "    ax[1].axis('off')\n",
    "    gt = gt_dict[name]\n",
    "    gt = np.where(gt == 0, np.nan, gt)\n",
    "    ax[0].imshow(img_dict[name], cmap='gray')\n",
    "    ax[0].imshow(pred, alpha=0.5)\n",
    "    ax[1].imshow(img_dict[name], cmap='gray')\n",
    "    ax[1].imshow(gt, alpha=0.5)\n",
    "    plt.subplots_adjust(wspace=0)"
   ]
  },
  {
   "cell_type": "code",
   "execution_count": 7,
   "id": "f86b5946-bd4f-4edc-aab9-8776d365b869",
   "metadata": {},
   "outputs": [],
   "source": [
    "def dice_coef(y_true, y_pred):\n",
    "    y_true_f = y_true.flatten()\n",
    "    y_pred_f = y_pred.flatten()\n",
    "    intersection = np.sum(y_true_f * y_pred_f)\n",
    "    smooth = 0.0001\n",
    "    return (2. * intersection + smooth) / (np.sum(y_true_f) + np.sum(y_pred_f) + smooth)\n",
    "\n",
    "def multi_class_dsc(pred, gt):\n",
    "    #pred = [14, H, W]\n",
    "    dsc_dict = {}\n",
    "    \n",
    "    pred_idx = np.unique(pred)\n",
    "    gt_idx = np.unique(gt)\n",
    "    pred_idx = np.delete(pred_idx, 0) -1 \n",
    "    gt_idx = np.delete(gt_idx, 0)-1\n",
    "    # Convert to one-hot\n",
    "    gt_hot = np.zeros((13, 13))\n",
    "    gt_hot[gt_idx, gt_idx] = 1\n",
    "    \n",
    "    pred_hot = np.zeros((13, 13))\n",
    "    pred_hot[pred_idx, pred_idx] = 1\n",
    "    \n",
    "    accuracy = pred_hot[gt_hot == 1].sum()/gt_hot[gt_hot==1].sum()\n",
    "    verts = [ordered_verts[idx] for idx in gt_idx]\n",
    "    pred_verts = [ordered_verts[idx] for idx in pred_idx]\n",
    "    for channel in range(14):\n",
    "        if channel == 0: \n",
    "            continue\n",
    "        vert = ordered_verts[channel-1]\n",
    "        tmp_pred = np.where(pred == channel, 1, 0)\n",
    "        tmp_gt = np.where(gt==channel, 1, 0)\n",
    "        dsc_dict[vert] = np.round(dice_coef(tmp_gt, tmp_pred), 4)\n",
    "    dsc_df = pd.DataFrame(index=ordered_verts, columns=['Dice', 'GT', 'Pred'])\n",
    "    \n",
    "    gt_dict = {}\n",
    "    for vert in ordered_verts:\n",
    "        if vert in verts:\n",
    "            gt_dict[vert] = 1\n",
    "        else: \n",
    "            gt_dict[vert] = 0\n",
    "    gt_srs = pd.Series(gt_dict)\n",
    "    \n",
    "    pred_dict = {}\n",
    "    for vert in ordered_verts:\n",
    "        if vert in pred_verts:\n",
    "            pred_dict[vert] = 1\n",
    "        else:\n",
    "            pred_dict[vert] = 0\n",
    "    pred_srs = pd.Series(pred_dict)\n",
    "    \n",
    "    dsc_df['Dice'] = pd.Series(dsc_dict)\n",
    "    dsc_df['GT'] = gt_srs\n",
    "    dsc_df['Pred'] = pred_srs\n",
    "    return dsc_df, accuracy\n",
    "    \n",
    "def get_dice(name, plot=False):\n",
    "    pred = np.argmax(pred_dict[name], axis=0)\n",
    "    gt = gt_dict[name]\n",
    "    dsc_df, accuracy = multi_class_dsc(pred, gt)\n",
    "    if plot:\n",
    "        plot_pred(name)\n",
    "    return dsc_df, accuracy"
   ]
  },
  {
   "cell_type": "code",
   "execution_count": 8,
   "id": "acc58ab9-7127-4f85-a709-f185021c8dbc",
   "metadata": {},
   "outputs": [
    {
     "data": {
      "text/html": [
       "<div>\n",
       "<style scoped>\n",
       "    .dataframe tbody tr th:only-of-type {\n",
       "        vertical-align: middle;\n",
       "    }\n",
       "\n",
       "    .dataframe tbody tr th {\n",
       "        vertical-align: top;\n",
       "    }\n",
       "\n",
       "    .dataframe thead th {\n",
       "        text-align: right;\n",
       "    }\n",
       "</style>\n",
       "<table border=\"1\" class=\"dataframe\">\n",
       "  <thead>\n",
       "    <tr style=\"text-align: right;\">\n",
       "      <th></th>\n",
       "      <th>T4</th>\n",
       "      <th>T5</th>\n",
       "      <th>T6</th>\n",
       "      <th>T7</th>\n",
       "      <th>T8</th>\n",
       "      <th>T9</th>\n",
       "      <th>T10</th>\n",
       "      <th>T11</th>\n",
       "      <th>T12</th>\n",
       "      <th>L1</th>\n",
       "      <th>L2</th>\n",
       "      <th>L3</th>\n",
       "      <th>L4</th>\n",
       "    </tr>\n",
       "  </thead>\n",
       "  <tbody>\n",
       "    <tr>\n",
       "      <th>0</th>\n",
       "      <td>0.0000</td>\n",
       "      <td>0.0000</td>\n",
       "      <td>0.0000</td>\n",
       "      <td>0.0000</td>\n",
       "      <td>0.6425</td>\n",
       "      <td>0.8464</td>\n",
       "      <td>0.4774</td>\n",
       "      <td>0.9185</td>\n",
       "      <td>0.9499</td>\n",
       "      <td>0.9516</td>\n",
       "      <td>0.9411</td>\n",
       "      <td>0.9694</td>\n",
       "      <td>0.9827</td>\n",
       "    </tr>\n",
       "    <tr>\n",
       "      <th>1</th>\n",
       "      <td>0.0000</td>\n",
       "      <td>0.0000</td>\n",
       "      <td>0.0000</td>\n",
       "      <td>0.8121</td>\n",
       "      <td>0.1941</td>\n",
       "      <td>0.0000</td>\n",
       "      <td>0.8079</td>\n",
       "      <td>0.5733</td>\n",
       "      <td>0.9713</td>\n",
       "      <td>0.8703</td>\n",
       "      <td>0.9458</td>\n",
       "      <td>0.9333</td>\n",
       "      <td>0.9232</td>\n",
       "    </tr>\n",
       "    <tr>\n",
       "      <th>2</th>\n",
       "      <td>0.0000</td>\n",
       "      <td>0.0000</td>\n",
       "      <td>0.0496</td>\n",
       "      <td>0.8455</td>\n",
       "      <td>0.6836</td>\n",
       "      <td>0.7990</td>\n",
       "      <td>0.0000</td>\n",
       "      <td>0.0000</td>\n",
       "      <td>0.6584</td>\n",
       "      <td>0.2462</td>\n",
       "      <td>0.6422</td>\n",
       "      <td>0.9622</td>\n",
       "      <td>0.9495</td>\n",
       "    </tr>\n",
       "    <tr>\n",
       "      <th>3</th>\n",
       "      <td>0.5263</td>\n",
       "      <td>0.6582</td>\n",
       "      <td>0.3484</td>\n",
       "      <td>0.3787</td>\n",
       "      <td>0.0000</td>\n",
       "      <td>0.8536</td>\n",
       "      <td>0.8761</td>\n",
       "      <td>0.8106</td>\n",
       "      <td>0.0787</td>\n",
       "      <td>0.9607</td>\n",
       "      <td>0.9621</td>\n",
       "      <td>0.9593</td>\n",
       "      <td>0.9571</td>\n",
       "    </tr>\n",
       "    <tr>\n",
       "      <th>4</th>\n",
       "      <td>0.2244</td>\n",
       "      <td>0.6702</td>\n",
       "      <td>0.6297</td>\n",
       "      <td>0.8071</td>\n",
       "      <td>0.0000</td>\n",
       "      <td>0.0000</td>\n",
       "      <td>0.4914</td>\n",
       "      <td>0.9539</td>\n",
       "      <td>0.0000</td>\n",
       "      <td>0.0000</td>\n",
       "      <td>0.0000</td>\n",
       "      <td>0.9649</td>\n",
       "      <td>0.9659</td>\n",
       "    </tr>\n",
       "  </tbody>\n",
       "</table>\n",
       "</div>"
      ],
      "text/plain": [
       "       T4      T5      T6      T7      T8      T9     T10     T11     T12  \\\n",
       "0  0.0000  0.0000  0.0000  0.0000  0.6425  0.8464  0.4774  0.9185  0.9499   \n",
       "1  0.0000  0.0000  0.0000  0.8121  0.1941  0.0000  0.8079  0.5733  0.9713   \n",
       "2  0.0000  0.0000  0.0496  0.8455  0.6836  0.7990  0.0000  0.0000  0.6584   \n",
       "3  0.5263  0.6582  0.3484  0.3787  0.0000  0.8536  0.8761  0.8106  0.0787   \n",
       "4  0.2244  0.6702  0.6297  0.8071  0.0000  0.0000  0.4914  0.9539  0.0000   \n",
       "\n",
       "       L1      L2      L3      L4  \n",
       "0  0.9516  0.9411  0.9694  0.9827  \n",
       "1  0.8703  0.9458  0.9333  0.9232  \n",
       "2  0.2462  0.6422  0.9622  0.9495  \n",
       "3  0.9607  0.9621  0.9593  0.9571  \n",
       "4  0.0000  0.0000  0.9649  0.9659  "
      ]
     },
     "execution_count": 8,
     "metadata": {},
     "output_type": "execute_result"
    }
   ],
   "source": [
    "dsc_dict = {vert: [] for vert in ordered_verts}\n",
    "accuracy = {}\n",
    "for name in ids:\n",
    "    dsc = get_dice(name)\n",
    "    dsc, acc = dsc \n",
    "    dice = dsc[(dsc['Pred'] == 1)&(dsc['GT'] == 1)]['Dice']\n",
    "    for vert, val in dice.iteritems():\n",
    "        dsc_dict[vert].append(val)\n",
    "    accuracy[name] = acc\n",
    "dsc_df = pd.DataFrame.from_dict(dsc_dict, orient='index')\n",
    "dsc_df.T.head()"
   ]
  },
  {
   "cell_type": "code",
   "execution_count": 9,
   "id": "065a5115-b546-4b28-aec6-f1e713a3ef9d",
   "metadata": {},
   "outputs": [
    {
     "data": {
      "text/plain": [
       "<matplotlib.legend.Legend at 0x7f741451feb8>"
      ]
     },
     "execution_count": 9,
     "metadata": {},
     "output_type": "execute_result"
    },
    {
     "data": {
      "image/png": "[encoded data removed]",
      "text/plain": [
       "<Figure size 1440x720 with 1 Axes>"
      ]
     },
     "metadata": {
      "needs_background": "light"
     },
     "output_type": "display_data"
    }
   ],
   "source": [
    "fig, ax = plt.subplots(1, 1, figsize=(20, 10))\n",
    "for vert in dsc_df.index:\n",
    "    subset = 1-dsc_df.loc[vert].dropna()\n",
    "    sns.ecdfplot(data=subset, label=vert)\n",
    "ax.axhline(0.5, c='k', ls='--')\n",
    "ax.set_xlabel('1-DSC')\n",
    "plt.legend(ncol=2)"
   ]
  },
  {
   "cell_type": "code",
   "execution_count": 10,
   "id": "e9839715-81ad-4fb1-86e5-042eb55d9e61",
   "metadata": {},
   "outputs": [
    {
     "data": {
      "text/plain": [
       "Text(0.5, 0, '1-Accuracy')"
      ]
     },
     "execution_count": 10,
     "metadata": {},
     "output_type": "execute_result"
    },
    {
     "data": {
      "image/png": "[encoded data removed]",
      "text/plain": [
       "<Figure size 1080x720 with 1 Axes>"
      ]
     },
     "metadata": {
      "needs_background": "light"
     },
     "output_type": "display_data"
    }
   ],
   "source": [
    "fig, ax = plt.subplots(1, 1, figsize=(15, 10))\n",
    "sns.ecdfplot(data=1-np.array(list(accuracy.values())))\n",
    "ax.set_xlabel('1-Accuracy')"
   ]
  }
 ],
 "metadata": {
  "kernelspec": {
   "display_name": "Python 3",
   "language": "python",
   "name": "python3"
  },
  "language_info": {
   "codemirror_mode": {
    "name": "ipython",
    "version": 3
   },
   "file_extension": ".py",
   "mimetype": "text/x-python",
   "name": "python",
   "nbconvert_exporter": "python",
   "pygments_lexer": "ipython3",
   "version": "3.6.13"
  }
 },
 "nbformat": 4,
 "nbformat_minor": 5
}
