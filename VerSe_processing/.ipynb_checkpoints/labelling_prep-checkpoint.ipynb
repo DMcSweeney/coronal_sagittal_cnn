{
 "cells": [
  {
   "cell_type": "code",
   "execution_count": 4,
   "id": "38cc9468-d770-4c10-9732-cfee4f3880e0",
   "metadata": {},
   "outputs": [],
   "source": [
    "import os\n",
    "import numpy as np\n",
    "import seaborn as sns\n",
    "import pandas as pd\n",
    "import matplotlib.pyplot as plt\n",
    "import SimpleITK as sitk"
   ]
  },
  {
   "cell_type": "markdown",
   "id": "5a96a002-b5d5-4830-90e8-7087f3630d2b",
   "metadata": {},
   "source": [
    "## Prepare level labelling with VerSe data"
   ]
  },
  {
   "cell_type": "code",
   "execution_count": 3,
   "id": "2cfe7402-75b1-4587-8198-b229e5142079",
   "metadata": {},
   "outputs": [
    {
     "ename": "SyntaxError",
     "evalue": "invalid syntax (<ipython-input-3-20c8df04097c>, line 3)",
     "output_type": "error",
     "traceback": [
      "\u001b[0;36m  File \u001b[0;32m\"<ipython-input-3-20c8df04097c>\"\u001b[0;36m, line \u001b[0;32m3\u001b[0m\n\u001b[0;31m    if files.endswith('.zip'): print(files) continue\u001b[0m\n\u001b[0m                                                   ^\u001b[0m\n\u001b[0;31mSyntaxError\u001b[0m\u001b[0;31m:\u001b[0m invalid syntax\n"
     ]
    }
   ],
   "source": [
    "root_dir = '/data/VerSe/training/rawdata'\n",
    "for root, dirs, files in os.walk(root_dir):\n",
    "    if files.endswith('.zip'): \n",
    "        print(files) \n",
    "        continue\n",
    "    if 'rawdata' in root:\n",
    "        #Process images\n",
    "        for file in files:\n",
    "            if file.endswith('.nii.gz'):\n",
    "                name = file.split('.')[0]\n",
    "                img = sitk.ReadImage(os.path.join(root, file))\n",
    "        "
   ]
  }
 ],
 "metadata": {
  "kernelspec": {
   "display_name": "Python 3",
   "language": "python",
   "name": "python3"
  },
  "language_info": {
   "codemirror_mode": {
    "name": "ipython",
    "version": 3
   },
   "file_extension": ".py",
   "mimetype": "text/x-python",
   "name": "python",
   "nbconvert_exporter": "python",
   "pygments_lexer": "ipython3",
   "version": "3.6.13"
  }
 },
 "nbformat": 4,
 "nbformat_minor": 5
}
